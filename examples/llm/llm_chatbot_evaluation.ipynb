{
 "cells": [
  {
   "cell_type": "markdown",
   "id": "ababae28-5ec9-4b0c-a3c4-71632da0666f",
   "metadata": {},
   "source": [
    "# Using DataChain for LLM evaluations\n",
    "\n",
    "This notebook will show how to use DataChain for common LLM-judging-LLM cases, including how to:\n",
    "\n",
    "- [Re-organizing text samples from CSV table](#ingesting)\n",
    "- [Placing LLM API calls over input data](#processing)\n",
    "- [Collecting Pydantic objects from LLM responses](#pydantic)\n",
    "- [Comparative LLM analytics](#analytics)"
   ]
  },
  {
   "cell_type": "markdown",
   "id": "d3728915-c29b-4a55-a52e-99320a21fbfc",
   "metadata": {},
   "source": [
    "## Setup\n",
    "\n",
    "To start, install the dependencies and import the LLM packages. To run these examples, your will need an [API key from Mistral AI](https://console.mistral.ai/user/api-keys/ \"Mistral console\") (free) and [Anthropic](https://console.anthropic.com/login \"Anthropic console\") (paid). If you do not have an Anthropic key, these examples can be skipped."
   ]
  },
  {
   "cell_type": "code",
   "execution_count": 2,
   "id": "847dba44-f2c3-4d48-ba42-bf7b15b6862e",
   "metadata": {
    "scrolled": true
   },
   "outputs": [
    {
     "name": "stdout",
     "output_type": "stream",
     "text": [
      "Requirement already satisfied: proto-plus<2.0.0dev,>=1.22.3 in /Users/dkh/datachain/venv/datachain/lib/python3.9/site-packages (from google-api-core<3.0.0dev,>=2.15.0->google-cloud-storage->gcsfs>=2024.2.0->datachain) (1.24.0)\n",
      "Requirement already satisfied: PyJWT<3,>=1.0.0 in /Users/dkh/datachain/venv/datachain/lib/python3.9/site-packages (from PyJWT[crypto]<3,>=1.0.0->msal<2,>=1.16.0->azure-datalake-store<0.1,>=0.0.46->adlfs>=2024.2.0->datachain) (2.8.0)\n",
      "Requirement already satisfied: portalocker<3,>=1.4 in /Users/dkh/datachain/venv/datachain/lib/python3.9/site-packages (from msal-extensions>=0.3.0->azure-identity->adlfs>=2024.2.0->datachain) (2.10.0)\n",
      "Requirement already satisfied: pyasn1<0.7.0,>=0.4.6 in /Users/dkh/datachain/venv/datachain/lib/python3.9/site-packages (from pyasn1-modules>=0.2.1->google-auth>=1.2->gcsfs>=2024.2.0->datachain) (0.6.0)\n",
      "Requirement already satisfied: oauthlib>=3.0.0 in /Users/dkh/datachain/venv/datachain/lib/python3.9/site-packages (from requests-oauthlib>=0.7.0->google-auth-oauthlib->gcsfs>=2024.2.0->datachain) (3.2.2)\n",
      "Installing collected packages: typing\n",
      "Successfully installed typing-3.7.4.3\n"
     ]
    }
   ],
   "source": [
    "# $ export MISTRAL_API_KEY = <your API key here>\n",
    "# $ export ANTHROPIC_API_KEY = <your API key here>\n",
    "\n",
    "!pip install datachain mistralai anthropic pydantic matplotlib scikit-learn"
   ]
  },
  {
   "cell_type": "code",
   "execution_count": 1,
   "id": "8d227105-59dc-4398-863a-510f52a06f2a",
   "metadata": {},
   "outputs": [],
   "source": [
    "import os\n",
    "\n",
    "from datachain.lib.dc import Column, DataChain\n",
    "from datachain.lib.data_model import DataModel\n",
    "\n",
    "from pydantic import BaseModel\n"
   ]
  },
  {
   "cell_type": "markdown",
   "id": "cd0c6c9b-a951-45cb-99b9-233dccc69c46",
   "metadata": {},
   "source": [
    "<a id='ingesting'></a>\n",
    "## Organizing text samples \n",
    "\n",
    "We will be using a dataset from [Karlsruhe Institute of Technology](https://radar.kit.edu/radar/en/dataset/FdJmclKpjHzLfExE.ExpBot%2B-%2BA%2Bdataset%2Bof%2B79%2Bdialogs%2Bwith%2Ban%2Bexperimental%2Bcustomer%2Bservice%2Bchatbot) which captures interactions between human experiment participants and a simple chatbot programmed to offer them a new mobile service plan. \n",
    "\n",
    "Evaluating the performance of a chatbot with another LLM is a common workflow and a cornerstone of many agentic applications. The task here is to go over the recorded conversations and evaluate the chatbot performance. In our particular application, the original dataset is in CSV format, similar to the below:\n",
    "\n",
    "| id | count | sender | text |\n",
    "|----------|----------|----------|----------|\n",
    "| 1 | 1 | bot | Hey there! |\n",
    "| 1 | 2 | bot | I'm a chatbot that helps you find a new mobile phone plan. What can I do for you?|\n",
    "| 1 | 3 |user | Hi :) I need a phone plan with more MB and less minutes |\n",
    "| 1 | 4 |bot | Okay, let's start! First, I need some information about your current mobile phone plan: |\n",
    "\n",
    "In the table above, every line corresponds to one utterance of the dialog. Lines sharing the \"id\" field belong to the same conversation.\n",
    "\n",
    "For our purposes, we want to group all lines that belong to the same conversation into one text block to be read by an LLM. We can do this by first parsing the CSV file at the original storage location, and then using an aggregator to reformat CSV lines into a new data model:"
   ]
  },
  {
   "cell_type": "code",
   "execution_count": 2,
   "id": "52e1fc1c-2347-490d-9f6c-1d36cc2555ce",
   "metadata": {},
   "outputs": [
    {
     "name": "stderr",
     "output_type": "stream",
     "text": [
      "Listing gs://datachain-demo: 1 objects [00:00,  7.21 objects/s]\n",
      "Processed: 1 rows [00:00, 601.77 rows/s]\n",
      "Processed: 1 rows [00:00, 724.03 rows/s]\n",
      "Parsed by pyarrow: 3594 rows [00:00, 3859.13 rows/s]\n",
      "Processed: 0 rows [00:00, ? rows/s]\n",
      "Processed: 1 rows [00:00,  8.03 rows/s]\n",
      "Generated: 3594 rows [00:00, 29056.03 rows/s]\n",
      "Processed: 0 rows [00:00, ? rows/s]\n",
      "Processed: 3594 rows [00:00, 68316.59 rows/s]\n",
      "Generated: 79 rows [00:00, 1544.24 rows/s]\n"
     ]
    }
   ],
   "source": [
    "class Dialog(BaseModel):\n",
    "    id: int\n",
    "    text: str\n",
    "\n",
    "def text_block(id: str, sender: str, text: str) -> Dialog:\n",
    "    columns = zip(text, sender)\n",
    "    conversation = \"\"\n",
    "    for text, sender in columns:\n",
    "       conversation = \"\\n \".join([conversation,f\"{sender}: {text}\"])\n",
    "    yield Dialog(id=id[0], text=conversation) \n",
    "\n",
    "chain = DataChain.from_csv(\"gs://datachain-demo/chatbot-csv/\").agg(text_block, output={\"dialog\": Dialog}, partition_by=\"id\").save()\n"
   ]
  },
  {
   "cell_type": "markdown",
   "id": "b24aa885-632f-45d4-87b1-ac694bf5b194",
   "metadata": {},
   "source": [
    "Now we should have collected 79 separate dialogs:"
   ]
  },
  {
   "cell_type": "code",
   "execution_count": 3,
   "id": "6283420e-4493-4ed5-a9c0-948f23af1653",
   "metadata": {},
   "outputs": [
    {
     "data": {
      "text/plain": [
       "79"
      ]
     },
     "execution_count": 3,
     "metadata": {},
     "output_type": "execute_result"
    }
   ],
   "source": [
    "chain.count()"
   ]
  },
  {
   "cell_type": "markdown",
   "id": "b79f019f-c434-4988-8bd8-ee669d380caa",
   "metadata": {},
   "source": [
    "The schema for these dialogs should be provided by our Dialog class"
   ]
  },
  {
   "cell_type": "code",
   "execution_count": 4,
   "id": "149799a5-b0f3-4f28-a282-f9683829db00",
   "metadata": {},
   "outputs": [
    {
     "name": "stdout",
     "output_type": "stream",
     "text": [
      " dialog: Dialog\n",
      "     id: int\n",
      "     text: str\n"
     ]
    }
   ],
   "source": [
    "chain.print_schema()"
   ]
  },
  {
   "cell_type": "markdown",
   "id": "b890f81c-6860-448d-9e3d-35e90fd023ce",
   "metadata": {},
   "source": [
    "Finally, every dataset sample should capture the entire dialog as a text block:"
   ]
  },
  {
   "cell_type": "code",
   "execution_count": 5,
   "id": "ec9a0fa0-1581-4d8b-a6d1-9beab1fcdb20",
   "metadata": {},
   "outputs": [
    {
     "name": "stdout",
     "output_type": "stream",
     "text": [
      "\n",
      " bot: Hey there!\n",
      " bot: I'm a chatbot that helps you find a new mobile phone plan. What can I do for you?\n",
      " user: Hi :) I need a phone plan with more MB and less minutes\n",
      " bot: Okay, let's start! First, I need some information about your current mobile phone plan:\n",
      " bot: Who's your current mobile phone provider?\n",
      " user: SuperMobile\n",
      " bot: Okay. Which mobile phone plan do you have?\n",
      " user: Yellow Basic 1000\n",
      " bot: How much did you pay in total last month?\n",
      " user: 32.29 euro\n",
      " bot: Got it. How many minutes have you spent on the phone last month (national calls)?\n",
      " user: 652 minutes\n",
      " bot: How many text messages did you send last month?\n",
      " user: 23\n",
      " bot: How much data did you use last month?\n",
      " user: 1450\n",
      " bot: Do you often travel outside of Europe?\n",
      " user: no\n",
      " bot: Okay, final question: How much are you willing to spend on a mobile phone plan per month?\n",
      " user: not more than 30 €\n",
      " bot: Thanks, here are your information again:\n",
      " bot: Currently, you pay 32.29 € for a SuperMobile Yellow Basic 1000 plan. Last month, you spent 652 minutes on the phone, sent 23 messages, and used 1.45 GB of data. You rarely travel outside of Europe. In total, you don't want to pay more than 30 €.\n",
      " bot: Is that correct?\n",
      " user: correct\n",
      " bot: Sorry, I didn't get that. Please try again.\n",
      " user: yes it is\n",
      " bot: Alright, I'm looking for a better plan for you now. Stay tuned!\n",
      " bot: So, here is the best plan for you: Tele8 offers a plan called Orange XL for 25 € per month. It comes with unlimited national calls, but without inclusive international minutes and free text messages. You would also get 2 GB of high-speed data!\n",
      " bot: Sounds good? I hope I could help you find a better mobile phone plan. If you want to try again, you can ask me anytime. Have a nice day!\n"
     ]
    }
   ],
   "source": [
    "first_dialog = next(chain.collect(\"dialog\"))\n",
    "print(first_dialog.text)"
   ]
  },
  {
   "cell_type": "markdown",
   "id": "d0635407-3894-418a-b61f-b0b7b7b83a6b",
   "metadata": {},
   "source": [
    "##### <a id='processing'></a>\n",
    "## Placing LLM API calls over input data\n",
    "\n",
    "Now it is time to run our LLM evaluation. Let's ask a simple eval question: \"Was this dialog successful\"?\n",
    "Note, this question is a bit open-ended because we have not provided the explicit success criteria; our goal is just to show the setup.\n",
    "\n",
    "To speed things up, we can run up to 5 (maximum allowed by Mistral in a basic subscription) API calls at once. Higher rate limits are possible in the paid tiers of most providers. Modern Python APIs can also provide Pydantic models for responses, so we will take an advantage of this:"
   ]
  },
  {
   "cell_type": "code",
   "execution_count": 43,
   "id": "0b4bced2-e44e-4059-8579-45ea799427dc",
   "metadata": {},
   "outputs": [
    {
     "name": "stderr",
     "output_type": "stream",
     "text": [
      "Processed: 79 rows [00:37,  2.12 rows/s]\n"
     ]
    }
   ],
   "source": [
    "from mistralai.client import MistralClient\n",
    "from mistralai.models.chat_completion import ChatMessage\n",
    "from mistralai.models.chat_completion import ChatCompletionResponse as MistralModel\n",
    "\n",
    "DataModel.register(MistralModel)\n",
    "\n",
    "prompt = \"Was this dialog successful? Describe the 'result' with values 'Yes' or 'No' in a short JSON. Example: {'result': 'Yes'}\"\n",
    "api_key = os.environ[\"MISTRAL_API_KEY\"]\n",
    "\n",
    "llm_mistral = (\n",
    "    chain\n",
    "    .settings(parallel=4, cache=True)\n",
    "    .setup(mistral_client= lambda: MistralClient(api_key=api_key))\n",
    "    .map(\n",
    "       mistral=lambda dialog, mistral_client: mistral_client.chat(\n",
    "                                          model=\"open-mixtral-8x22b\",\n",
    "                                          response_format={\"type\": \"json_object\"},\n",
    "                                          messages= [\n",
    "                                             ChatMessage(role=\"system\", content=f\"{prompt}\"),\n",
    "                                             ChatMessage(role=\"user\", content=f\"{dialog.text}\")\n",
    "                                          ]\n",
    "                            ),\n",
    "       output=MistralModel\n",
    "    )\n",
    "    .save(\"llm-mistral\")\n",
    ")\n"
   ]
  },
  {
   "cell_type": "markdown",
   "id": "dd543116-59d0-4a9a-8af4-029509df93c0",
   "metadata": {},
   "source": [
    "Now all 79 dialogs have been processed, let us check the chain schema:"
   ]
  },
  {
   "cell_type": "code",
   "execution_count": 7,
   "id": "5d38494d-98c5-42f6-9471-889a53e91006",
   "metadata": {},
   "outputs": [
    {
     "name": "stdout",
     "output_type": "stream",
     "text": [
      " dialog: Dialog\n",
      "     id: int\n",
      "     text: str\n",
      " mistral: ChatCompletionResponse\n",
      "     id: str\n",
      "     object: str\n",
      "     created: int\n",
      "     model: str\n",
      "     choices: list[ChatCompletionResponseChoice]\n",
      "         * list of: ChatCompletionResponseChoice\n",
      "             index: int\n",
      "             message: ChatMessage\n",
      "                 role: str\n",
      "                 content: str\n",
      "                 name: Union[str, NoneType]\n",
      "                 tool_calls: Union[list[ToolCall], NoneType]\n",
      "                 tool_call_id: Union[str, NoneType]\n",
      "             finish_reason: Union[FinishReason, NoneType]\n",
      "     usage: UsageInfo\n",
      "         prompt_tokens: int\n",
      "         total_tokens: int\n",
      "         completion_tokens: Union[int, NoneType]\n"
     ]
    }
   ],
   "source": [
    "llm_mistral.print_schema()"
   ]
  },
  {
   "cell_type": "markdown",
   "id": "2756e03a-a909-420b-9578-727e28a7c560",
   "metadata": {},
   "source": [
    "<a id='pydantic'></a>\n",
    "## Collecting Pydantic objects from LLM responses\n",
    "\n",
    "As we see, there is a new object of the type \"ChatCompletionResponse\" which came from Mistral's Pydantic model.\n",
    "We can collect these objects in an iterator and examine it:\n"
   ]
  },
  {
   "cell_type": "code",
   "execution_count": 44,
   "id": "cfee8951-3538-4479-a92e-017bec1f4e7d",
   "metadata": {},
   "outputs": [
    {
     "name": "stdout",
     "output_type": "stream",
     "text": [
      "id='a4247b04d5914e24aaa148141d9161e9' object='chat.completion' created=1722375527 model='open-mixtral-8x22b' choices=[ChatCompletionResponseChoice(index=0, message=ChatMessage(role='assistant', content='{\"result\": \"Yes\"}', name=None, tool_calls=None, tool_call_id=None), finish_reason=<FinishReason.stop: 'stop'>)] usage=UsageInfo(prompt_tokens=535, total_tokens=541, completion_tokens=6)\n"
     ]
    }
   ],
   "source": [
    "iter = llm_mistral.collect(\"mistral\")\n",
    "print(next(iter))"
   ]
  },
  {
   "cell_type": "markdown",
   "id": "146bf502-215a-4970-a00a-0412ae4b8b14",
   "metadata": {},
   "source": [
    "Here is the complete list of all remaining evaluations:"
   ]
  },
  {
   "cell_type": "code",
   "execution_count": 45,
   "id": "85332bee-7338-42f7-b853-c7a3da548a64",
   "metadata": {},
   "outputs": [
    {
     "name": "stdout",
     "output_type": "stream",
     "text": [
      "{\"result\": \"Yes\"} {\"result\": \"No\"} {\"result\": \"Yes\"} {\"result\": \"No\"} {\"result\": \"Yes\"} {\"result\": \"Yes\"} {\"result\": \"Yes\"} {\"result\": \"Yes\"} {\"result\": \"No\"} {\"result\": \"No\"} {\"result\": \"No\"} {\"result\": \"Yes\"} {\"result\": \"No\"} {\"result\": \"Yes\"} {\"result\": \"Yes\"} {\"result\": \"No\"} {\"result\": \"Yes\"} {\"result\": \"Yes\"} {\"result\": \"No\"} {\"result\": \"Yes\"} {\"result\": \"Yes\"} {\"result\": \"No\"} {\"result\": \"Yes\"} {\"result\": \"Yes\"} {\"result\": \"No\"} {\"result\": \"Yes\"} {\"result\": \"Yes\"} {\"result\": \"Yes\"} {\"result\": \"No\"} {\"result\": \"No\"} {\"result\": \"No\"} {\"result\": \"Yes\"} {\"result\": \"Yes\"} {\"result\": \"Yes\"} {\"result\": \"Yes\"} {\"result\": \"Yes\"} {\"result\": \"No\"} {\"result\": \"Yes\"} {\"result\": \"Yes\"} {\"result\": \"Yes\"} {\"result\": \"Yes\"} {\"result\": \"Yes\"} {\"result\": \"Yes\"} {\"result\": \"Yes\"} {\"result\": \"Yes\"} {\"result\": \"No\"} {\"result\": \"Yes\"} {\"result\": \"Yes\"} {\"result\": \"Yes\"} {\"result\": \"Yes\"} {\"result\": \"Yes\"} {\"result\": \"Yes\"} {\"result\": \"No\"} {\"result\": \"No\"} {\"result\": \"No\"} {\"result\": \"Yes\"} {\"result\": \"Yes\"} {\"result\": \"Yes\"} {\"result\": \"Yes\"} {\"result\": \"Yes\"} {\"result\": \"Yes\"} {\"result\": \"Yes\"} {\"result\": \"Yes\"} {\"result\": \"Yes\"} {\"result\": \"No\"} {\"result\": \"Yes\"} {\"result\": \"Yes\"} {\"result\": \"No\"} {\"result\": \"Yes\"} {\"result\": \"Yes\"} {\"result\": \"No\"} {\"result\": \"Yes\"} {\"result\": \"Yes\"} {\"result\": \"Yes\"} {\"result\": \"Yes\"} {\"result\": \"Yes\"} {\"result\": \"Yes\"} {\"result\": \"Yes\"}\n"
     ]
    }
   ],
   "source": [
    "print(*map(lambda chat_response: chat_response.choices[0].message.content, iter))"
   ]
  },
  {
   "cell_type": "markdown",
   "id": "f0f56e22-6a57-48d2-9563-65a03395d933",
   "metadata": {},
   "source": [
    "<a id='analytics'></a>\n",
    "## Comparative LLM analytics\n",
    "\n",
    "One frequent situation during LLM evaluations or building agentic systems is the need to assess several LLM models at once. This can be done to assess their relative performance; construct mixtures of experts of several weaker models, etc.\n",
    "\n",
    "This task is straightforward on DataChain because the intermediate dataset results can be easily saved and analytical queries are vectorized. For example, let us add an execution run of Anthropic LLM model to the chain:"
   ]
  },
  {
   "cell_type": "code",
   "execution_count": 46,
   "id": "6dcc61c5-c4ad-4f3e-8af0-94f75538a817",
   "metadata": {},
   "outputs": [
    {
     "name": "stderr",
     "output_type": "stream",
     "text": [
      "Processed: 79 rows [01:48,  1.38s/ rows]\n"
     ]
    }
   ],
   "source": [
    "import os\n",
    "#import typing\n",
    "\n",
    "import anthropic\n",
    "from anthropic.types.message import Message as ClaudeModel\n",
    "\n",
    "from mistralai.models.chat_completion import ChatMessage\n",
    "from mistralai.models.chat_completion import ChatCompletionResponse\n",
    "\n",
    "from datachain.lib.dc import Column, DataChain\n",
    "from datachain.lib.data_model import DataModel\n",
    "\n",
    "\n",
    "from pydantic import BaseModel\n",
    "\n",
    "class Dialog(BaseModel):\n",
    "    id: int\n",
    "    text: str\n",
    "\n",
    "claude_api_key = os.environ[\"ANTHROPIC_API_KEY\"]\n",
    "prompt = \"Was this dialog successful? Describe the 'result' with values 'Yes' or 'No' in a short JSON. Example: {'result': 'Yes'}\"\n",
    "\n",
    "DataModel.register(ClaudeModel)\n",
    "DataModel.register(Dialog)\n",
    "DataModel.register(ChatCompletionResponse)\n",
    "\n",
    "def claude_api_response(claude_client, content, prompt):\n",
    "    return claude_client.messages.create(\n",
    "        model=\"claude-3-5-sonnet-20240620\",\n",
    "        max_tokens=1024,\n",
    "        system=prompt,\n",
    "        messages=[\n",
    "            {\"role\": \"user\", \"content\": f\"{content}\"},\n",
    "            {\"role\": \"assistant\", \"content\": \"{\"}, # prefill the Claude response to enforce JSON\n",
    "        ],\n",
    "    )\n",
    "    \n",
    "llm_mistral = DataChain.from_dataset(\"llm-mistral\")\n",
    "\n",
    "llm_mistral_claude = (\n",
    "    llm_mistral\n",
    "    .setup(claude_client=lambda: anthropic.Anthropic(api_key=claude_api_key))\n",
    "    .map(\n",
    "        claude=lambda dialog, claude_client: claude_api_response(\n",
    "            claude_client, dialog.text, prompt=prompt\n",
    "        ),\n",
    "        output=ClaudeModel,\n",
    "    )\n",
    "    .save(\"llm-mistral-claude\")\n",
    ")"
   ]
  },
  {
   "cell_type": "code",
   "execution_count": 14,
   "id": "04735ded-75de-4e00-8c14-b6bc6d5a7e77",
   "metadata": {},
   "outputs": [
    {
     "name": "stdout",
     "output_type": "stream",
     "text": [
      " dialog: Dialog\n",
      "     id: int\n",
      "     text: str\n",
      " mistral: ChatCompletionResponse\n",
      "     id: str\n",
      "     object: str\n",
      "     created: int\n",
      "     model: str\n",
      "     choices: list[ChatCompletionResponseChoice]\n",
      "         * list of: ChatCompletionResponseChoice\n",
      "             index: int\n",
      "             message: ChatMessage\n",
      "                 role: str\n",
      "                 content: str\n",
      "                 name: Union[str, NoneType]\n",
      "                 tool_calls: Union[list[ToolCall], NoneType]\n",
      "                 tool_call_id: Union[str, NoneType]\n",
      "             finish_reason: Union[FinishReason, NoneType]\n",
      "     usage: UsageInfo\n",
      "         prompt_tokens: int\n",
      "         total_tokens: int\n",
      "         completion_tokens: Union[int, NoneType]\n",
      " claude: Message\n",
      "     id: str\n",
      "     content: list[Union[TextBlock, ToolUseBlock]]\n",
      "     model: str\n",
      "     role: Literal\n",
      "     stop_reason: Union[Literal, NoneType]\n",
      "     stop_sequence: Union[str, NoneType]\n",
      "     type: Literal\n",
      "     usage: Usage\n",
      "         input_tokens: int\n",
      "         output_tokens: int\n"
     ]
    }
   ],
   "source": [
    "llm_mistral_claude.print_schema()"
   ]
  },
  {
   "cell_type": "markdown",
   "id": "f950c945-fa25-41cf-a8bd-854f099a2d8b",
   "metadata": {},
   "source": [
    "As we can see from the above, now the chain include schema for Claude responses.\n",
    "Let's use the data we have collected to run some analytical queries:"
   ]
  },
  {
   "cell_type": "code",
   "execution_count": 47,
   "id": "2d316145-c3b4-419b-b731-32de9149b56a",
   "metadata": {},
   "outputs": [
    {
     "data": {
      "image/png": "[encoded data removed]",
      "text/plain": [
       "<Figure size 640x480 with 1 Axes>"
      ]
     },
     "metadata": {},
     "output_type": "display_data"
    }
   ],
   "source": [
    "import matplotlib.pyplot as plt\n",
    "\n",
    "m_input = 0.000002\n",
    "m_output = 0.000006\n",
    "c_input = 0.000003\n",
    "c_output = 0.000015\n",
    "\n",
    "mistral_cost = (\n",
    "    llm_mistral_claude.sum(\"mistral.usage.prompt_tokens\") * m_input\n",
    "    + llm_mistral_claude.sum(\"mistral.usage.completion_tokens\") * m_output\n",
    ")\n",
    "claude_cost = (\n",
    "    llm_mistral_claude.sum(\"claude.usage.input_tokens\") * c_input\n",
    "    + llm_mistral_claude.sum(\"claude.usage.output_tokens\") * c_output\n",
    ")\n",
    "\n",
    "plt.bar([\"Open Mixtral 8x22b\", \"Claude Sonnet-3.5\"], [mistral_cost, claude_cost])\n",
    "plt.title(f\"Cost of {llm_mistral_claude.count()}x LLM evaluations by Mistral vs Anthropic API, $\")\n",
    "plt.show()"
   ]
  },
  {
   "cell_type": "markdown",
   "id": "ab8a36db-eb41-4791-91c6-cdd2f6e927bb",
   "metadata": {},
   "source": [
    "As we can see, the open-sourced Mixtral model is cheaper to run than Claude Sonnet.\n",
    "Let us see how often these two models disagree:"
   ]
  },
  {
   "cell_type": "code",
   "execution_count": 48,
   "id": "98b5b0f3-63bf-4fd4-8efd-632737bee9c5",
   "metadata": {},
   "outputs": [
    {
     "name": "stderr",
     "output_type": "stream",
     "text": [
      "Processed: 79 rows [00:00, 13094.77 rows/s]\n",
      "Processed: 79 rows [00:00, 6827.31 rows/s]\n"
     ]
    },
    {
     "data": {
      "image/png": "[encoded data removed]",
      "text/plain": [
       "<Figure size 640x480 with 2 Axes>"
      ]
     },
     "metadata": {},
     "output_type": "display_data"
    }
   ],
   "source": [
    "import json\n",
    "from sklearn.metrics import ConfusionMatrixDisplay, confusion_matrix\n",
    "\n",
    "new_chain = (\n",
    "    DataChain.from_dataset(\"llm-mistral-claude\")\n",
    "    .map(mistral_rating=lambda mistral: json.loads(mistral.choices[0].message.content)[\"result\"])\n",
    "    .map(claude_rating=lambda claude: json.loads('{'+claude.content[0].text)[\"result\"])\n",
    "    .save()\n",
    ")\n",
    "\n",
    "y_mistral = new_chain.collect(\"mistral_rating\")\n",
    "y_claude = new_chain.collect(\"claude_rating\")\n",
    "\n",
    "cm = confusion_matrix(list(y_claude), list(y_mistral))\n",
    "disp = ConfusionMatrixDisplay(confusion_matrix=cm, display_labels=[\"No\", \"Yes\"])\n",
    "disp.plot(cmap=plt.cm.Blues)\n",
    "\n",
    "plt.title(\"LLM judge confusion Matrix\")\n",
    "plt.xlabel(\"Mixtral 8x22b\")\n",
    "plt.ylabel(\"Claude Sonnet-3.5\")\n",
    "\n",
    "plt.show()"
   ]
  },
  {
   "cell_type": "markdown",
   "id": "014c2ed0-8338-41d7-b8ef-353e103b89dd",
   "metadata": {},
   "source": [
    "As we can see from the confusion matrix, the two LLMs only disagree when Mixtral gives it a pass, while Sonnet does not.\n"
   ]
  },
  {
   "cell_type": "code",
   "execution_count": null,
   "id": "614962a4-5a56-4ca6-b426-3514c678be03",
   "metadata": {},
   "outputs": [],
   "source": []
  }
 ],
 "metadata": {
  "kernelspec": {
   "display_name": "Python 3 (ipykernel)",
   "language": "python",
   "name": "python3"
  },
  "language_info": {
   "codemirror_mode": {
    "name": "ipython",
    "version": 3
   },
   "file_extension": ".py",
   "mimetype": "text/x-python",
   "name": "python",
   "nbconvert_exporter": "python",
   "pygments_lexer": "ipython3",
   "version": "3.9.4"
  }
 },
 "nbformat": 4,
 "nbformat_minor": 5
}
