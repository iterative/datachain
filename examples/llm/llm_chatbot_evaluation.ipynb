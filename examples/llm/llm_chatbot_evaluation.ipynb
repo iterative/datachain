{
 "cells": [
  {
   "cell_type": "markdown",
   "id": "ababae28-5ec9-4b0c-a3c4-71632da0666f",
   "metadata": {},
   "source": [
    "# Using DataChain for LLM evaluations\n",
    "\n",
    "This notebook will show how to use DataChain for common LLM-judging-LLM cases, including how to:\n",
    "\n",
    "- [Re-organizing text samples from CSV table](#ingesting)\n",
    "- [Placing LLM API calls over input data](#processing)\n",
    "- [Collecting Pydantic objects from LLM responses](#pydantic)\n",
    "- [Comparative LLM analytics](#analytics)"
   ]
  },
  {
   "cell_type": "markdown",
   "id": "d3728915-c29b-4a55-a52e-99320a21fbfc",
   "metadata": {},
   "source": [
    "## Setup\n",
    "\n",
    "To start, install the dependencies and import the LLM packages. To run these examples, your will need an [API key from Mistral AI](https://console.mistral.ai/user/api-keys/ \"Mistral console\") (free) and [Anthropic](https://console.anthropic.com/login \"Anthropic console\") (paid). If you do not have an Anthropic key, these examples can be skipped."
   ]
  },
  {
   "cell_type": "code",
   "execution_count": 2,
   "id": "847dba44-f2c3-4d48-ba42-bf7b15b6862e",
   "metadata": {
    "scrolled": true
   },
   "outputs": [
    {
     "name": "stdout",
     "output_type": "stream",
     "text": [
      "The history saving thread hit an unexpected error (OperationalError('attempt to write a readonly database')).History will not be written to the database.\n",
      "Requirement already satisfied: datachain in /Users/dkh/datachain/venv/datachain/lib/python3.9/site-packages (0.2.6.dev4+gef2347f)\n",
      "Requirement already satisfied: mistralai in /Users/dkh/datachain/venv/datachain/lib/python3.9/site-packages (0.4.2)\n",
      "Requirement already satisfied: anthropic in /Users/dkh/datachain/venv/datachain/lib/python3.9/site-packages (0.31.0)\n",
      "Collecting typing\n",
      "  Using cached typing-3.7.4.3-py3-none-any.whl\n",
      "Requirement already satisfied: pyyaml in /Users/dkh/datachain/venv/datachain/lib/python3.9/site-packages (from datachain) (6.0.1)\n",
      "Requirement already satisfied: tomlkit in /Users/dkh/datachain/venv/datachain/lib/python3.9/site-packages (from datachain) (0.13.0)\n",
      "Requirement already satisfied: tqdm in /Users/dkh/datachain/venv/datachain/lib/python3.9/site-packages (from datachain) (4.66.4)\n",
      "Requirement already satisfied: numpy in /Users/dkh/datachain/venv/datachain/lib/python3.9/site-packages (from datachain) (1.25.2)\n",
      "Requirement already satisfied: pandas>=2.0.0 in /Users/dkh/datachain/venv/datachain/lib/python3.9/site-packages (from datachain) (2.2.2)\n",
      "Requirement already satisfied: pyarrow in /Users/dkh/datachain/venv/datachain/lib/python3.9/site-packages (from datachain) (16.1.0)\n",
      "Requirement already satisfied: typing-extensions in /Users/dkh/datachain/venv/datachain/lib/python3.9/site-packages (from datachain) (4.12.2)\n",
      "Requirement already satisfied: python-dateutil>=2 in /Users/dkh/datachain/venv/datachain/lib/python3.9/site-packages (from datachain) (2.9.0.post0)\n",
      "Requirement already satisfied: attrs>=21.3.0 in /Users/dkh/datachain/venv/datachain/lib/python3.9/site-packages (from datachain) (23.2.0)\n",
      "Requirement already satisfied: s3fs>=2024.2.0 in /Users/dkh/datachain/venv/datachain/lib/python3.9/site-packages (from datachain) (2024.6.1)\n",
      "Requirement already satisfied: gcsfs>=2024.2.0 in /Users/dkh/datachain/venv/datachain/lib/python3.9/site-packages (from datachain) (2024.6.1)\n",
      "Requirement already satisfied: adlfs>=2024.2.0 in /Users/dkh/datachain/venv/datachain/lib/python3.9/site-packages (from datachain) (2024.4.1)\n",
      "Requirement already satisfied: dvc-data<4,>=3.10 in /Users/dkh/datachain/venv/datachain/lib/python3.9/site-packages (from datachain) (3.15.1)\n",
      "Requirement already satisfied: dvc-objects<6,>=4 in /Users/dkh/datachain/venv/datachain/lib/python3.9/site-packages (from datachain) (5.1.0)\n",
      "Requirement already satisfied: shtab<2,>=1.3.4 in /Users/dkh/datachain/venv/datachain/lib/python3.9/site-packages (from datachain) (1.7.1)\n",
      "Requirement already satisfied: sqlalchemy>=2 in /Users/dkh/datachain/venv/datachain/lib/python3.9/site-packages (from datachain) (2.0.31)\n",
      "Requirement already satisfied: multiprocess==0.70.16 in /Users/dkh/datachain/venv/datachain/lib/python3.9/site-packages (from datachain) (0.70.16)\n",
      "Requirement already satisfied: dill==0.3.8 in /Users/dkh/datachain/venv/datachain/lib/python3.9/site-packages (from datachain) (0.3.8)\n",
      "Requirement already satisfied: ujson>=5.9.0 in /Users/dkh/datachain/venv/datachain/lib/python3.9/site-packages (from datachain) (5.10.0)\n",
      "Requirement already satisfied: pydantic<3,>=2 in /Users/dkh/datachain/venv/datachain/lib/python3.9/site-packages (from datachain) (2.8.2)\n",
      "Requirement already satisfied: jmespath>=1.0 in /Users/dkh/datachain/venv/datachain/lib/python3.9/site-packages (from datachain) (1.0.1)\n",
      "Requirement already satisfied: datamodel-code-generator>=0.25 in /Users/dkh/datachain/venv/datachain/lib/python3.9/site-packages (from datachain) (0.25.8)\n",
      "Requirement already satisfied: httpx<1,>=0.25 in /Users/dkh/datachain/venv/datachain/lib/python3.9/site-packages (from mistralai) (0.27.0)\n",
      "Requirement already satisfied: orjson<3.11,>=3.9.10 in /Users/dkh/datachain/venv/datachain/lib/python3.9/site-packages (from mistralai) (3.10.6)\n",
      "Requirement already satisfied: anyio<5,>=3.5.0 in /Users/dkh/datachain/venv/datachain/lib/python3.9/site-packages (from anthropic) (4.4.0)\n",
      "Requirement already satisfied: distro<2,>=1.7.0 in /Users/dkh/datachain/venv/datachain/lib/python3.9/site-packages (from anthropic) (1.9.0)\n",
      "Requirement already satisfied: jiter<1,>=0.4.0 in /Users/dkh/datachain/venv/datachain/lib/python3.9/site-packages (from anthropic) (0.5.0)\n",
      "Requirement already satisfied: sniffio in /Users/dkh/datachain/venv/datachain/lib/python3.9/site-packages (from anthropic) (1.3.1)\n",
      "Requirement already satisfied: tokenizers>=0.13.0 in /Users/dkh/datachain/venv/datachain/lib/python3.9/site-packages (from anthropic) (0.19.1)\n",
      "Requirement already satisfied: azure-core<2.0.0,>=1.23.1 in /Users/dkh/datachain/venv/datachain/lib/python3.9/site-packages (from adlfs>=2024.2.0->datachain) (1.30.2)\n",
      "Requirement already satisfied: azure-datalake-store<0.1,>=0.0.46 in /Users/dkh/datachain/venv/datachain/lib/python3.9/site-packages (from adlfs>=2024.2.0->datachain) (0.0.53)\n",
      "Requirement already satisfied: azure-identity in /Users/dkh/datachain/venv/datachain/lib/python3.9/site-packages (from adlfs>=2024.2.0->datachain) (1.17.1)\n",
      "Requirement already satisfied: azure-storage-blob>=12.12.0 in /Users/dkh/datachain/venv/datachain/lib/python3.9/site-packages (from adlfs>=2024.2.0->datachain) (12.20.0)\n",
      "Requirement already satisfied: fsspec>=2023.12.0 in /Users/dkh/datachain/venv/datachain/lib/python3.9/site-packages (from adlfs>=2024.2.0->datachain) (2024.6.1)\n",
      "Requirement already satisfied: aiohttp>=3.7.0 in /Users/dkh/datachain/venv/datachain/lib/python3.9/site-packages (from adlfs>=2024.2.0->datachain) (3.9.5)\n",
      "Requirement already satisfied: idna>=2.8 in /Users/dkh/datachain/venv/datachain/lib/python3.9/site-packages (from anyio<5,>=3.5.0->anthropic) (3.7)\n",
      "Requirement already satisfied: exceptiongroup>=1.0.2 in /Users/dkh/datachain/venv/datachain/lib/python3.9/site-packages (from anyio<5,>=3.5.0->anthropic) (1.2.1)\n",
      "Requirement already satisfied: argcomplete<4.0,>=1.10 in /Users/dkh/datachain/venv/datachain/lib/python3.9/site-packages (from datamodel-code-generator>=0.25->datachain) (3.4.0)\n",
      "Requirement already satisfied: black>=19.10b0 in /Users/dkh/datachain/venv/datachain/lib/python3.9/site-packages (from datamodel-code-generator>=0.25->datachain) (24.4.2)\n",
      "Requirement already satisfied: genson<2.0,>=1.2.1 in /Users/dkh/datachain/venv/datachain/lib/python3.9/site-packages (from datamodel-code-generator>=0.25->datachain) (1.3.0)\n",
      "Requirement already satisfied: inflect<6.0,>=4.1.0 in /Users/dkh/datachain/venv/datachain/lib/python3.9/site-packages (from datamodel-code-generator>=0.25->datachain) (5.6.2)\n",
      "Requirement already satisfied: isort<6.0,>=4.3.21 in /Users/dkh/datachain/venv/datachain/lib/python3.9/site-packages (from datamodel-code-generator>=0.25->datachain) (5.13.2)\n",
      "Requirement already satisfied: jinja2<4.0,>=2.10.1 in /Users/dkh/datachain/venv/datachain/lib/python3.9/site-packages (from datamodel-code-generator>=0.25->datachain) (3.1.4)\n",
      "Requirement already satisfied: packaging in /Users/dkh/datachain/venv/datachain/lib/python3.9/site-packages (from datamodel-code-generator>=0.25->datachain) (24.1)\n",
      "Requirement already satisfied: toml<1.0.0,>=0.10.0 in /Users/dkh/datachain/venv/datachain/lib/python3.9/site-packages (from datamodel-code-generator>=0.25->datachain) (0.10.2)\n",
      "Requirement already satisfied: dictdiffer>=0.8.1 in /Users/dkh/datachain/venv/datachain/lib/python3.9/site-packages (from dvc-data<4,>=3.10->datachain) (0.9.0)\n",
      "Requirement already satisfied: pygtrie>=2.3.2 in /Users/dkh/datachain/venv/datachain/lib/python3.9/site-packages (from dvc-data<4,>=3.10->datachain) (2.5.0)\n",
      "Requirement already satisfied: diskcache>=5.2.1 in /Users/dkh/datachain/venv/datachain/lib/python3.9/site-packages (from dvc-data<4,>=3.10->datachain) (5.6.3)\n",
      "Requirement already satisfied: sqltrie<1,>=0.11.0 in /Users/dkh/datachain/venv/datachain/lib/python3.9/site-packages (from dvc-data<4,>=3.10->datachain) (0.11.0)\n",
      "Requirement already satisfied: funcy>=1.14 in /Users/dkh/datachain/venv/datachain/lib/python3.9/site-packages (from dvc-data<4,>=3.10->datachain) (2.0)\n",
      "Requirement already satisfied: decorator>4.1.2 in /Users/dkh/datachain/venv/datachain/lib/python3.9/site-packages (from gcsfs>=2024.2.0->datachain) (5.1.1)\n",
      "Requirement already satisfied: google-auth>=1.2 in /Users/dkh/datachain/venv/datachain/lib/python3.9/site-packages (from gcsfs>=2024.2.0->datachain) (2.32.0)\n",
      "Requirement already satisfied: google-auth-oauthlib in /Users/dkh/datachain/venv/datachain/lib/python3.9/site-packages (from gcsfs>=2024.2.0->datachain) (1.2.1)\n",
      "Requirement already satisfied: google-cloud-storage in /Users/dkh/datachain/venv/datachain/lib/python3.9/site-packages (from gcsfs>=2024.2.0->datachain) (2.17.0)\n",
      "Requirement already satisfied: requests in /Users/dkh/datachain/venv/datachain/lib/python3.9/site-packages (from gcsfs>=2024.2.0->datachain) (2.32.3)\n",
      "Requirement already satisfied: certifi in /Users/dkh/datachain/venv/datachain/lib/python3.9/site-packages (from httpx<1,>=0.25->mistralai) (2024.7.4)\n",
      "Requirement already satisfied: httpcore==1.* in /Users/dkh/datachain/venv/datachain/lib/python3.9/site-packages (from httpx<1,>=0.25->mistralai) (1.0.5)\n",
      "Requirement already satisfied: h11<0.15,>=0.13 in /Users/dkh/datachain/venv/datachain/lib/python3.9/site-packages (from httpcore==1.*->httpx<1,>=0.25->mistralai) (0.14.0)\n",
      "Requirement already satisfied: pytz>=2020.1 in /Users/dkh/datachain/venv/datachain/lib/python3.9/site-packages (from pandas>=2.0.0->datachain) (2024.1)\n",
      "Requirement already satisfied: tzdata>=2022.7 in /Users/dkh/datachain/venv/datachain/lib/python3.9/site-packages (from pandas>=2.0.0->datachain) (2024.1)\n",
      "Requirement already satisfied: annotated-types>=0.4.0 in /Users/dkh/datachain/venv/datachain/lib/python3.9/site-packages (from pydantic<3,>=2->datachain) (0.7.0)\n",
      "Requirement already satisfied: pydantic-core==2.20.1 in /Users/dkh/datachain/venv/datachain/lib/python3.9/site-packages (from pydantic<3,>=2->datachain) (2.20.1)\n",
      "Requirement already satisfied: six>=1.5 in /Users/dkh/datachain/venv/datachain/lib/python3.9/site-packages (from python-dateutil>=2->datachain) (1.16.0)\n",
      "Requirement already satisfied: aiobotocore<3.0.0,>=2.5.4 in /Users/dkh/datachain/venv/datachain/lib/python3.9/site-packages (from s3fs>=2024.2.0->datachain) (2.13.1)\n",
      "Requirement already satisfied: greenlet!=0.4.17 in /Users/dkh/datachain/venv/datachain/lib/python3.9/site-packages (from sqlalchemy>=2->datachain) (3.0.3)\n",
      "Requirement already satisfied: huggingface-hub<1.0,>=0.16.4 in /Users/dkh/datachain/venv/datachain/lib/python3.9/site-packages (from tokenizers>=0.13.0->anthropic) (0.23.4)\n",
      "Requirement already satisfied: botocore<1.34.132,>=1.34.70 in /Users/dkh/datachain/venv/datachain/lib/python3.9/site-packages (from aiobotocore<3.0.0,>=2.5.4->s3fs>=2024.2.0->datachain) (1.34.131)\n",
      "Requirement already satisfied: wrapt<2.0.0,>=1.10.10 in /Users/dkh/datachain/venv/datachain/lib/python3.9/site-packages (from aiobotocore<3.0.0,>=2.5.4->s3fs>=2024.2.0->datachain) (1.16.0)\n",
      "Requirement already satisfied: aioitertools<1.0.0,>=0.5.1 in /Users/dkh/datachain/venv/datachain/lib/python3.9/site-packages (from aiobotocore<3.0.0,>=2.5.4->s3fs>=2024.2.0->datachain) (0.11.0)\n",
      "Requirement already satisfied: aiosignal>=1.1.2 in /Users/dkh/datachain/venv/datachain/lib/python3.9/site-packages (from aiohttp>=3.7.0->adlfs>=2024.2.0->datachain) (1.3.1)\n",
      "Requirement already satisfied: frozenlist>=1.1.1 in /Users/dkh/datachain/venv/datachain/lib/python3.9/site-packages (from aiohttp>=3.7.0->adlfs>=2024.2.0->datachain) (1.4.1)\n",
      "Requirement already satisfied: multidict<7.0,>=4.5 in /Users/dkh/datachain/venv/datachain/lib/python3.9/site-packages (from aiohttp>=3.7.0->adlfs>=2024.2.0->datachain) (6.0.5)\n",
      "Requirement already satisfied: yarl<2.0,>=1.0 in /Users/dkh/datachain/venv/datachain/lib/python3.9/site-packages (from aiohttp>=3.7.0->adlfs>=2024.2.0->datachain) (1.9.4)\n",
      "Requirement already satisfied: async-timeout<5.0,>=4.0 in /Users/dkh/datachain/venv/datachain/lib/python3.9/site-packages (from aiohttp>=3.7.0->adlfs>=2024.2.0->datachain) (4.0.3)\n",
      "Requirement already satisfied: cffi in /Users/dkh/datachain/venv/datachain/lib/python3.9/site-packages (from azure-datalake-store<0.1,>=0.0.46->adlfs>=2024.2.0->datachain) (1.16.0)\n",
      "Requirement already satisfied: msal<2,>=1.16.0 in /Users/dkh/datachain/venv/datachain/lib/python3.9/site-packages (from azure-datalake-store<0.1,>=0.0.46->adlfs>=2024.2.0->datachain) (1.29.0)\n",
      "Requirement already satisfied: cryptography>=2.1.4 in /Users/dkh/datachain/venv/datachain/lib/python3.9/site-packages (from azure-storage-blob>=12.12.0->adlfs>=2024.2.0->datachain) (42.0.8)\n",
      "Requirement already satisfied: isodate>=0.6.1 in /Users/dkh/datachain/venv/datachain/lib/python3.9/site-packages (from azure-storage-blob>=12.12.0->adlfs>=2024.2.0->datachain) (0.6.1)\n",
      "Requirement already satisfied: click>=8.0.0 in /Users/dkh/datachain/venv/datachain/lib/python3.9/site-packages (from black>=19.10b0->datamodel-code-generator>=0.25->datachain) (8.1.7)\n",
      "Requirement already satisfied: mypy-extensions>=0.4.3 in /Users/dkh/datachain/venv/datachain/lib/python3.9/site-packages (from black>=19.10b0->datamodel-code-generator>=0.25->datachain) (1.0.0)\n",
      "Requirement already satisfied: pathspec>=0.9.0 in /Users/dkh/datachain/venv/datachain/lib/python3.9/site-packages (from black>=19.10b0->datamodel-code-generator>=0.25->datachain) (0.12.1)\n",
      "Requirement already satisfied: platformdirs>=2 in /Users/dkh/datachain/venv/datachain/lib/python3.9/site-packages (from black>=19.10b0->datamodel-code-generator>=0.25->datachain) (4.2.2)\n",
      "Requirement already satisfied: tomli>=1.1.0 in /Users/dkh/datachain/venv/datachain/lib/python3.9/site-packages (from black>=19.10b0->datamodel-code-generator>=0.25->datachain) (2.0.1)\n",
      "Requirement already satisfied: cachetools<6.0,>=2.0.0 in /Users/dkh/datachain/venv/datachain/lib/python3.9/site-packages (from google-auth>=1.2->gcsfs>=2024.2.0->datachain) (5.3.3)\n",
      "Requirement already satisfied: pyasn1-modules>=0.2.1 in /Users/dkh/datachain/venv/datachain/lib/python3.9/site-packages (from google-auth>=1.2->gcsfs>=2024.2.0->datachain) (0.4.0)\n",
      "Requirement already satisfied: rsa<5,>=3.1.4 in /Users/dkh/datachain/venv/datachain/lib/python3.9/site-packages (from google-auth>=1.2->gcsfs>=2024.2.0->datachain) (4.9)\n",
      "Requirement already satisfied: filelock in /Users/dkh/datachain/venv/datachain/lib/python3.9/site-packages (from huggingface-hub<1.0,>=0.16.4->tokenizers>=0.13.0->anthropic) (3.15.4)\n",
      "Requirement already satisfied: MarkupSafe>=2.0 in /Users/dkh/datachain/venv/datachain/lib/python3.9/site-packages (from jinja2<4.0,>=2.10.1->datamodel-code-generator>=0.25->datachain) (2.1.5)\n",
      "Requirement already satisfied: email-validator>=2.0.0 in /Users/dkh/datachain/venv/datachain/lib/python3.9/site-packages (from pydantic[email]!=2.4.0,<3.0,>=1.5.1; python_version < \"3.10\"->datamodel-code-generator>=0.25->datachain) (2.2.0)\n",
      "Requirement already satisfied: charset-normalizer<4,>=2 in /Users/dkh/datachain/venv/datachain/lib/python3.9/site-packages (from requests->gcsfs>=2024.2.0->datachain) (3.3.2)\n",
      "Requirement already satisfied: urllib3<3,>=1.21.1 in /Users/dkh/datachain/venv/datachain/lib/python3.9/site-packages (from requests->gcsfs>=2024.2.0->datachain) (1.26.19)\n",
      "Requirement already satisfied: msal-extensions>=0.3.0 in /Users/dkh/datachain/venv/datachain/lib/python3.9/site-packages (from azure-identity->adlfs>=2024.2.0->datachain) (1.2.0)\n",
      "Requirement already satisfied: requests-oauthlib>=0.7.0 in /Users/dkh/datachain/venv/datachain/lib/python3.9/site-packages (from google-auth-oauthlib->gcsfs>=2024.2.0->datachain) (2.0.0)\n",
      "Requirement already satisfied: google-api-core<3.0.0dev,>=2.15.0 in /Users/dkh/datachain/venv/datachain/lib/python3.9/site-packages (from google-cloud-storage->gcsfs>=2024.2.0->datachain) (2.19.1)\n",
      "Requirement already satisfied: google-cloud-core<3.0dev,>=2.3.0 in /Users/dkh/datachain/venv/datachain/lib/python3.9/site-packages (from google-cloud-storage->gcsfs>=2024.2.0->datachain) (2.4.1)\n",
      "Requirement already satisfied: google-resumable-media>=2.6.0 in /Users/dkh/datachain/venv/datachain/lib/python3.9/site-packages (from google-cloud-storage->gcsfs>=2024.2.0->datachain) (2.7.1)\n",
      "Requirement already satisfied: google-crc32c<2.0dev,>=1.0 in /Users/dkh/datachain/venv/datachain/lib/python3.9/site-packages (from google-cloud-storage->gcsfs>=2024.2.0->datachain) (1.5.0)\n",
      "Requirement already satisfied: pycparser in /Users/dkh/datachain/venv/datachain/lib/python3.9/site-packages (from cffi->azure-datalake-store<0.1,>=0.0.46->adlfs>=2024.2.0->datachain) (2.22)\n",
      "Requirement already satisfied: dnspython>=2.0.0 in /Users/dkh/datachain/venv/datachain/lib/python3.9/site-packages (from email-validator>=2.0.0->pydantic[email]!=2.4.0,<3.0,>=1.5.1; python_version < \"3.10\"->datamodel-code-generator>=0.25->datachain) (2.6.1)\n",
      "Requirement already satisfied: googleapis-common-protos<2.0.dev0,>=1.56.2 in /Users/dkh/datachain/venv/datachain/lib/python3.9/site-packages (from google-api-core<3.0.0dev,>=2.15.0->google-cloud-storage->gcsfs>=2024.2.0->datachain) (1.63.2)\n",
      "Requirement already satisfied: protobuf!=3.20.0,!=3.20.1,!=4.21.0,!=4.21.1,!=4.21.2,!=4.21.3,!=4.21.4,!=4.21.5,<6.0.0.dev0,>=3.19.5 in /Users/dkh/datachain/venv/datachain/lib/python3.9/site-packages (from google-api-core<3.0.0dev,>=2.15.0->google-cloud-storage->gcsfs>=2024.2.0->datachain) (5.27.2)\n",
      "Requirement already satisfied: proto-plus<2.0.0dev,>=1.22.3 in /Users/dkh/datachain/venv/datachain/lib/python3.9/site-packages (from google-api-core<3.0.0dev,>=2.15.0->google-cloud-storage->gcsfs>=2024.2.0->datachain) (1.24.0)\n",
      "Requirement already satisfied: PyJWT<3,>=1.0.0 in /Users/dkh/datachain/venv/datachain/lib/python3.9/site-packages (from PyJWT[crypto]<3,>=1.0.0->msal<2,>=1.16.0->azure-datalake-store<0.1,>=0.0.46->adlfs>=2024.2.0->datachain) (2.8.0)\n",
      "Requirement already satisfied: portalocker<3,>=1.4 in /Users/dkh/datachain/venv/datachain/lib/python3.9/site-packages (from msal-extensions>=0.3.0->azure-identity->adlfs>=2024.2.0->datachain) (2.10.0)\n",
      "Requirement already satisfied: pyasn1<0.7.0,>=0.4.6 in /Users/dkh/datachain/venv/datachain/lib/python3.9/site-packages (from pyasn1-modules>=0.2.1->google-auth>=1.2->gcsfs>=2024.2.0->datachain) (0.6.0)\n",
      "Requirement already satisfied: oauthlib>=3.0.0 in /Users/dkh/datachain/venv/datachain/lib/python3.9/site-packages (from requests-oauthlib>=0.7.0->google-auth-oauthlib->gcsfs>=2024.2.0->datachain) (3.2.2)\n",
      "Installing collected packages: typing\n",
      "Successfully installed typing-3.7.4.3\n",
      "/bin/bash: -c: line 0: syntax error near unexpected token `newline'\n",
      "/bin/bash: -c: line 0: `export MISTRAL_API_KEY= <your API key here>'\n",
      "/bin/bash: -c: line 0: syntax error near unexpected token `newline'\n",
      "/bin/bash: -c: line 0: `export ANTHROPIC_API_KEY= <your API key here>'\n"
     ]
    }
   ],
   "source": [
    "!pip install datachain mistralai anthropic pydantic matplotlib scikit-learn\n",
    "!export MISTRAL_API_KEY= <your API key here>\n",
    "!export ANTHROPIC_API_KEY= <your API key here>"
   ]
  },
  {
   "cell_type": "code",
   "execution_count": 1,
   "id": "8d227105-59dc-4398-863a-510f52a06f2a",
   "metadata": {},
   "outputs": [],
   "source": [
    "import os\n",
    "\n",
    "from datachain.lib.dc import Column, DataChain\n",
    "from datachain.lib.data_model import DataModel\n",
    "\n",
    "from pydantic import BaseModel\n"
   ]
  },
  {
   "cell_type": "markdown",
   "id": "cd0c6c9b-a951-45cb-99b9-233dccc69c46",
   "metadata": {},
   "source": [
    "<a id='ingesting'></a>\n",
    "## Organizing text samples \n",
    "\n",
    "We will be using a dataset from [Karlsruhe Institute of Technology](https://radar.kit.edu/radar/en/dataset/FdJmclKpjHzLfExE.ExpBot%2B-%2BA%2Bdataset%2Bof%2B79%2Bdialogs%2Bwith%2Ban%2Bexperimental%2Bcustomer%2Bservice%2Bchatbot) which captures interactions between human experiment participants and a simple chatbot programmed to offer them a new mobile service plan. \n",
    "\n",
    "Evaluating the performance of a chatbot with another LLM is a common workflow and a cornerstone of many agentic applications. The task here is to go over the recorded conversations and evaluate the chatbot performance. In our particular application, the original dataset is in CSV format, similar to the below:\n",
    "\n",
    "| id | count | sender | text |\n",
    "|----------|----------|----------|----------|\n",
    "| 1 | 1 | bot | Hey there! |\n",
    "| 1 | 2 | bot | I'm a chatbot that helps you find a new mobile phone plan. What can I do for you?|\n",
    "| 1 | 3 |user | Hi :) I need a phone plan with more MB and less minutes |\n",
    "| 1 | 4 |bot | Okay, let's start! First, I need some information about your current mobile phone plan: |\n",
    "\n",
    "In the table above, every line corresponds to one utterance of the dialog. Lines sharing the \"id\" field belong to the same conversation.\n",
    "\n",
    "For our purposes, we want to group all lines that belong to the same conversation into one text block to be read by an LLM. We can do this by first parsing the CSV file at the original storage location, and then using an aggregator to reformat CSV lines into a new data model:"
   ]
  },
  {
   "cell_type": "code",
   "execution_count": 2,
   "id": "52e1fc1c-2347-490d-9f6c-1d36cc2555ce",
   "metadata": {},
   "outputs": [
    {
     "name": "stderr",
     "output_type": "stream",
     "text": [
      "Processed: 1 rows [00:00, 1098.85 rows/s]\n",
      "Processed: 1 rows [00:00, 1072.99 rows/s]\n",
      "Parsed by pyarrow: 3594 rows [00:00, 11879.73 rows/s]\n",
      "Processed: 0 rows [00:00, ? rows/s]\n",
      "Processed: 1 rows [00:00,  7.99 rows/s]\n",
      "Generated: 3594 rows [00:00, 28853.54 rows/s]\n",
      "Processed: 0 rows [00:00, ? rows/s]\n",
      "Processed: 3594 rows [00:00, 61921.64 rows/s]\n",
      "Generated: 79 rows [00:00, 1381.17 rows/s]\n"
     ]
    }
   ],
   "source": [
    "class Dialog(BaseModel):\n",
    "    id: int\n",
    "    text: str\n",
    "\n",
    "def text_block(id: str, sender: str, text: str) -> Dialog:\n",
    "    columns = zip(text, sender)\n",
    "    conversation = \"\"\n",
    "    for text, sender in columns:\n",
    "       conversation = \"\\n \".join([conversation,f\"{sender}: {text}\"])\n",
    "    yield Dialog(id=id[0], text=conversation) \n",
    "\n",
    "chain = DataChain.from_csv(\"gs://datachain-demo/chatbot-csv/\").agg(text_block, output={\"dialog\": Dialog}, partition_by=\"id\").save()\n"
   ]
  },
  {
   "cell_type": "markdown",
   "id": "b24aa885-632f-45d4-87b1-ac694bf5b194",
   "metadata": {},
   "source": [
    "Now we should have collected 79 separate dialogs:"
   ]
  },
  {
   "cell_type": "code",
   "execution_count": 3,
   "id": "6283420e-4493-4ed5-a9c0-948f23af1653",
   "metadata": {},
   "outputs": [
    {
     "data": {
      "text/plain": [
       "79"
      ]
     },
     "execution_count": 3,
     "metadata": {},
     "output_type": "execute_result"
    }
   ],
   "source": [
    "chain.count()"
   ]
  },
  {
   "cell_type": "markdown",
   "id": "b79f019f-c434-4988-8bd8-ee669d380caa",
   "metadata": {},
   "source": [
    "The schema for these dialogs should be provided by our Dialog class"
   ]
  },
  {
   "cell_type": "code",
   "execution_count": 4,
   "id": "149799a5-b0f3-4f28-a282-f9683829db00",
   "metadata": {},
   "outputs": [
    {
     "name": "stdout",
     "output_type": "stream",
     "text": [
      " dialog: Dialog\n",
      "     id: int\n",
      "     text: str\n"
     ]
    }
   ],
   "source": [
    "chain.print_schema()"
   ]
  },
  {
   "cell_type": "markdown",
   "id": "b890f81c-6860-448d-9e3d-35e90fd023ce",
   "metadata": {},
   "source": [
    "Finally, every dataset sample should capture the entire dialog as a text block:"
   ]
  },
  {
   "cell_type": "code",
   "execution_count": 4,
   "id": "ec9a0fa0-1581-4d8b-a6d1-9beab1fcdb20",
   "metadata": {},
   "outputs": [
    {
     "name": "stdout",
     "output_type": "stream",
     "text": [
      "\n",
      " bot: Hey there!\n",
      " bot: I'm a chatbot that helps you find a new mobile phone plan. What can I do for you?\n",
      " user: Hi :) I need a phone plan with more MB and less minutes\n",
      " bot: Okay, let's start! First, I need some information about your current mobile phone plan:\n",
      " bot: Who's your current mobile phone provider?\n",
      " user: SuperMobile\n",
      " bot: Okay. Which mobile phone plan do you have?\n",
      " user: Yellow Basic 1000\n",
      " bot: How much did you pay in total last month?\n",
      " user: 32.29 euro\n",
      " bot: Got it. How many minutes have you spent on the phone last month (national calls)?\n",
      " user: 652 minutes\n",
      " bot: How many text messages did you send last month?\n",
      " user: 23\n",
      " bot: How much data did you use last month?\n",
      " user: 1450\n",
      " bot: Do you often travel outside of Europe?\n",
      " user: no\n",
      " bot: Okay, final question: How much are you willing to spend on a mobile phone plan per month?\n",
      " user: not more than 30 €\n",
      " bot: Thanks, here are your information again:\n",
      " bot: Currently, you pay 32.29 € for a SuperMobile Yellow Basic 1000 plan. Last month, you spent 652 minutes on the phone, sent 23 messages, and used 1.45 GB of data. You rarely travel outside of Europe. In total, you don't want to pay more than 30 €.\n",
      " bot: Is that correct?\n",
      " user: correct\n",
      " bot: Sorry, I didn't get that. Please try again.\n",
      " user: yes it is\n",
      " bot: Alright, I'm looking for a better plan for you now. Stay tuned!\n",
      " bot: So, here is the best plan for you: Tele8 offers a plan called Orange XL for 25 € per month. It comes with unlimited national calls, but without inclusive international minutes and free text messages. You would also get 2 GB of high-speed data!\n",
      " bot: Sounds good? I hope I could help you find a better mobile phone plan. If you want to try again, you can ask me anytime. Have a nice day!\n"
     ]
    }
   ],
   "source": [
    "first_dialog = next(chain.collect(\"dialog\"))\n",
    "print(first_dialog.text)"
   ]
  },
  {
   "cell_type": "markdown",
   "id": "d0635407-3894-418a-b61f-b0b7b7b83a6b",
   "metadata": {},
   "source": [
    "<a id='processing'></a>\n",
    "## Placing LLM API calls over input data\n",
    "\n",
    "Now it is time to run our LLM evaluation. Let's ask a simple eval question: \"Was this dialog successful\"?\n",
    "Note, this question is a bit open-ended because we have not provided the explicit success criteria; our goal is just to show the setup.\n",
    "\n",
    "To speed things up, we can run up to 4 (maximum allowed by Mistral) API calls at once. Higher rate limits are possible in the paid tiers of most providers. Modern Python APIs can also provide Pydantic models for responses, so we will take an advantage of this:"
   ]
  },
  {
   "cell_type": "code",
   "execution_count": 5,
   "id": "0b4bced2-e44e-4059-8579-45ea799427dc",
   "metadata": {},
   "outputs": [
    {
     "name": "stderr",
     "output_type": "stream",
     "text": [
      "Processed: 79 rows [01:00,  1.31 rows/s]\n"
     ]
    }
   ],
   "source": [
    "from mistralai.client import MistralClient\n",
    "from mistralai.models.chat_completion import ChatMessage\n",
    "from mistralai.models.chat_completion import ChatCompletionResponse as MistralModel\n",
    "\n",
    "DataModel.register(MistralModel)\n",
    "\n",
    "prompt = \"Was this dialog successful? Describe the 'result' with values 'Yes' or 'No' in a short JSON\"\n",
    "api_key = os.environ[\"MISTRAL_API_KEY\"]\n",
    "\n",
    "llm_mistral = (\n",
    "    chain\n",
    "    .settings(parallel=4, cache=True)\n",
    "    .setup(mistral_client= lambda: MistralClient(api_key=api_key))\n",
    "    .map(\n",
    "       mistral=lambda dialog, mistral_client: mistral_client.chat(\n",
    "                                          model=\"open-mixtral-8x22b\",\n",
    "                                          response_format={\"type\": \"json_object\"},\n",
    "                                          messages= [\n",
    "                                             ChatMessage(role=\"system\", content=f\"{prompt}\"),\n",
    "                                             ChatMessage(role=\"user\", content=f\"{dialog.text}\")\n",
    "                                          ]\n",
    "                            ),\n",
    "       output=MistralModel\n",
    "    )\n",
    "    .save(\"llm-mistral\")\n",
    ")\n"
   ]
  },
  {
   "cell_type": "markdown",
   "id": "dd543116-59d0-4a9a-8af4-029509df93c0",
   "metadata": {},
   "source": [
    "Now all 79 dialogs have been processed, let us check the chain schema:"
   ]
  },
  {
   "cell_type": "code",
   "execution_count": 7,
   "id": "5d38494d-98c5-42f6-9471-889a53e91006",
   "metadata": {},
   "outputs": [
    {
     "name": "stdout",
     "output_type": "stream",
     "text": [
      " dialog: Dialog\n",
      "     id: int\n",
      "     text: str\n",
      " mistral: ChatCompletionResponse\n",
      "     id: str\n",
      "     object: str\n",
      "     created: int\n",
      "     model: str\n",
      "     choices: list[ChatCompletionResponseChoice]\n",
      "         * list of: ChatCompletionResponseChoice\n",
      "             index: int\n",
      "             message: ChatMessage\n",
      "                 role: str\n",
      "                 content: str\n",
      "                 name: Union[str, NoneType]\n",
      "                 tool_calls: Union[list[ToolCall], NoneType]\n",
      "                 tool_call_id: Union[str, NoneType]\n",
      "             finish_reason: Union[FinishReason, NoneType]\n",
      "     usage: UsageInfo\n",
      "         prompt_tokens: int\n",
      "         total_tokens: int\n",
      "         completion_tokens: Union[int, NoneType]\n"
     ]
    }
   ],
   "source": [
    "llm_mistral.print_schema()"
   ]
  },
  {
   "cell_type": "markdown",
   "id": "2756e03a-a909-420b-9578-727e28a7c560",
   "metadata": {},
   "source": [
    "<a id='pydantic'></a>\n",
    "## Collecting Pydantic objects from LLM responses\n",
    "\n",
    "As we see, there is a new object of the type \"ChatCompletionResponse\" which came from Mistral's Pydantic model.\n",
    "We can collect these objects in an iterator and examine it:\n"
   ]
  },
  {
   "cell_type": "code",
   "execution_count": 8,
   "id": "cfee8951-3538-4479-a92e-017bec1f4e7d",
   "metadata": {},
   "outputs": [
    {
     "name": "stdout",
     "output_type": "stream",
     "text": [
      "id='60ec647e6e4c447ba2f4affdd46252fd' object='chat.completion' created=1721714665 model='open-mixtral-8x22b' choices=[ChatCompletionResponseChoice(index=0, message=ChatMessage(role='assistant', content='{\"result\": \"Yes\"}', name=None, tool_calls=None, tool_call_id=None), finish_reason=<FinishReason.stop: 'stop'>)] usage=UsageInfo(prompt_tokens=525, total_tokens=532, completion_tokens=7)\n"
     ]
    }
   ],
   "source": [
    "iter = llm_mistral.collect(\"mistral\")\n",
    "print(next(iter))"
   ]
  },
  {
   "cell_type": "markdown",
   "id": "146bf502-215a-4970-a00a-0412ae4b8b14",
   "metadata": {},
   "source": [
    "Here is the complete list of all remaining evaluations:"
   ]
  },
  {
   "cell_type": "code",
   "execution_count": 9,
   "id": "85332bee-7338-42f7-b853-c7a3da548a64",
   "metadata": {},
   "outputs": [
    {
     "name": "stdout",
     "output_type": "stream",
     "text": [
      "{\"result\": \"Yes\"} {\"result\": \"No\"} {\"result\": \"No\"} {\"result\": \"No\"} {\"result\": \"Yes\"} {\"result\": \"Yes\"} {\"result\": \"Yes\"} {\"result\": \"Yes\"} {\"result\": \"No\"} {\"result\": \"No\"} {\"result\": \"No\"} {\"result\": \"Yes\"} {\"result\": \"No\"} {\"result\": \"Yes\"} {\"result\": \"Yes\"} {\"result\": \"No\"} {\"result\": \"Yes\"} {\"result\": \"Yes\"} {\"result\": \"Partially successful\"} {\"result\": \"Yes\"} {\"result\": \"Yes\"} {\"result\": \"No\"} {\"result\": \"Yes\"} {\"result\": \"Yes\"} {\"result\": \"No\"} {\"result\": \"Yes\"} {\"result\": \"Yes\"} {\"result\": \"Yes\"} {\"result\": \"No\"} {\"result\": \"No\"} {\"result\": \"No\"} {\"result\": \"Yes\"} {\"result\": \"Yes\"} {\"result\": \"Partially Successful\"} {\"result\": \"Yes\"} {\"result\": \"Yes\"} {\"result\": \"No\"} {\"result\": \"Yes\"} {\"result\": \"Yes\"} {\"result\": \"Yes\"} {\"result\": \"Yes\"} {\"result\": \"Yes\"} {\"result\": \"Yes\"} {\"result\": \"Yes\"} {\"result\": \"Yes\"} {\"result\": \"Yes\"} {\"result\": \"Yes\"} {\"result\": \"Yes\"} {\"result\": \"Yes\"} {\"result\": \"Yes\"} {\"result\": \"Yes\"} {\"result\": \"Yes\"} {\"result\": \"No\"} {\"result\": \"No\"} {\"result\": \"No\"} {\"result\": \"Yes\"} {\"result\": \"Yes\"} {\"result\": \"Yes\"} {\"result\": \"Yes\"} {\"result\": \"Yes\"} {\"result\": \"Yes\"} {\"result\": \"Yes\"} {\"result\": \"Yes\"} {\"result\": \"Yes\"} {\"result\": \"No\"} {\"result\": \"Yes\"} {\"result\": \"Yes\"} {\"result\": \"No\"} {\"result\": \"Yes\"} {\"result\": \"Yes\"} {\"result\": \"No\"} {\"result\": \"Yes\"} {\"result\": \"Yes\"} {\"result\": \"Yes\"} {\"result\": \"Yes\"} {\"result\": \"Yes\"} {\"result\": \"Yes\"} {\"result\": \"Yes\"}\n"
     ]
    }
   ],
   "source": [
    "print(*map(lambda chat_response: chat_response.choices[0].message.content, iter))"
   ]
  },
  {
   "cell_type": "markdown",
   "id": "f0f56e22-6a57-48d2-9563-65a03395d933",
   "metadata": {},
   "source": [
    "<a id='analytics'></a>\n",
    "## Comparative LLM analytics\n",
    "\n",
    "One frequent situation during LLM evaluations or building agentic systems is the need to assess several LLM models at once. This can be done to assess their relative performance; construct mixtures of experts of several weaker models, etc.\n",
    "\n",
    "This task is straightforward on DataChain because the intermediate dataset results can be easily saved and analytical queries are vectorized. For example, let us add an execution run of Anthropic LLM model to the chain:"
   ]
  },
  {
   "cell_type": "code",
   "execution_count": 6,
   "id": "6dcc61c5-c4ad-4f3e-8af0-94f75538a817",
   "metadata": {},
   "outputs": [
    {
     "name": "stderr",
     "output_type": "stream",
     "text": [
      "Processed: 79 rows [01:54,  1.45s/ rows]\n"
     ]
    }
   ],
   "source": [
    "import anthropic\n",
    "from anthropic.types.message import Message as ClaudeModel\n",
    "\n",
    "claude_api_key = os.environ[\"ANTHROPIC_API_KEY\"]\n",
    "prompt = \"Was this dialog successful? Describe the 'result' as 'Yes' or 'No' in a short JSON and nothing else\"\n",
    "\n",
    "DataModel.register(ClaudeModel)\n",
    "\n",
    "def claude_api_response(claude_client, content, prompt):\n",
    "    return claude_client.messages.create(\n",
    "        model=\"claude-3-5-sonnet-20240620\",\n",
    "        max_tokens=1024,\n",
    "        system=prompt,\n",
    "        messages=[\n",
    "            {\"role\": \"user\", \"content\": f\"{content}\"},\n",
    "            {\"role\": \"assistant\", \"content\": \"{\"}, # prefill the Claude response to enforce JSON\n",
    "        ],\n",
    "    )\n",
    "\n",
    "llm_mistral_claude = (\n",
    "    llm_mistral\n",
    "    .setup(claude_client=lambda: anthropic.Anthropic(api_key=claude_api_key))\n",
    "    .map(\n",
    "        claude=lambda dialog, claude_client: claude_api_response(\n",
    "            claude_client, dialog.text, prompt=prompt\n",
    "        ),\n",
    "        output=ClaudeModel,\n",
    "    )\n",
    "    .save(\"llm-mistral-claude\")\n",
    ")"
   ]
  },
  {
   "cell_type": "code",
   "execution_count": 14,
   "id": "04735ded-75de-4e00-8c14-b6bc6d5a7e77",
   "metadata": {},
   "outputs": [
    {
     "name": "stdout",
     "output_type": "stream",
     "text": [
      " dialog: Dialog\n",
      "     id: int\n",
      "     text: str\n",
      " mistral: ChatCompletionResponse\n",
      "     id: str\n",
      "     object: str\n",
      "     created: int\n",
      "     model: str\n",
      "     choices: list[ChatCompletionResponseChoice]\n",
      "         * list of: ChatCompletionResponseChoice\n",
      "             index: int\n",
      "             message: ChatMessage\n",
      "                 role: str\n",
      "                 content: str\n",
      "                 name: Union[str, NoneType]\n",
      "                 tool_calls: Union[list[ToolCall], NoneType]\n",
      "                 tool_call_id: Union[str, NoneType]\n",
      "             finish_reason: Union[FinishReason, NoneType]\n",
      "     usage: UsageInfo\n",
      "         prompt_tokens: int\n",
      "         total_tokens: int\n",
      "         completion_tokens: Union[int, NoneType]\n",
      " claude: Message\n",
      "     id: str\n",
      "     content: list[Union[TextBlock, ToolUseBlock]]\n",
      "     model: str\n",
      "     role: Literal\n",
      "     stop_reason: Union[Literal, NoneType]\n",
      "     stop_sequence: Union[str, NoneType]\n",
      "     type: Literal\n",
      "     usage: Usage\n",
      "         input_tokens: int\n",
      "         output_tokens: int\n"
     ]
    }
   ],
   "source": [
    "llm_mistral_claude.print_schema()"
   ]
  },
  {
   "cell_type": "markdown",
   "id": "f950c945-fa25-41cf-a8bd-854f099a2d8b",
   "metadata": {},
   "source": [
    "As we can see from the above, now the chain include schema for Claude responses.\n",
    "Let's use the data we have collected to run some analytical queries:"
   ]
  },
  {
   "cell_type": "code",
   "execution_count": 7,
   "id": "2d316145-c3b4-419b-b731-32de9149b56a",
   "metadata": {},
   "outputs": [
    {
     "data": {
      "image/png": "[encoded data removed]",
      "text/plain": [
       "<Figure size 640x480 with 1 Axes>"
      ]
     },
     "metadata": {},
     "output_type": "display_data"
    }
   ],
   "source": [
    "import matplotlib.pyplot as plt\n",
    "\n",
    "m_input = 0.000002\n",
    "m_output = 0.000006\n",
    "c_input = 0.000003\n",
    "c_output = 0.000015\n",
    "\n",
    "mistral_cost = (\n",
    "    llm_mistral_claude.sum(\"mistral.usage.prompt_tokens\") * m_input\n",
    "    + llm_mistral_claude.sum(\"mistral.usage.completion_tokens\") * m_output\n",
    ")\n",
    "claude_cost = (\n",
    "    llm_mistral_claude.sum(\"claude.usage.input_tokens\") * c_input\n",
    "    + llm_mistral_claude.sum(\"claude.usage.output_tokens\") * c_output\n",
    ")\n",
    "\n",
    "plt.bar([\"Open Mixtral 8x22b\", \"Claude Sonnet-3.5\"], [mistral_cost, claude_cost])\n",
    "plt.title(f\"Cost of {llm_mistral_claude.count()}x LLM evaluations by Mistral vs Anthropic API, $\")\n",
    "plt.show()"
   ]
  },
  {
   "cell_type": "markdown",
   "id": "ab8a36db-eb41-4791-91c6-cdd2f6e927bb",
   "metadata": {},
   "source": [
    "As we can see, the open-sourced Mixtral model is cheaper to run than Claude Sonnet.\n",
    "Let us see how often these two models disagree:"
   ]
  },
  {
   "cell_type": "code",
   "execution_count": 11,
   "id": "98b5b0f3-63bf-4fd4-8efd-632737bee9c5",
   "metadata": {},
   "outputs": [
    {
     "name": "stderr",
     "output_type": "stream",
     "text": [
      "Processed: 79 rows [00:00, 14130.06 rows/s]\n",
      "Processed: 79 rows [00:00, 11070.46 rows/s]\n"
     ]
    },
    {
     "data": {
      "image/png": "[encoded data removed]",
      "text/plain": [
       "<Figure size 640x480 with 2 Axes>"
      ]
     },
     "metadata": {},
     "output_type": "display_data"
    }
   ],
   "source": [
    "import json\n",
    "from sklearn.metrics import ConfusionMatrixDisplay, confusion_matrix\n",
    "\n",
    "new_chain = (\n",
    "    DataChain.from_dataset(\"llm-mistral-claude\")\n",
    "    .map(mistral_rating=lambda mistral: json.loads(mistral.choices[0].message.content)[\"result\"])\n",
    "    .map(claude_rating=lambda claude: json.loads('{'+claude.content[0].text)[\"result\"])\n",
    "    .save()\n",
    ")\n",
    "\n",
    "y_mistral = new_chain.collect(\"mistral_rating\")\n",
    "y_claude = new_chain.collect(\"claude_rating\")\n",
    "\n",
    "cm = confusion_matrix(list(y_claude), list(y_mistral))\n",
    "disp = ConfusionMatrixDisplay(confusion_matrix=cm, display_labels=[\"No\", \"Yes\"])\n",
    "disp.plot(cmap=plt.cm.Blues)\n",
    "\n",
    "plt.title(\"LLM judge confusion Matrix\")\n",
    "plt.xlabel(\"Mixtral 8x22b\")\n",
    "plt.ylabel(\"Claude Sonnet-3.5\")\n",
    "\n",
    "plt.show()"
   ]
  },
  {
   "cell_type": "markdown",
   "id": "014c2ed0-8338-41d7-b8ef-353e103b89dd",
   "metadata": {},
   "source": [
    "As we can see from the confusion matrix, the two LLMs only disagree when Mixtral gives it a pass, while Sonnet does not.\n"
   ]
  },
  {
   "cell_type": "code",
   "execution_count": null,
   "id": "8c958632-13bf-4265-b842-6698e5b75142",
   "metadata": {},
   "outputs": [],
   "source": []
  }
 ],
 "metadata": {
  "kernelspec": {
   "display_name": "Python 3 (ipykernel)",
   "language": "python",
   "name": "python3"
  },
  "language_info": {
   "codemirror_mode": {
    "name": "ipython",
    "version": 3
   },
   "file_extension": ".py",
   "mimetype": "text/x-python",
   "name": "python",
   "nbconvert_exporter": "python",
   "pygments_lexer": "ipython3",
   "version": "3.9.4"
  }
 },
 "nbformat": 4,
 "nbformat_minor": 5
}
