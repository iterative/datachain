{
 "cells": [
  {
   "cell_type": "markdown",
   "id": "d47ef272-a467-451d-8e34-a1b5fbb29d49",
   "metadata": {},
   "source": [
    "<img src=\"static/images/datachain-logo.png\" alt=\"Dataset\" style=\"width: 200px;\"/>\n",
    "\n",
    "# 🖼 Working with Image DataChains\n",
    "\n",
    "Welcome to our second tutorial, in which we dive into managing and optimizing image datasets with DataChain! Enhance your skills in handling complex image data, from filtering to minimizing redundancy.\n",
    "\n",
    "## 📋 Agenda\n",
    "1. **Filtering & Sorting** - Refine your datasets to get exactly what you need.\n",
    "2. **Adding Annotations (Signals)** - Enrich your data with meaningful attributes.\n",
    "3. **Creating and Versioning Datasets** - Manage changes and maintain historical versions of your datasets.\n",
    "4. **Similarity Search** - Discover and analyze similar images within your dataset.\n",
    "5. **Minimizing Redundant Images** - Optimize your storage and processing by reducing duplicates.\n",
    "\n",
    "## 🛠 Prerequisites\n",
    "Before diving in, make sure you’re set up:\n",
    "- **DataChain Installation:** Ensure DataChain is up and running in your environment.\n",
    "- **Dataset Preparation:** The `fashion-product-images` should already be created. If this is your first time, please start with `1-quick-start.ipynb` to get up to speed.\n",
    "\n",
    "This tutorial is designed to be straightforward and practical, allowing you to apply these concepts directly to your projects. Let’s optimize how you manage image datasets and push the boundaries of what you can achieve with DataChain!"
   ]
  },
  {
   "cell_type": "markdown",
   "id": "f93e0212-b46b-41a8-b5b7-07513db1a413",
   "metadata": {},
   "source": [
    "# 📚 Core Concepts & Execution Workflow\n",
    "\n",
    "**AI 🔗 DataChain - a data structure for batch data processing and evaluation**\n",
    "- It represents a sequence of data manipulation steps such as reading data from\n",
    "storages, running AI or LLM models or calling external services API to validate or\n",
    "enrich data.\n",
    "\n",
    "<img src=\"static/images/core-concepts.png\" alt=\"Dataset\" style=\"width: 800px;\"/>\n",
    "\n",
    "| Concept                  | Description |\n",
    "|--------------------------|-------------|\n",
    "| **DataChain SaaS / Studio** | Highly performant Unstructured Intelligence Platform for enterprises to automate ETL pipelines and boost collaboration and scalability. Provides UI to manage datasets, edit scripts, and execute compute jobs. |\n",
    "| **DataChain Library**    | DataChain Library  provides a data frame-like interface that can automatically reference data stored as files (text, images, video) locally or in the cloud. |\n",
    "| **DataChain**             | DataChain object is a data structure for batch data processing and evaluation. <ul><li>**Object** represents a file in a simple case but can be a virtual “file” or a part of a file.</li><li>**Signal** or **Column** is an object’s attribute.</li><li>**Row** is a set of signals for a given object.</li><li>**Dataset version** is an immutable set of objects with signals / columns</li><li>**Dataset operations**: updating dataset and querying dataset.</li></ul> |\n",
    "| **Query**                | Query is a way to get a dataset from another dataset as a subset of its objects and signals. Query can create new signals but only trivial one that can be computed in DB. |\n",
    "| **Processor**            | The processor creates a dataset from another dataset by extending the set of signals or generating new objects. |\n"
   ]
  },
  {
   "cell_type": "code",
   "execution_count": 1,
   "id": "74f03f34-ae13-4289-951d-555f7d14d3f3",
   "metadata": {
    "scrolled": true
   },
   "outputs": [],
   "source": [
    "%load_ext autoreload\n",
    "%autoreload 2\n",
    "\n",
    "import os\n",
    "import numpy as np\n",
    "\n",
    "from datachain.lib.dc import DataChain, C\n",
    "\n",
    "from src.clustering import select_diverse_elements"
   ]
  },
  {
   "cell_type": "markdown",
   "id": "b439c177-646f-4f32-9d3c-8af033d1648a",
   "metadata": {},
   "source": [
    "# 🔍 Basic Operations: Selecting, Filtering, Ordering, Grouping\n",
    "\n",
    "<img src=\"static/images/basic-operations.png\" alt=\"Dataset\" style=\"width: 600px;\"/>\n",
    "\n",
    "Explore essential operations to manipulate and manage your datasets effectively. This section will guide you through the fundamental techniques of selecting, filtering, ordering, grouping, annotating, and version management.\n",
    "\n",
    "📋 Key Operations\n",
    "1. Connecting to a Dataset\n",
    "2. Filtering & Sorting\n",
    "3. Adding Annotations (Signals)\n",
    "4. Saving and Versioning\n",
    "5. Deleting Dataset Versions"
   ]
  },
  {
   "cell_type": "markdown",
   "id": "38fb449c-5842-4c2c-99d8-1ebd23595ea8",
   "metadata": {},
   "source": [
    "## Create a DataChain"
   ]
  },
  {
   "cell_type": "code",
   "execution_count": 2,
   "id": "002bba93-992a-43ff-8983-db58169d0238",
   "metadata": {
    "scrolled": true
   },
   "outputs": [
    {
     "data": {
      "text/html": [
       "<div>\n",
       "<style scoped>\n",
       "    .dataframe tbody tr th:only-of-type {\n",
       "        vertical-align: middle;\n",
       "    }\n",
       "\n",
       "    .dataframe tbody tr th {\n",
       "        vertical-align: top;\n",
       "    }\n",
       "\n",
       "    .dataframe thead th {\n",
       "        text-align: right;\n",
       "    }\n",
       "</style>\n",
       "<table border=\"1\" class=\"dataframe\">\n",
       "  <thead>\n",
       "    <tr style=\"text-align: right;\">\n",
       "      <th></th>\n",
       "      <th>id</th>\n",
       "      <th>random</th>\n",
       "      <th>vtype</th>\n",
       "      <th>dir_type</th>\n",
       "      <th>parent</th>\n",
       "      <th>name</th>\n",
       "      <th>etag</th>\n",
       "      <th>version</th>\n",
       "      <th>is_latest</th>\n",
       "      <th>last_modified</th>\n",
       "      <th>...</th>\n",
       "      <th>gender</th>\n",
       "      <th>mastercategory</th>\n",
       "      <th>subcategory</th>\n",
       "      <th>articletype</th>\n",
       "      <th>basecolour</th>\n",
       "      <th>season</th>\n",
       "      <th>year</th>\n",
       "      <th>usage</th>\n",
       "      <th>productdisplayname</th>\n",
       "      <th>filename</th>\n",
       "    </tr>\n",
       "  </thead>\n",
       "  <tbody>\n",
       "    <tr>\n",
       "      <th>0</th>\n",
       "      <td>1</td>\n",
       "      <td>1555367085137818095</td>\n",
       "      <td></td>\n",
       "      <td>0</td>\n",
       "      <td>fashion-product-images/images</td>\n",
       "      <td>10000.jpg</td>\n",
       "      <td>CPzf74/e+4YDEAE=</td>\n",
       "      <td>1719489653370876</td>\n",
       "      <td>1</td>\n",
       "      <td>2024-06-27 12:00:53.421000+00:00</td>\n",
       "      <td>...</td>\n",
       "      <td>Unisex</td>\n",
       "      <td>Footwear</td>\n",
       "      <td>Flip Flops</td>\n",
       "      <td>Flip Flops</td>\n",
       "      <td>Navy Blue</td>\n",
       "      <td>Winter</td>\n",
       "      <td>2012.0</td>\n",
       "      <td>Casual</td>\n",
       "      <td>Disney Unisex Kids Basic Navy Blue Flip Flops</td>\n",
       "      <td>10000.jpg</td>\n",
       "    </tr>\n",
       "    <tr>\n",
       "      <th>1</th>\n",
       "      <td>2</td>\n",
       "      <td>2127561607577938352</td>\n",
       "      <td></td>\n",
       "      <td>0</td>\n",
       "      <td>fashion-product-images/images</td>\n",
       "      <td>10001.jpg</td>\n",
       "      <td>CKaGwIne+4YDEAE=</td>\n",
       "      <td>1719489640006438</td>\n",
       "      <td>1</td>\n",
       "      <td>2024-06-27 12:00:40.056000+00:00</td>\n",
       "      <td>...</td>\n",
       "      <td>Men</td>\n",
       "      <td>Footwear</td>\n",
       "      <td>Shoes</td>\n",
       "      <td>Casual Shoes</td>\n",
       "      <td>Black</td>\n",
       "      <td>Summer</td>\n",
       "      <td>2013.0</td>\n",
       "      <td>Casual</td>\n",
       "      <td>Clarks Men Black Leather Loafers</td>\n",
       "      <td>10001.jpg</td>\n",
       "    </tr>\n",
       "    <tr>\n",
       "      <th>2</th>\n",
       "      <td>3</td>\n",
       "      <td>5441151968502213098</td>\n",
       "      <td></td>\n",
       "      <td>0</td>\n",
       "      <td>fashion-product-images/images</td>\n",
       "      <td>10002.jpg</td>\n",
       "      <td>CKTW55fe+4YDEAE=</td>\n",
       "      <td>1719489670015780</td>\n",
       "      <td>1</td>\n",
       "      <td>2024-06-27 12:01:10.067000+00:00</td>\n",
       "      <td>...</td>\n",
       "      <td>Unisex</td>\n",
       "      <td>Accessories</td>\n",
       "      <td>Socks</td>\n",
       "      <td>Socks</td>\n",
       "      <td>White</td>\n",
       "      <td>Summer</td>\n",
       "      <td>2012.0</td>\n",
       "      <td>Casual</td>\n",
       "      <td>ADIDAS Unisex White Pack of 3 Socks</td>\n",
       "      <td>10002.jpg</td>\n",
       "    </tr>\n",
       "  </tbody>\n",
       "</table>\n",
       "</div>"
      ],
      "text/plain": [
       "   id               random vtype  dir_type                         parent  \\\n",
       "0   1  1555367085137818095               0  fashion-product-images/images   \n",
       "1   2  2127561607577938352               0  fashion-product-images/images   \n",
       "2   3  5441151968502213098               0  fashion-product-images/images   \n",
       "\n",
       "        name              etag           version  is_latest  \\\n",
       "0  10000.jpg  CPzf74/e+4YDEAE=  1719489653370876          1   \n",
       "1  10001.jpg  CKaGwIne+4YDEAE=  1719489640006438          1   \n",
       "2  10002.jpg  CKTW55fe+4YDEAE=  1719489670015780          1   \n",
       "\n",
       "                     last_modified  ...  gender mastercategory subcategory  \\\n",
       "0 2024-06-27 12:00:53.421000+00:00  ...  Unisex       Footwear  Flip Flops   \n",
       "1 2024-06-27 12:00:40.056000+00:00  ...     Men       Footwear       Shoes   \n",
       "2 2024-06-27 12:01:10.067000+00:00  ...  Unisex    Accessories       Socks   \n",
       "\n",
       "    articletype basecolour  season    year   usage  \\\n",
       "0    Flip Flops  Navy Blue  Winter  2012.0  Casual   \n",
       "1  Casual Shoes      Black  Summer  2013.0  Casual   \n",
       "2         Socks      White  Summer  2012.0  Casual   \n",
       "\n",
       "                              productdisplayname   filename  \n",
       "0  Disney Unisex Kids Basic Navy Blue Flip Flops  10000.jpg  \n",
       "1               Clarks Men Black Leather Loafers  10001.jpg  \n",
       "2            ADIDAS Unisex White Pack of 3 Socks  10002.jpg  "
      ]
     },
     "metadata": {},
     "output_type": "display_data"
    },
    {
     "name": "stdout",
     "output_type": "stream",
     "text": [
      "[limited by 3 objects]\n"
     ]
    }
   ],
   "source": [
    "# Create a DataChain from previously save dataset\n",
    "\n",
    "ds = (\n",
    "    DataChain.from_dataset(\"fashion-product-images\")\n",
    ")\n",
    "\n",
    "ds.show(3)"
   ]
  },
  {
   "cell_type": "markdown",
   "id": "1c920bf9-e3fa-4b40-8c45-b53f8105ecbd",
   "metadata": {
    "execution": {
     "iopub.execute_input": "2024-05-23T18:23:37.839668Z",
     "iopub.status.busy": "2024-05-23T18:23:37.839204Z",
     "iopub.status.idle": "2024-05-23T18:23:37.842849Z",
     "shell.execute_reply": "2024-05-23T18:23:37.842299Z",
     "shell.execute_reply.started": "2024-05-23T18:23:37.839639Z"
    },
    "scrolled": true
   },
   "source": [
    "## Filtering & Sorting"
   ]
  },
  {
   "cell_type": "markdown",
   "id": "3dc2a69c-ddbb-4e99-8bd8-182aa4463d32",
   "metadata": {},
   "source": [
    "Assume you want to track the evolution of product images over time, or to compare the front-facing images for different products. \n",
    "\n",
    "- Select specific columns: `gender`, `masterCategory`, `subCategory`, `articleType`, `baseColour`, `season`, `year`, `usage`, `productDisplayName`\n",
    "- Filter to keep only `Topwear` products for a `Summer` season\n",
    "- Sort the data by `year` in ascending order: `order_by(\"year)`\n",
    "- Group the data by `gender`: `group_by('gender')`\n",
    "- Convert the grouped data to a Pandas DataFrame: `to_pandas()`\n"
   ]
  },
  {
   "cell_type": "code",
   "execution_count": 3,
   "id": "e8f1d24b-55b0-4394-848d-89b7ec8332a7",
   "metadata": {
    "scrolled": true
   },
   "outputs": [
    {
     "data": {
      "text/html": [
       "<div>\n",
       "<style scoped>\n",
       "    .dataframe tbody tr th:only-of-type {\n",
       "        vertical-align: middle;\n",
       "    }\n",
       "\n",
       "    .dataframe tbody tr th {\n",
       "        vertical-align: top;\n",
       "    }\n",
       "\n",
       "    .dataframe thead th {\n",
       "        text-align: right;\n",
       "    }\n",
       "</style>\n",
       "<table border=\"1\" class=\"dataframe\">\n",
       "  <thead>\n",
       "    <tr style=\"text-align: right;\">\n",
       "      <th></th>\n",
       "      <th>parent</th>\n",
       "      <th>name</th>\n",
       "      <th>usage</th>\n",
       "      <th>season</th>\n",
       "      <th>year</th>\n",
       "      <th>gender</th>\n",
       "    </tr>\n",
       "  </thead>\n",
       "  <tbody>\n",
       "    <tr>\n",
       "      <th>0</th>\n",
       "      <td>fashion-product-images/images</td>\n",
       "      <td>10005.jpg</td>\n",
       "      <td>Casual</td>\n",
       "      <td>Fall</td>\n",
       "      <td>2011.0</td>\n",
       "      <td>Boys</td>\n",
       "    </tr>\n",
       "    <tr>\n",
       "      <th>1</th>\n",
       "      <td>fashion-product-images/images</td>\n",
       "      <td>10009.jpg</td>\n",
       "      <td>Casual</td>\n",
       "      <td>Summer</td>\n",
       "      <td>2011.0</td>\n",
       "      <td>Women</td>\n",
       "    </tr>\n",
       "    <tr>\n",
       "      <th>2</th>\n",
       "      <td>fashion-product-images/images</td>\n",
       "      <td>10054.jpg</td>\n",
       "      <td>Casual</td>\n",
       "      <td>Summer</td>\n",
       "      <td>2012.0</td>\n",
       "      <td>Girls</td>\n",
       "    </tr>\n",
       "    <tr>\n",
       "      <th>3</th>\n",
       "      <td>fashion-product-images/images</td>\n",
       "      <td>10000.jpg</td>\n",
       "      <td>Casual</td>\n",
       "      <td>Winter</td>\n",
       "      <td>2012.0</td>\n",
       "      <td>Unisex</td>\n",
       "    </tr>\n",
       "    <tr>\n",
       "      <th>4</th>\n",
       "      <td>fashion-product-images/images</td>\n",
       "      <td>10001.jpg</td>\n",
       "      <td>Casual</td>\n",
       "      <td>Summer</td>\n",
       "      <td>2013.0</td>\n",
       "      <td>Men</td>\n",
       "    </tr>\n",
       "  </tbody>\n",
       "</table>\n",
       "</div>"
      ],
      "text/plain": [
       "                          parent       name   usage  season    year  gender\n",
       "0  fashion-product-images/images  10005.jpg  Casual    Fall  2011.0    Boys\n",
       "1  fashion-product-images/images  10009.jpg  Casual  Summer  2011.0   Women\n",
       "2  fashion-product-images/images  10054.jpg  Casual  Summer  2012.0   Girls\n",
       "3  fashion-product-images/images  10000.jpg  Casual  Winter  2012.0  Unisex\n",
       "4  fashion-product-images/images  10001.jpg  Casual  Summer  2013.0     Men"
      ]
     },
     "execution_count": 3,
     "metadata": {},
     "output_type": "execute_result"
    }
   ],
   "source": [
    "(\n",
    "    DataChain(name=\"fashion-product-images\")\n",
    "    .select(\"parent\", \"name\", \"usage\",\"season\", \"year\", \"gender\",)\n",
    "    .filter(C(\"usage\") == \"Casual\" and C(\"season\") == \"Summer\")\n",
    "    .order_by(\"year\")\n",
    "    .group_by(\"gender\")\n",
    "    .to_pandas()\n",
    ")\n"
   ]
  },
  {
   "cell_type": "markdown",
   "id": "6828302f-21b7-48fc-b484-9b58fc4d6e8e",
   "metadata": {},
   "source": [
    "The example demonstrates how to leverage basic DataChain operations to process and extract meaningful insights from a dataset.\n",
    "\n",
    "- **Select Fields**: The `.select()` method specifies which columns to include in the output. Here, it selects columns like `parent`, `name`, `usage`, `season`, `year`, and `gender`.\n",
    "  \n",
    "- **Apply Filters**: The `.filter()` method refines the dataset to include only records where both `usage` is 'Casual' and `season` is 'Summer'. This focuses the analysis on casual clothing items used during the summer.\n",
    "- **Ordering**: The `.order_by(\"year\")` method sorts the data chronologically by the `year` column, organizing the entries by their temporal context.\n",
    "- **Grouping**: The `.group_by('gender')` method groups the data by the `gender` column. This aggregation is crucial for analyzing trends and differences in clothing preferences across genders.\n",
    "- **Convert to DataFrame**: Finally, the `.to_pandas()` function converts the dataset into a Pandas DataFrame. This transformation facilitates further analysis with Python's extensive data manipulation tools.\n",
    "\n",
    "This workflow efficiently handles data extraction and preprocessing, essential for machine learning tasks, allowing quick exploration of images and associated metadata in structured fashion workflows."
   ]
  },
  {
   "cell_type": "markdown",
   "id": "3f40b688-cd6e-4805-9e38-1c224751256a",
   "metadata": {},
   "source": [
    "## Add signals (columns) with `map()` method\n",
    "\n",
    "- The `map()` method applies a function to each row to create new signals.  It returns a chain itself with new signals.\n",
    "- The mapping function should return a new object for each row.\n",
    "\n",
    "An example below demonstrates how to create `prod_name_lengh` column using `.map()` and a lambda function applied to the `name` column"
   ]
  },
  {
   "cell_type": "code",
   "execution_count": 4,
   "id": "df95dd93-3db6-4d11-81df-bd282a6b7a9e",
   "metadata": {
    "scrolled": true
   },
   "outputs": [
    {
     "name": "stderr",
     "output_type": "stream",
     "text": [
      "Processed: 44439 rows [00:00, 44576.68 rows/s]\n"
     ]
    },
    {
     "data": {
      "text/html": [
       "<div>\n",
       "<style scoped>\n",
       "    .dataframe tbody tr th:only-of-type {\n",
       "        vertical-align: middle;\n",
       "    }\n",
       "\n",
       "    .dataframe tbody tr th {\n",
       "        vertical-align: top;\n",
       "    }\n",
       "\n",
       "    .dataframe thead th {\n",
       "        text-align: right;\n",
       "    }\n",
       "</style>\n",
       "<table border=\"1\" class=\"dataframe\">\n",
       "  <thead>\n",
       "    <tr style=\"text-align: right;\">\n",
       "      <th></th>\n",
       "      <th>id</th>\n",
       "      <th>random</th>\n",
       "      <th>vtype</th>\n",
       "      <th>dir_type</th>\n",
       "      <th>parent</th>\n",
       "      <th>name</th>\n",
       "      <th>etag</th>\n",
       "      <th>version</th>\n",
       "      <th>is_latest</th>\n",
       "      <th>last_modified</th>\n",
       "      <th>...</th>\n",
       "      <th>mastercategory</th>\n",
       "      <th>subcategory</th>\n",
       "      <th>articletype</th>\n",
       "      <th>basecolour</th>\n",
       "      <th>season</th>\n",
       "      <th>year</th>\n",
       "      <th>usage</th>\n",
       "      <th>productdisplayname</th>\n",
       "      <th>filename</th>\n",
       "      <th>prod_name_length</th>\n",
       "    </tr>\n",
       "  </thead>\n",
       "  <tbody>\n",
       "    <tr>\n",
       "      <th>0</th>\n",
       "      <td>1</td>\n",
       "      <td>1555367085137818095</td>\n",
       "      <td></td>\n",
       "      <td>0</td>\n",
       "      <td>fashion-product-images/images</td>\n",
       "      <td>10000.jpg</td>\n",
       "      <td>CPzf74/e+4YDEAE=</td>\n",
       "      <td>1719489653370876</td>\n",
       "      <td>1</td>\n",
       "      <td>2024-06-27 12:00:53.421000+00:00</td>\n",
       "      <td>...</td>\n",
       "      <td>Footwear</td>\n",
       "      <td>Flip Flops</td>\n",
       "      <td>Flip Flops</td>\n",
       "      <td>Navy Blue</td>\n",
       "      <td>Winter</td>\n",
       "      <td>2012.0</td>\n",
       "      <td>Casual</td>\n",
       "      <td>Disney Unisex Kids Basic Navy Blue Flip Flops</td>\n",
       "      <td>10000.jpg</td>\n",
       "      <td>9</td>\n",
       "    </tr>\n",
       "    <tr>\n",
       "      <th>1</th>\n",
       "      <td>2</td>\n",
       "      <td>2127561607577938352</td>\n",
       "      <td></td>\n",
       "      <td>0</td>\n",
       "      <td>fashion-product-images/images</td>\n",
       "      <td>10001.jpg</td>\n",
       "      <td>CKaGwIne+4YDEAE=</td>\n",
       "      <td>1719489640006438</td>\n",
       "      <td>1</td>\n",
       "      <td>2024-06-27 12:00:40.056000+00:00</td>\n",
       "      <td>...</td>\n",
       "      <td>Footwear</td>\n",
       "      <td>Shoes</td>\n",
       "      <td>Casual Shoes</td>\n",
       "      <td>Black</td>\n",
       "      <td>Summer</td>\n",
       "      <td>2013.0</td>\n",
       "      <td>Casual</td>\n",
       "      <td>Clarks Men Black Leather Loafers</td>\n",
       "      <td>10001.jpg</td>\n",
       "      <td>9</td>\n",
       "    </tr>\n",
       "    <tr>\n",
       "      <th>2</th>\n",
       "      <td>3</td>\n",
       "      <td>5441151968502213098</td>\n",
       "      <td></td>\n",
       "      <td>0</td>\n",
       "      <td>fashion-product-images/images</td>\n",
       "      <td>10002.jpg</td>\n",
       "      <td>CKTW55fe+4YDEAE=</td>\n",
       "      <td>1719489670015780</td>\n",
       "      <td>1</td>\n",
       "      <td>2024-06-27 12:01:10.067000+00:00</td>\n",
       "      <td>...</td>\n",
       "      <td>Accessories</td>\n",
       "      <td>Socks</td>\n",
       "      <td>Socks</td>\n",
       "      <td>White</td>\n",
       "      <td>Summer</td>\n",
       "      <td>2012.0</td>\n",
       "      <td>Casual</td>\n",
       "      <td>ADIDAS Unisex White Pack of 3 Socks</td>\n",
       "      <td>10002.jpg</td>\n",
       "      <td>9</td>\n",
       "    </tr>\n",
       "  </tbody>\n",
       "</table>\n",
       "</div>"
      ],
      "text/plain": [
       "   id               random vtype  dir_type                         parent  \\\n",
       "0   1  1555367085137818095               0  fashion-product-images/images   \n",
       "1   2  2127561607577938352               0  fashion-product-images/images   \n",
       "2   3  5441151968502213098               0  fashion-product-images/images   \n",
       "\n",
       "        name              etag           version  is_latest  \\\n",
       "0  10000.jpg  CPzf74/e+4YDEAE=  1719489653370876          1   \n",
       "1  10001.jpg  CKaGwIne+4YDEAE=  1719489640006438          1   \n",
       "2  10002.jpg  CKTW55fe+4YDEAE=  1719489670015780          1   \n",
       "\n",
       "                     last_modified  ...  mastercategory subcategory  \\\n",
       "0 2024-06-27 12:00:53.421000+00:00  ...        Footwear  Flip Flops   \n",
       "1 2024-06-27 12:00:40.056000+00:00  ...        Footwear       Shoes   \n",
       "2 2024-06-27 12:01:10.067000+00:00  ...     Accessories       Socks   \n",
       "\n",
       "    articletype basecolour  season    year   usage  \\\n",
       "0    Flip Flops  Navy Blue  Winter  2012.0  Casual   \n",
       "1  Casual Shoes      Black  Summer  2013.0  Casual   \n",
       "2         Socks      White  Summer  2012.0  Casual   \n",
       "\n",
       "                              productdisplayname   filename prod_name_length  \n",
       "0  Disney Unisex Kids Basic Navy Blue Flip Flops  10000.jpg                9  \n",
       "1               Clarks Men Black Leather Loafers  10001.jpg                9  \n",
       "2            ADIDAS Unisex White Pack of 3 Socks  10002.jpg                9  "
      ]
     },
     "metadata": {},
     "output_type": "display_data"
    },
    {
     "name": "stdout",
     "output_type": "stream",
     "text": [
      "[limited by 3 objects]\n"
     ]
    }
   ],
   "source": [
    "# Add signals (columns) with map() method\n",
    "\n",
    "(\n",
    "    DataChain.from_dataset(\"fashion-product-images\")\n",
    "    .map(prod_name_length=lambda name: len(name), output=int)\n",
    "    .show(3)\n",
    ")\n"
   ]
  },
  {
   "cell_type": "markdown",
   "id": "0e49e1ef-a179-401e-b141-0540d322b144",
   "metadata": {},
   "source": [
    "## Saving and Versioning Datasets\n",
    "\n",
    "DataChain supports versioning of datasets. You can save a dataset as a new version and load specific versions:\n",
    "\n",
    "You can load a specific version by specifying the `version` parameter."
   ]
  },
  {
   "cell_type": "markdown",
   "id": "22a6a7a2-7e67-4f16-be89-213f119c13b1",
   "metadata": {},
   "source": [
    "### Save a dataset (version)\n",
    "\n",
    "- Let's add a column and save a new version of the dataset"
   ]
  },
  {
   "cell_type": "code",
   "execution_count": 5,
   "id": "adb5beda-4a5d-4bad-b5a5-6e4fe9cbc8a4",
   "metadata": {},
   "outputs": [
    {
     "name": "stderr",
     "output_type": "stream",
     "text": [
      "Processed: 11538 rows [00:00, 34872.74 rows/s]\n"
     ]
    },
    {
     "data": {
      "text/plain": [
       "<datachain.lib.dc.DataChain at 0x10782f450>"
      ]
     },
     "execution_count": 5,
     "metadata": {},
     "output_type": "execute_result"
    }
   ],
   "source": [
    "# Save a dataset (version)\n",
    "\n",
    "(\n",
    "    DataChain.from_dataset(name=\"fashion-topwear\")\n",
    "    .map(prod_name_length=lambda name: len(name), output=int)\n",
    "    .save(\"fashion-tmp\")\n",
    ")\n"
   ]
  },
  {
   "cell_type": "code",
   "execution_count": 6,
   "id": "83d95b66-f8c0-4886-998a-95236b8bd236",
   "metadata": {
    "scrolled": true
   },
   "outputs": [
    {
     "data": {
      "text/html": [
       "<div>\n",
       "<style scoped>\n",
       "    .dataframe tbody tr th:only-of-type {\n",
       "        vertical-align: middle;\n",
       "    }\n",
       "\n",
       "    .dataframe tbody tr th {\n",
       "        vertical-align: top;\n",
       "    }\n",
       "\n",
       "    .dataframe thead th {\n",
       "        text-align: right;\n",
       "    }\n",
       "</style>\n",
       "<table border=\"1\" class=\"dataframe\">\n",
       "  <thead>\n",
       "    <tr style=\"text-align: right;\">\n",
       "      <th></th>\n",
       "      <th>id</th>\n",
       "      <th>random</th>\n",
       "      <th>vtype</th>\n",
       "      <th>dir_type</th>\n",
       "      <th>parent</th>\n",
       "      <th>name</th>\n",
       "      <th>etag</th>\n",
       "      <th>version</th>\n",
       "      <th>is_latest</th>\n",
       "      <th>last_modified</th>\n",
       "      <th>...</th>\n",
       "      <th>mastercategory</th>\n",
       "      <th>subcategory</th>\n",
       "      <th>articletype</th>\n",
       "      <th>basecolour</th>\n",
       "      <th>season</th>\n",
       "      <th>year</th>\n",
       "      <th>usage</th>\n",
       "      <th>productdisplayname</th>\n",
       "      <th>filename</th>\n",
       "      <th>prod_name_length</th>\n",
       "    </tr>\n",
       "  </thead>\n",
       "  <tbody>\n",
       "    <tr>\n",
       "      <th>0</th>\n",
       "      <td>1</td>\n",
       "      <td>674154948235391147</td>\n",
       "      <td></td>\n",
       "      <td>0</td>\n",
       "      <td>fashion-product-images/images</td>\n",
       "      <td>10004.jpg</td>\n",
       "      <td>CMDWmrbe+4YDEAE=</td>\n",
       "      <td>1719489733765952</td>\n",
       "      <td>1</td>\n",
       "      <td>2024-06-27 12:02:13.818000+00:00</td>\n",
       "      <td>...</td>\n",
       "      <td>Apparel</td>\n",
       "      <td>Topwear</td>\n",
       "      <td>Kurtas</td>\n",
       "      <td>Multi</td>\n",
       "      <td>Summer</td>\n",
       "      <td>2012.0</td>\n",
       "      <td>Ethnic</td>\n",
       "      <td>Diva Women Multi Coloured Kurta</td>\n",
       "      <td>10004.jpg</td>\n",
       "      <td>9</td>\n",
       "    </tr>\n",
       "    <tr>\n",
       "      <th>1</th>\n",
       "      <td>2</td>\n",
       "      <td>3643261648999796763</td>\n",
       "      <td></td>\n",
       "      <td>0</td>\n",
       "      <td>fashion-product-images/images</td>\n",
       "      <td>10005.jpg</td>\n",
       "      <td>CKSeprve+4YDEAE=</td>\n",
       "      <td>1719489744441124</td>\n",
       "      <td>1</td>\n",
       "      <td>2024-06-27 12:02:24.500000+00:00</td>\n",
       "      <td>...</td>\n",
       "      <td>Apparel</td>\n",
       "      <td>Topwear</td>\n",
       "      <td>Tshirts</td>\n",
       "      <td>Grey</td>\n",
       "      <td>Fall</td>\n",
       "      <td>2011.0</td>\n",
       "      <td>Casual</td>\n",
       "      <td>Chhota Bheem Kids Boys Lets Rock Grey T-shirt</td>\n",
       "      <td>10005.jpg</td>\n",
       "      <td>9</td>\n",
       "    </tr>\n",
       "    <tr>\n",
       "      <th>2</th>\n",
       "      <td>3</td>\n",
       "      <td>4808167984788117</td>\n",
       "      <td></td>\n",
       "      <td>0</td>\n",
       "      <td>fashion-product-images/images</td>\n",
       "      <td>10007.jpg</td>\n",
       "      <td>CMK/06be+4YDEAE=</td>\n",
       "      <td>1719489701142466</td>\n",
       "      <td>1</td>\n",
       "      <td>2024-06-27 12:01:41.201000+00:00</td>\n",
       "      <td>...</td>\n",
       "      <td>Apparel</td>\n",
       "      <td>Topwear</td>\n",
       "      <td>Tshirts</td>\n",
       "      <td>Black</td>\n",
       "      <td>Summer</td>\n",
       "      <td>2011.0</td>\n",
       "      <td>Sports</td>\n",
       "      <td>ADIDAS Men's Pune Warriors Graphic Black T-shirt</td>\n",
       "      <td>10007.jpg</td>\n",
       "      <td>9</td>\n",
       "    </tr>\n",
       "  </tbody>\n",
       "</table>\n",
       "</div>"
      ],
      "text/plain": [
       "   id               random vtype  dir_type                         parent  \\\n",
       "0   1   674154948235391147               0  fashion-product-images/images   \n",
       "1   2  3643261648999796763               0  fashion-product-images/images   \n",
       "2   3     4808167984788117               0  fashion-product-images/images   \n",
       "\n",
       "        name              etag           version  is_latest  \\\n",
       "0  10004.jpg  CMDWmrbe+4YDEAE=  1719489733765952          1   \n",
       "1  10005.jpg  CKSeprve+4YDEAE=  1719489744441124          1   \n",
       "2  10007.jpg  CMK/06be+4YDEAE=  1719489701142466          1   \n",
       "\n",
       "                     last_modified  ...  mastercategory subcategory  \\\n",
       "0 2024-06-27 12:02:13.818000+00:00  ...         Apparel     Topwear   \n",
       "1 2024-06-27 12:02:24.500000+00:00  ...         Apparel     Topwear   \n",
       "2 2024-06-27 12:01:41.201000+00:00  ...         Apparel     Topwear   \n",
       "\n",
       "  articletype basecolour  season    year   usage  \\\n",
       "0      Kurtas      Multi  Summer  2012.0  Ethnic   \n",
       "1     Tshirts       Grey    Fall  2011.0  Casual   \n",
       "2     Tshirts      Black  Summer  2011.0  Sports   \n",
       "\n",
       "                                 productdisplayname   filename  \\\n",
       "0                   Diva Women Multi Coloured Kurta  10004.jpg   \n",
       "1     Chhota Bheem Kids Boys Lets Rock Grey T-shirt  10005.jpg   \n",
       "2  ADIDAS Men's Pune Warriors Graphic Black T-shirt  10007.jpg   \n",
       "\n",
       "  prod_name_length  \n",
       "0                9  \n",
       "1                9  \n",
       "2                9  "
      ]
     },
     "metadata": {},
     "output_type": "display_data"
    },
    {
     "name": "stdout",
     "output_type": "stream",
     "text": [
      "[limited by 3 objects]\n"
     ]
    }
   ],
   "source": [
    "# Load dataset\n",
    "\n",
    "DataChain.from_dataset(\"fashion-tmp\").show(3)"
   ]
  },
  {
   "cell_type": "markdown",
   "id": "7150c58a-dd3f-4e1c-a1cf-c496b65c67f2",
   "metadata": {},
   "source": [
    "### Save a new version "
   ]
  },
  {
   "cell_type": "code",
   "execution_count": 7,
   "id": "93638895-85df-4252-beb8-1e5e71b269c8",
   "metadata": {
    "scrolled": true
   },
   "outputs": [
    {
     "name": "stderr",
     "output_type": "stream",
     "text": [
      "Processed: 11538 rows [00:00, 45202.92 rows/s]\n"
     ]
    },
    {
     "data": {
      "text/plain": [
       "<datachain.lib.dc.DataChain at 0x304848e10>"
      ]
     },
     "execution_count": 7,
     "metadata": {},
     "output_type": "execute_result"
    }
   ],
   "source": [
    "# Save a new version  (with \"prod_name_length_2\" column)\n",
    "(\n",
    "    DataChain(name=\"fashion-topwear\")\n",
    "    .map(prod_name_length_2=lambda name: len(name), output=int)\n",
    "    .save(\"fashion-tmp\")\n",
    ")"
   ]
  },
  {
   "cell_type": "code",
   "execution_count": 8,
   "id": "558525be-bea3-44ff-86e5-3895c65deaf7",
   "metadata": {
    "scrolled": true
   },
   "outputs": [
    {
     "data": {
      "text/html": [
       "<div>\n",
       "<style scoped>\n",
       "    .dataframe tbody tr th:only-of-type {\n",
       "        vertical-align: middle;\n",
       "    }\n",
       "\n",
       "    .dataframe tbody tr th {\n",
       "        vertical-align: top;\n",
       "    }\n",
       "\n",
       "    .dataframe thead th {\n",
       "        text-align: right;\n",
       "    }\n",
       "</style>\n",
       "<table border=\"1\" class=\"dataframe\">\n",
       "  <thead>\n",
       "    <tr style=\"text-align: right;\">\n",
       "      <th></th>\n",
       "      <th>id</th>\n",
       "      <th>random</th>\n",
       "      <th>vtype</th>\n",
       "      <th>dir_type</th>\n",
       "      <th>parent</th>\n",
       "      <th>name</th>\n",
       "      <th>etag</th>\n",
       "      <th>version</th>\n",
       "      <th>is_latest</th>\n",
       "      <th>last_modified</th>\n",
       "      <th>...</th>\n",
       "      <th>mastercategory</th>\n",
       "      <th>subcategory</th>\n",
       "      <th>articletype</th>\n",
       "      <th>basecolour</th>\n",
       "      <th>season</th>\n",
       "      <th>year</th>\n",
       "      <th>usage</th>\n",
       "      <th>productdisplayname</th>\n",
       "      <th>filename</th>\n",
       "      <th>prod_name_length_2</th>\n",
       "    </tr>\n",
       "  </thead>\n",
       "  <tbody>\n",
       "    <tr>\n",
       "      <th>0</th>\n",
       "      <td>1</td>\n",
       "      <td>674154948235391147</td>\n",
       "      <td></td>\n",
       "      <td>0</td>\n",
       "      <td>fashion-product-images/images</td>\n",
       "      <td>10004.jpg</td>\n",
       "      <td>CMDWmrbe+4YDEAE=</td>\n",
       "      <td>1719489733765952</td>\n",
       "      <td>1</td>\n",
       "      <td>2024-06-27 12:02:13.818000+00:00</td>\n",
       "      <td>...</td>\n",
       "      <td>Apparel</td>\n",
       "      <td>Topwear</td>\n",
       "      <td>Kurtas</td>\n",
       "      <td>Multi</td>\n",
       "      <td>Summer</td>\n",
       "      <td>2012.0</td>\n",
       "      <td>Ethnic</td>\n",
       "      <td>Diva Women Multi Coloured Kurta</td>\n",
       "      <td>10004.jpg</td>\n",
       "      <td>9</td>\n",
       "    </tr>\n",
       "    <tr>\n",
       "      <th>1</th>\n",
       "      <td>2</td>\n",
       "      <td>3643261648999796763</td>\n",
       "      <td></td>\n",
       "      <td>0</td>\n",
       "      <td>fashion-product-images/images</td>\n",
       "      <td>10005.jpg</td>\n",
       "      <td>CKSeprve+4YDEAE=</td>\n",
       "      <td>1719489744441124</td>\n",
       "      <td>1</td>\n",
       "      <td>2024-06-27 12:02:24.500000+00:00</td>\n",
       "      <td>...</td>\n",
       "      <td>Apparel</td>\n",
       "      <td>Topwear</td>\n",
       "      <td>Tshirts</td>\n",
       "      <td>Grey</td>\n",
       "      <td>Fall</td>\n",
       "      <td>2011.0</td>\n",
       "      <td>Casual</td>\n",
       "      <td>Chhota Bheem Kids Boys Lets Rock Grey T-shirt</td>\n",
       "      <td>10005.jpg</td>\n",
       "      <td>9</td>\n",
       "    </tr>\n",
       "    <tr>\n",
       "      <th>2</th>\n",
       "      <td>3</td>\n",
       "      <td>4808167984788117</td>\n",
       "      <td></td>\n",
       "      <td>0</td>\n",
       "      <td>fashion-product-images/images</td>\n",
       "      <td>10007.jpg</td>\n",
       "      <td>CMK/06be+4YDEAE=</td>\n",
       "      <td>1719489701142466</td>\n",
       "      <td>1</td>\n",
       "      <td>2024-06-27 12:01:41.201000+00:00</td>\n",
       "      <td>...</td>\n",
       "      <td>Apparel</td>\n",
       "      <td>Topwear</td>\n",
       "      <td>Tshirts</td>\n",
       "      <td>Black</td>\n",
       "      <td>Summer</td>\n",
       "      <td>2011.0</td>\n",
       "      <td>Sports</td>\n",
       "      <td>ADIDAS Men's Pune Warriors Graphic Black T-shirt</td>\n",
       "      <td>10007.jpg</td>\n",
       "      <td>9</td>\n",
       "    </tr>\n",
       "  </tbody>\n",
       "</table>\n",
       "</div>"
      ],
      "text/plain": [
       "   id               random vtype  dir_type                         parent  \\\n",
       "0   1   674154948235391147               0  fashion-product-images/images   \n",
       "1   2  3643261648999796763               0  fashion-product-images/images   \n",
       "2   3     4808167984788117               0  fashion-product-images/images   \n",
       "\n",
       "        name              etag           version  is_latest  \\\n",
       "0  10004.jpg  CMDWmrbe+4YDEAE=  1719489733765952          1   \n",
       "1  10005.jpg  CKSeprve+4YDEAE=  1719489744441124          1   \n",
       "2  10007.jpg  CMK/06be+4YDEAE=  1719489701142466          1   \n",
       "\n",
       "                     last_modified  ...  mastercategory subcategory  \\\n",
       "0 2024-06-27 12:02:13.818000+00:00  ...         Apparel     Topwear   \n",
       "1 2024-06-27 12:02:24.500000+00:00  ...         Apparel     Topwear   \n",
       "2 2024-06-27 12:01:41.201000+00:00  ...         Apparel     Topwear   \n",
       "\n",
       "  articletype basecolour  season    year   usage  \\\n",
       "0      Kurtas      Multi  Summer  2012.0  Ethnic   \n",
       "1     Tshirts       Grey    Fall  2011.0  Casual   \n",
       "2     Tshirts      Black  Summer  2011.0  Sports   \n",
       "\n",
       "                                 productdisplayname   filename  \\\n",
       "0                   Diva Women Multi Coloured Kurta  10004.jpg   \n",
       "1     Chhota Bheem Kids Boys Lets Rock Grey T-shirt  10005.jpg   \n",
       "2  ADIDAS Men's Pune Warriors Graphic Black T-shirt  10007.jpg   \n",
       "\n",
       "  prod_name_length_2  \n",
       "0                  9  \n",
       "1                  9  \n",
       "2                  9  "
      ]
     },
     "metadata": {},
     "output_type": "display_data"
    },
    {
     "name": "stdout",
     "output_type": "stream",
     "text": [
      "[limited by 3 objects]\n"
     ]
    }
   ],
   "source": [
    "# Load the latest version\n",
    "\n",
    "DataChain(name=\"fashion-tmp\").show(3)"
   ]
  },
  {
   "cell_type": "code",
   "execution_count": 9,
   "id": "53a41df0-a187-43ca-a41e-1bd0e969320f",
   "metadata": {},
   "outputs": [],
   "source": [
    "ds = DataChain(name=\"fashion-tmp\")\n",
    "ds.version"
   ]
  },
  {
   "cell_type": "markdown",
   "id": "c3969f7b-4d4e-47ce-8d5e-500f22848dcf",
   "metadata": {},
   "source": [
    "### Load a specific version of the dataset"
   ]
  },
  {
   "cell_type": "code",
   "execution_count": 10,
   "id": "0a183369-8ba4-425d-a2a2-f546bd1e27f8",
   "metadata": {
    "scrolled": true
   },
   "outputs": [],
   "source": [
    "# Load a specific version of the dataset\n",
    "\n",
    "# DataChain(name=\"fashion-tmp\", version=1).show(3)"
   ]
  },
  {
   "cell_type": "markdown",
   "id": "156fe72c-aabb-4e3c-99c7-f74c0a4382fb",
   "metadata": {},
   "source": [
    "### Delete the dataset version "
   ]
  },
  {
   "cell_type": "code",
   "execution_count": 11,
   "id": "57284102-1160-4d43-8f57-8ef9d37520e4",
   "metadata": {},
   "outputs": [],
   "source": [
    "# Delete the dataset version\n",
    "\n",
    "# DataChain.delete(\"fashion-tmp\", version=1)"
   ]
  },
  {
   "cell_type": "code",
   "execution_count": 12,
   "id": "0ff9ae0d-d3b5-4baa-b360-a65b1be804eb",
   "metadata": {
    "scrolled": true
   },
   "outputs": [],
   "source": [
    "# Expected error: Dataset fashion-tmp does not have version 2\n",
    "\n",
    "# DataChain(name=\"fashion-tmp\", version=2).show(3)"
   ]
  },
  {
   "cell_type": "markdown",
   "id": "3892c8ad-61ed-4ad6-8672-6a5d3fddf342",
   "metadata": {},
   "source": [
    "# 🧩 Split train/test/val"
   ]
  },
  {
   "cell_type": "markdown",
   "id": "721f7eb5-9407-43a9-9760-81c112b4c097",
   "metadata": {},
   "source": [
    "In this example, we define a `train_test_split` function to randomly split the dataset into the train, test, and validation sets. \n",
    "\n",
    "The workflow:\n",
    "- Create a function that generates a random label (`\"train\"`, `\"test\"`, or `\"val\"`)\n",
    "- Use the `map()` method to apply the function to each row\n",
    "- Use the `filter()` and `save()` methods to save split datasets"
   ]
  },
  {
   "cell_type": "markdown",
   "id": "61b18166-ede5-4fa8-9ef2-812d90b06dd6",
   "metadata": {},
   "source": [
    "## Define `train_test_split` function\n",
    "\n",
    "- The function randomly chooses one of the labels (`\"train\"`, `\"test\"`, or `\"val\"`) using `random.choices` with the specified weights (`0.7`, `0.2`, and `0.1`, respectively).\n",
    "- The function a `str` value "
   ]
  },
  {
   "cell_type": "code",
   "execution_count": 13,
   "id": "7c8bbbe0-af83-4193-a971-172218f331d0",
   "metadata": {},
   "outputs": [],
   "source": [
    "def train_test_split(name) -> str:\n",
    "    import random\n",
    "    labels = [\"train\", \"test\", \"val\"]\n",
    "    return random.choices(labels, weights = [0.7, 0.2, 0.1])[0]"
   ]
  },
  {
   "cell_type": "markdown",
   "id": "d20648cb-a626-4ba7-9db7-759e69352e82",
   "metadata": {},
   "source": [
    "## Add a signal (`split`)\n",
    "\n",
    "- This code loads the `fashion-product-images` dataset.\n",
    "- It then applies the batched UDF `train_test_split_batch` to the dataset, adding a new column `\"split\"` with the randomly assigned labels.\n",
    "- Finally, it converts the dataset to a Pandas DataFrame and displays the first few rows using `head()`."
   ]
  },
  {
   "cell_type": "code",
   "execution_count": 14,
   "id": "127bd21b-5a79-4633-b70b-57bfe99eda31",
   "metadata": {
    "scrolled": true
   },
   "outputs": [
    {
     "name": "stderr",
     "output_type": "stream",
     "text": [
      "Processed: 11538 rows [00:00, 42082.00 rows/s]\n"
     ]
    },
    {
     "data": {
      "text/html": [
       "<div>\n",
       "<style scoped>\n",
       "    .dataframe tbody tr th:only-of-type {\n",
       "        vertical-align: middle;\n",
       "    }\n",
       "\n",
       "    .dataframe tbody tr th {\n",
       "        vertical-align: top;\n",
       "    }\n",
       "\n",
       "    .dataframe thead th {\n",
       "        text-align: right;\n",
       "    }\n",
       "</style>\n",
       "<table border=\"1\" class=\"dataframe\">\n",
       "  <thead>\n",
       "    <tr style=\"text-align: right;\">\n",
       "      <th></th>\n",
       "      <th>id</th>\n",
       "      <th>random</th>\n",
       "      <th>vtype</th>\n",
       "      <th>dir_type</th>\n",
       "      <th>parent</th>\n",
       "      <th>name</th>\n",
       "      <th>etag</th>\n",
       "      <th>version</th>\n",
       "      <th>is_latest</th>\n",
       "      <th>last_modified</th>\n",
       "      <th>...</th>\n",
       "      <th>mastercategory</th>\n",
       "      <th>subcategory</th>\n",
       "      <th>articletype</th>\n",
       "      <th>basecolour</th>\n",
       "      <th>season</th>\n",
       "      <th>year</th>\n",
       "      <th>usage</th>\n",
       "      <th>productdisplayname</th>\n",
       "      <th>filename</th>\n",
       "      <th>split</th>\n",
       "    </tr>\n",
       "  </thead>\n",
       "  <tbody>\n",
       "    <tr>\n",
       "      <th>0</th>\n",
       "      <td>1</td>\n",
       "      <td>674154948235391147</td>\n",
       "      <td></td>\n",
       "      <td>0</td>\n",
       "      <td>fashion-product-images/images</td>\n",
       "      <td>10004.jpg</td>\n",
       "      <td>CMDWmrbe+4YDEAE=</td>\n",
       "      <td>1719489733765952</td>\n",
       "      <td>1</td>\n",
       "      <td>2024-06-27 12:02:13.818000+00:00</td>\n",
       "      <td>...</td>\n",
       "      <td>Apparel</td>\n",
       "      <td>Topwear</td>\n",
       "      <td>Kurtas</td>\n",
       "      <td>Multi</td>\n",
       "      <td>Summer</td>\n",
       "      <td>2012.0</td>\n",
       "      <td>Ethnic</td>\n",
       "      <td>Diva Women Multi Coloured Kurta</td>\n",
       "      <td>10004.jpg</td>\n",
       "      <td>test</td>\n",
       "    </tr>\n",
       "    <tr>\n",
       "      <th>1</th>\n",
       "      <td>2</td>\n",
       "      <td>3643261648999796763</td>\n",
       "      <td></td>\n",
       "      <td>0</td>\n",
       "      <td>fashion-product-images/images</td>\n",
       "      <td>10005.jpg</td>\n",
       "      <td>CKSeprve+4YDEAE=</td>\n",
       "      <td>1719489744441124</td>\n",
       "      <td>1</td>\n",
       "      <td>2024-06-27 12:02:24.500000+00:00</td>\n",
       "      <td>...</td>\n",
       "      <td>Apparel</td>\n",
       "      <td>Topwear</td>\n",
       "      <td>Tshirts</td>\n",
       "      <td>Grey</td>\n",
       "      <td>Fall</td>\n",
       "      <td>2011.0</td>\n",
       "      <td>Casual</td>\n",
       "      <td>Chhota Bheem Kids Boys Lets Rock Grey T-shirt</td>\n",
       "      <td>10005.jpg</td>\n",
       "      <td>train</td>\n",
       "    </tr>\n",
       "    <tr>\n",
       "      <th>2</th>\n",
       "      <td>3</td>\n",
       "      <td>4808167984788117</td>\n",
       "      <td></td>\n",
       "      <td>0</td>\n",
       "      <td>fashion-product-images/images</td>\n",
       "      <td>10007.jpg</td>\n",
       "      <td>CMK/06be+4YDEAE=</td>\n",
       "      <td>1719489701142466</td>\n",
       "      <td>1</td>\n",
       "      <td>2024-06-27 12:01:41.201000+00:00</td>\n",
       "      <td>...</td>\n",
       "      <td>Apparel</td>\n",
       "      <td>Topwear</td>\n",
       "      <td>Tshirts</td>\n",
       "      <td>Black</td>\n",
       "      <td>Summer</td>\n",
       "      <td>2011.0</td>\n",
       "      <td>Sports</td>\n",
       "      <td>ADIDAS Men's Pune Warriors Graphic Black T-shirt</td>\n",
       "      <td>10007.jpg</td>\n",
       "      <td>val</td>\n",
       "    </tr>\n",
       "  </tbody>\n",
       "</table>\n",
       "<p>3 rows × 50 columns</p>\n",
       "</div>"
      ],
      "text/plain": [
       "   id               random vtype  dir_type                         parent  \\\n",
       "0   1   674154948235391147               0  fashion-product-images/images   \n",
       "1   2  3643261648999796763               0  fashion-product-images/images   \n",
       "2   3     4808167984788117               0  fashion-product-images/images   \n",
       "\n",
       "        name              etag           version  is_latest  \\\n",
       "0  10004.jpg  CMDWmrbe+4YDEAE=  1719489733765952          1   \n",
       "1  10005.jpg  CKSeprve+4YDEAE=  1719489744441124          1   \n",
       "2  10007.jpg  CMK/06be+4YDEAE=  1719489701142466          1   \n",
       "\n",
       "                     last_modified  ...  mastercategory subcategory  \\\n",
       "0 2024-06-27 12:02:13.818000+00:00  ...         Apparel     Topwear   \n",
       "1 2024-06-27 12:02:24.500000+00:00  ...         Apparel     Topwear   \n",
       "2 2024-06-27 12:01:41.201000+00:00  ...         Apparel     Topwear   \n",
       "\n",
       "  articletype basecolour  season    year   usage  \\\n",
       "0      Kurtas      Multi  Summer  2012.0  Ethnic   \n",
       "1     Tshirts       Grey    Fall  2011.0  Casual   \n",
       "2     Tshirts      Black  Summer  2011.0  Sports   \n",
       "\n",
       "                                 productdisplayname   filename  split  \n",
       "0                   Diva Women Multi Coloured Kurta  10004.jpg   test  \n",
       "1     Chhota Bheem Kids Boys Lets Rock Grey T-shirt  10005.jpg  train  \n",
       "2  ADIDAS Men's Pune Warriors Graphic Black T-shirt  10007.jpg    val  \n",
       "\n",
       "[3 rows x 50 columns]"
      ]
     },
     "execution_count": 14,
     "metadata": {},
     "output_type": "execute_result"
    }
   ],
   "source": [
    "# Add signal\n",
    "\n",
    "ds = (\n",
    "    DataChain.from_dataset(\"fashion-product-images\")\n",
    "    .filter((C(\"masterCategory\") == \"Apparel\") & (C(\"subCategory\") == \"Topwear\"))\n",
    "    .map(split=train_test_split, params=[\"name\"], output=str)\n",
    "    .save()\n",
    ")\n",
    "\n",
    "ds.to_pandas().head(3)"
   ]
  },
  {
   "cell_type": "markdown",
   "id": "2e134303-5e77-4a78-8015-cf72abd105c7",
   "metadata": {},
   "source": [
    "By running this code, you'll get a Pandas DataFrame with a new column `split` containing the labels `\"train\", \"test\", or \"val\"` randomly assigned to each row based on the specified weights."
   ]
  },
  {
   "cell_type": "code",
   "execution_count": 15,
   "id": "57767332-9aaf-4f45-846f-2eeab1ed1c9d",
   "metadata": {
    "scrolled": true
   },
   "outputs": [
    {
     "data": {
      "text/plain": [
       "split\n",
       "train    8131\n",
       "test     2229\n",
       "val      1178\n",
       "Name: count, dtype: int64"
      ]
     },
     "execution_count": 15,
     "metadata": {},
     "output_type": "execute_result"
    }
   ],
   "source": [
    "ds.to_pandas()[\"split\"].value_counts(normalize=False)"
   ]
  },
  {
   "cell_type": "markdown",
   "id": "a8604cca-f201-4f53-a6be-3fb34e82962d",
   "metadata": {
    "execution": {
     "iopub.execute_input": "2024-06-04T14:27:23.611752Z",
     "iopub.status.busy": "2024-06-04T14:27:23.611260Z",
     "iopub.status.idle": "2024-06-04T14:27:23.647486Z",
     "shell.execute_reply": "2024-06-04T14:27:23.646779Z",
     "shell.execute_reply.started": "2024-06-04T14:27:23.611723Z"
    }
   },
   "source": [
    "## Save `train`, `test` and `val` datasets"
   ]
  },
  {
   "cell_type": "code",
   "execution_count": 16,
   "id": "c4e7f5b2-f89a-4c1c-8207-8a1a825b36dd",
   "metadata": {},
   "outputs": [],
   "source": [
    "# Save train, test, and val datasets\n",
    "\n",
    "ds_train = (ds.filter(C(\"split\") == \"train\").save(\"fashion-train\"))\n",
    "ds_test = (ds.filter(C(\"split\") == \"test\").save(\"fashion-test\"))\n",
    "ds_val = (ds.filter(C(\"split\") == \"val\").save(\"fashion-val\"))\n"
   ]
  },
  {
   "cell_type": "markdown",
   "id": "4d24233e-356e-4103-94a9-32bf98cfd512",
   "metadata": {},
   "source": [
    "After running this code, you'll have three separate datasets:\n",
    "\n",
    "1. `fashion-train`: Contains the rows from the original dataset where `split` is `'train'`.\n",
    "2. `fashion-test`: Contains the rows from the original dataset where `split` is `'test'`.\n",
    "3. `fashion-val`: Contains the rows from the original dataset where `split` is `'val'`.\n",
    "\n",
    "You can now use these datasets for training, testing, and validating your machine learning models, respectively."
   ]
  },
  {
   "cell_type": "markdown",
   "id": "12b1d75c-ce36-4fbe-8698-c0093ba202d0",
   "metadata": {},
   "source": [
    "# 🎨 Generating & Managing Embeddings"
   ]
  },
  {
   "cell_type": "markdown",
   "id": "6f7624ff-ec19-4876-97fa-7bed89c47932",
   "metadata": {},
   "source": [
    "This section demonstrates how to compute and save image embeddings with the pre-trained `ResNet50` model in PyTorch. \n",
    "\n",
    "DataChain helps to compute and manage embeddings, it prepares the data for downstream machine learning models or comparative analysis, integrating complex data transformations seamlessly into the overall data management workflow."
   ]
  },
  {
   "cell_type": "code",
   "execution_count": 17,
   "id": "f7458a40-02e0-442f-b810-5e99cef24649",
   "metadata": {
    "scrolled": true
   },
   "outputs": [],
   "source": [
    "import torch\n",
    "from torchvision import transforms\n",
    "from torchvision.models import resnet50\n",
    "from tqdm import tqdm\n",
    "from typing import List\n",
    "\n",
    "from datachain.lib.image import convert_image"
   ]
  },
  {
   "cell_type": "markdown",
   "id": "10afb63c-7c72-4e83-b374-fa00b8c305b0",
   "metadata": {},
   "source": [
    "## Define `embeddings_processor` function"
   ]
  },
  {
   "cell_type": "markdown",
   "id": "013a6fd7-6dc8-48d4-9f1d-5ce2c7fecdcd",
   "metadata": {
    "execution": {
     "iopub.execute_input": "2024-06-26T13:21:57.275195Z",
     "iopub.status.busy": "2024-06-26T13:21:57.274282Z",
     "iopub.status.idle": "2024-06-26T13:21:57.312958Z",
     "shell.execute_reply": "2024-06-26T13:21:57.312305Z",
     "shell.execute_reply.started": "2024-06-26T13:21:57.275164Z"
    }
   },
   "source": [
    "The embeddings processor function works as following: \n",
    "\n",
    "- Reads the raw image data and applies the transformation \n",
    "- Passes the image through the model to get embeddings\n",
    "- Returns the embeddings as a list of floats"
   ]
  },
  {
   "cell_type": "code",
   "execution_count": 18,
   "id": "51f80a09-7dcc-456f-843e-e2157ab73ab0",
   "metadata": {},
   "outputs": [
    {
     "name": "stderr",
     "output_type": "stream",
     "text": [
      "/Users/dave/micromamba/envs/dvcx-py311/lib/python3.11/site-packages/torchvision/models/_utils.py:208: UserWarning: The parameter 'pretrained' is deprecated since 0.13 and may be removed in the future, please use 'weights' instead.\n",
      "  warnings.warn(\n",
      "/Users/dave/micromamba/envs/dvcx-py311/lib/python3.11/site-packages/torchvision/models/_utils.py:223: UserWarning: Arguments other than a weight enum or `None` for 'weights' are deprecated since 0.13 and may be removed in the future. The current behavior is equivalent to passing `weights=ResNet50_Weights.IMAGENET1K_V1`. You can also use `weights=ResNet50_Weights.DEFAULT` to get the most up-to-date weights.\n",
      "  warnings.warn(msg)\n"
     ]
    }
   ],
   "source": [
    "# Helpers \n",
    "transformer = transforms.Compose([\n",
    "    transforms.Resize((224, 224)),\n",
    "    transforms.ToTensor(),\n",
    "    transforms.Normalize(mean=[0.485, 0.456, 0.406], std=[0.229, 0.224, 0.225])\n",
    "    ])\n",
    "model = resnet50(pretrained=True).eval()\n",
    "\n",
    "# Embeddings processor function\n",
    "def embeddings_processor(file) -> list[float]: \n",
    "\n",
    "    img_raw = file.get_value()\n",
    "    img = convert_image(img_raw, transform=transformer).unsqueeze(0)\n",
    "    with torch.no_grad():\n",
    "        emb = model(img)\n",
    "\n",
    "    return emb[0].tolist()\n",
    "        "
   ]
  },
  {
   "cell_type": "markdown",
   "id": "0d7945ed-6d3c-4e91-99c5-ff8a5b5828b5",
   "metadata": {},
   "source": [
    "## Compute and Save Embeddings"
   ]
  },
  {
   "cell_type": "markdown",
   "id": "085f4856-4cb6-493f-b54e-d1f2bbe292d1",
   "metadata": {},
   "source": [
    "Run calculation on `fashion-test` dataset and save a new `fashion-embeddings` dataset \n",
    "\n",
    "- Load the `fashion-test` dataset.\n",
    "- Use `.map` method to apply the `embeddings_processor` function to calculate embeddings for each image.\n",
    "- Save the resulting dataset with embeddings as `fashion-embeddings`"
   ]
  },
  {
   "cell_type": "code",
   "execution_count": 19,
   "id": "52ad8daf-d9e2-4eca-8582-050736cd7359",
   "metadata": {
    "scrolled": true
   },
   "outputs": [
    {
     "name": "stderr",
     "output_type": "stream",
     "text": [
      "Processed: 2229 rows [04:17,  8.67 rows/s]\n"
     ]
    }
   ],
   "source": [
    "# Compute and Save Embeddings\n",
    "\n",
    "ds_emb = (\n",
    "    DataChain(name=\"fashion-test\")\n",
    "    .map(embeddings=embeddings_processor)\n",
    "    .save(\"fashion-embeddings\")\n",
    ")"
   ]
  },
  {
   "cell_type": "code",
   "execution_count": 20,
   "id": "1f4c217c-b1cf-4388-80c4-c2239976e28f",
   "metadata": {
    "scrolled": true
   },
   "outputs": [
    {
     "data": {
      "text/html": [
       "<div>\n",
       "<style scoped>\n",
       "    .dataframe tbody tr th:only-of-type {\n",
       "        vertical-align: middle;\n",
       "    }\n",
       "\n",
       "    .dataframe tbody tr th {\n",
       "        vertical-align: top;\n",
       "    }\n",
       "\n",
       "    .dataframe thead th {\n",
       "        text-align: right;\n",
       "    }\n",
       "</style>\n",
       "<table border=\"1\" class=\"dataframe\">\n",
       "  <thead>\n",
       "    <tr style=\"text-align: right;\">\n",
       "      <th></th>\n",
       "      <th>id</th>\n",
       "      <th>random</th>\n",
       "      <th>vtype</th>\n",
       "      <th>dir_type</th>\n",
       "      <th>parent</th>\n",
       "      <th>name</th>\n",
       "      <th>etag</th>\n",
       "      <th>version</th>\n",
       "      <th>is_latest</th>\n",
       "      <th>last_modified</th>\n",
       "      <th>...</th>\n",
       "      <th>subcategory</th>\n",
       "      <th>articletype</th>\n",
       "      <th>basecolour</th>\n",
       "      <th>season</th>\n",
       "      <th>year</th>\n",
       "      <th>usage</th>\n",
       "      <th>productdisplayname</th>\n",
       "      <th>filename</th>\n",
       "      <th>split</th>\n",
       "      <th>embeddings</th>\n",
       "    </tr>\n",
       "  </thead>\n",
       "  <tbody>\n",
       "    <tr>\n",
       "      <th>0</th>\n",
       "      <td>1</td>\n",
       "      <td>674154948235391147</td>\n",
       "      <td></td>\n",
       "      <td>0</td>\n",
       "      <td>fashion-product-images/images</td>\n",
       "      <td>10004.jpg</td>\n",
       "      <td>CMDWmrbe+4YDEAE=</td>\n",
       "      <td>1719489733765952</td>\n",
       "      <td>1</td>\n",
       "      <td>2024-06-27 12:02:13.818000+00:00</td>\n",
       "      <td>...</td>\n",
       "      <td>Topwear</td>\n",
       "      <td>Kurtas</td>\n",
       "      <td>Multi</td>\n",
       "      <td>Summer</td>\n",
       "      <td>2012.0</td>\n",
       "      <td>Ethnic</td>\n",
       "      <td>Diva Women Multi Coloured Kurta</td>\n",
       "      <td>10004.jpg</td>\n",
       "      <td>test</td>\n",
       "      <td>[2.544675588607788, -0.2560328245162964, -1.24...</td>\n",
       "    </tr>\n",
       "    <tr>\n",
       "      <th>1</th>\n",
       "      <td>2</td>\n",
       "      <td>7462653178002127233</td>\n",
       "      <td></td>\n",
       "      <td>0</td>\n",
       "      <td>fashion-product-images/images</td>\n",
       "      <td>10052.jpg</td>\n",
       "      <td>CO/x4rrd+4YDEAE=</td>\n",
       "      <td>1719489474902255</td>\n",
       "      <td>1</td>\n",
       "      <td>2024-06-27 11:57:54.950000+00:00</td>\n",
       "      <td>...</td>\n",
       "      <td>Topwear</td>\n",
       "      <td>Shirts</td>\n",
       "      <td>Blue</td>\n",
       "      <td>Summer</td>\n",
       "      <td>2012.0</td>\n",
       "      <td>Casual</td>\n",
       "      <td>French Connection Men Blue Shirt</td>\n",
       "      <td>10052.jpg</td>\n",
       "      <td>test</td>\n",
       "      <td>[1.3957180976867676, 0.7307451367378235, -1.31...</td>\n",
       "    </tr>\n",
       "    <tr>\n",
       "      <th>2</th>\n",
       "      <td>3</td>\n",
       "      <td>4045490087870213893</td>\n",
       "      <td></td>\n",
       "      <td>0</td>\n",
       "      <td>fashion-product-images/images</td>\n",
       "      <td>10054.jpg</td>\n",
       "      <td>CMT7t6Dd+4YDEAE=</td>\n",
       "      <td>1719489419673028</td>\n",
       "      <td>1</td>\n",
       "      <td>2024-06-27 11:56:59.711000+00:00</td>\n",
       "      <td>...</td>\n",
       "      <td>Topwear</td>\n",
       "      <td>Tops</td>\n",
       "      <td>Pink</td>\n",
       "      <td>Summer</td>\n",
       "      <td>2012.0</td>\n",
       "      <td>Casual</td>\n",
       "      <td>Hannah Montana Girls Pink Top</td>\n",
       "      <td>10054.jpg</td>\n",
       "      <td>test</td>\n",
       "      <td>[0.028559938073158264, -0.6460703611373901, -2...</td>\n",
       "    </tr>\n",
       "  </tbody>\n",
       "</table>\n",
       "</div>"
      ],
      "text/plain": [
       "   id               random vtype  dir_type                         parent  \\\n",
       "0   1   674154948235391147               0  fashion-product-images/images   \n",
       "1   2  7462653178002127233               0  fashion-product-images/images   \n",
       "2   3  4045490087870213893               0  fashion-product-images/images   \n",
       "\n",
       "        name              etag           version  is_latest  \\\n",
       "0  10004.jpg  CMDWmrbe+4YDEAE=  1719489733765952          1   \n",
       "1  10052.jpg  CO/x4rrd+4YDEAE=  1719489474902255          1   \n",
       "2  10054.jpg  CMT7t6Dd+4YDEAE=  1719489419673028          1   \n",
       "\n",
       "                     last_modified  ...  subcategory articletype basecolour  \\\n",
       "0 2024-06-27 12:02:13.818000+00:00  ...      Topwear      Kurtas      Multi   \n",
       "1 2024-06-27 11:57:54.950000+00:00  ...      Topwear      Shirts       Blue   \n",
       "2 2024-06-27 11:56:59.711000+00:00  ...      Topwear        Tops       Pink   \n",
       "\n",
       "   season    year   usage                productdisplayname   filename  split  \\\n",
       "0  Summer  2012.0  Ethnic   Diva Women Multi Coloured Kurta  10004.jpg   test   \n",
       "1  Summer  2012.0  Casual  French Connection Men Blue Shirt  10052.jpg   test   \n",
       "2  Summer  2012.0  Casual     Hannah Montana Girls Pink Top  10054.jpg   test   \n",
       "\n",
       "                                          embeddings  \n",
       "0  [2.544675588607788, -0.2560328245162964, -1.24...  \n",
       "1  [1.3957180976867676, 0.7307451367378235, -1.31...  \n",
       "2  [0.028559938073158264, -0.6460703611373901, -2...  "
      ]
     },
     "metadata": {},
     "output_type": "display_data"
    },
    {
     "name": "stdout",
     "output_type": "stream",
     "text": [
      "[limited by 3 objects]\n"
     ]
    }
   ],
   "source": [
    "ds_emb.show(3)"
   ]
  },
  {
   "cell_type": "markdown",
   "id": "21ad4b5a-b3eb-408a-b5c6-ed40cc2053e5",
   "metadata": {},
   "source": [
    "🚀🖼️ By using DataChain's `.map()` method, you can efficiently process each image in the dataset and compute its embeddings. The resulting dataset will contain a pointer to the original image and the computed embeddings, which can be used for various downstream tasks such as similarity search, clustering, or as input features for other machine learning models.\n",
    "\n",
    "This approach leverages DataChain's powerful data processing capabilities along with PyTorch's pre-trained models to create a scalable and efficient pipeline for computing image embeddings. \n",
    "\n",
    "**Notes:**\n",
    "- You can use these embeddings for various downstream tasks, such as image classification, clustering, or retrieval.\n",
    "- Every time you run the cell above, it will calculate embeddings and save a new version of it (incremented by 1)"
   ]
  },
  {
   "cell_type": "markdown",
   "id": "c5e8add2-376b-4cfd-b8ea-ea225fc0b364",
   "metadata": {},
   "source": [
    "# 🕵️‍♀️ Similarity Search \n",
    "\n",
    "This example demonstrates how to perform similarity search using the embeddings calculated in the previous step"
   ]
  },
  {
   "cell_type": "code",
   "execution_count": 21,
   "id": "0801c361-a63a-4f7b-bbeb-b3f5f44bdad8",
   "metadata": {
    "scrolled": true
   },
   "outputs": [],
   "source": [
    "import matplotlib.pyplot as plt\n",
    "from sqlalchemy import tuple_\n",
    "\n",
    "from datachain.sql.functions.array import cosine_distance, euclidean_distance\n"
   ]
  },
  {
   "cell_type": "markdown",
   "id": "b78bcb67-9eb5-466b-83a4-c33f255aced5",
   "metadata": {},
   "source": [
    "## Select `target` image\n",
    "\n",
    "- Select the first image from the `fashion-embeddings` dataset as the target image for similarity search.\n",
    "- Print the source, parent, name, and the first 5 elements of the embeddings for the target image"
   ]
  },
  {
   "cell_type": "code",
   "execution_count": 22,
   "id": "6aaaff90-d618-4520-9706-5627bdd7bd87",
   "metadata": {
    "scrolled": true
   },
   "outputs": [
    {
     "data": {
      "text/plain": [
       "('10004.jpg',\n",
       " [2.544675588607788,\n",
       "  -0.2560328245162964,\n",
       "  -1.2497756481170654,\n",
       "  -1.529966115951538,\n",
       "  -0.9801440238952637])"
      ]
     },
     "execution_count": 22,
     "metadata": {},
     "output_type": "execute_result"
    }
   ],
   "source": [
    "# Get a \"target\" image for a similarity search\n",
    "\n",
    "TARGET_NAME, TARGET_EMB =  (\n",
    "    DataChain.from_dataset(\"fashion-embeddings\")\n",
    "    .select(\"name\", \"embeddings\" )\n",
    "    .results()[0]                   # <- Select the first item\n",
    ")\n",
    "\n",
    "TARGET_NAME, TARGET_EMB[:5]"
   ]
  },
  {
   "cell_type": "code",
   "execution_count": 23,
   "id": "62ca6be5-de7d-40f5-9080-e079944929c4",
   "metadata": {
    "scrolled": true
   },
   "outputs": [
    {
     "data": {
      "image/jpeg": "[encoded data removed]",
      "image/png": "[encoded data removed]",
      "text/plain": [
       "<PIL.JpegImagePlugin.JpegImageFile image mode=RGB size=60x80>"
      ]
     },
     "execution_count": 23,
     "metadata": {},
     "output_type": "execute_result"
    }
   ],
   "source": [
    "# Preview the target image \n",
    "\n",
    "sample =  DataChain.from_dataset(\"fashion-embeddings\").filter(C(\"name\") == TARGET_NAME).save()\n",
    "img = next(sample.iterate_one(\"file\")).get_value()\n",
    "img"
   ]
  },
  {
   "cell_type": "markdown",
   "id": "3d17c4ff-f224-4f09-82bf-ed0bbda1414d",
   "metadata": {},
   "source": [
    "## Calculate similarity\n",
    "\n",
    "- Calculate the cosine and Euclidean distances between the embeddings of each image and the target image's embeddings using built-in `cosine_distance` and `euclidean_distance` functions."
   ]
  },
  {
   "cell_type": "code",
   "execution_count": 24,
   "id": "1aaa40b1-576e-49cb-8643-3dfa5a6ea1b4",
   "metadata": {
    "scrolled": true
   },
   "outputs": [
    {
     "data": {
      "text/plain": [
       "<datachain.lib.dc.DataChain at 0x31fe51d10>"
      ]
     },
     "execution_count": 24,
     "metadata": {},
     "output_type": "execute_result"
    }
   ],
   "source": [
    "# Calculate similarity\n",
    "\n",
    "(\n",
    "    DataChain(name=\"fashion-embeddings\")\n",
    "    .mutate(\n",
    "        cos_dist=cosine_distance(C(\"embeddings\"), TARGET_EMB),\n",
    "        eucl_dist=euclidean_distance(C(\"embeddings\"), TARGET_EMB),\n",
    "    )\n",
    "    .save(\"fashion-similarity\")\n",
    ")"
   ]
  },
  {
   "cell_type": "markdown",
   "id": "2b5ce0b8-793e-4d6e-bd10-a93237eda73f",
   "metadata": {},
   "source": [
    "Here's a breakdown of the code:\n",
    "- Load the `fashion-embeddings` dataset.\n",
    "- Filter out the target image.\n",
    "- Calculate the cosine and Euclidean distances between the embeddings of each image and the target image's embeddings using `cosine_distance` and `euclidean_distance` functions.\n",
    "- Exclude the `embeddings` column from the output.\n",
    "- Save the resulting dataset as `fashion-similarity`."
   ]
  },
  {
   "cell_type": "markdown",
   "id": "be6dd4d3-3124-4d7a-ad95-54cb591a1574",
   "metadata": {},
   "source": [
    "## Visualise Similarity distances "
   ]
  },
  {
   "cell_type": "code",
   "execution_count": 25,
   "id": "57313514-6b57-40cf-8e5b-bdbe6ef8c8a1",
   "metadata": {
    "scrolled": true
   },
   "outputs": [
    {
     "data": {
      "text/html": [
       "<div>\n",
       "<style scoped>\n",
       "    .dataframe tbody tr th:only-of-type {\n",
       "        vertical-align: middle;\n",
       "    }\n",
       "\n",
       "    .dataframe tbody tr th {\n",
       "        vertical-align: top;\n",
       "    }\n",
       "\n",
       "    .dataframe thead th {\n",
       "        text-align: right;\n",
       "    }\n",
       "</style>\n",
       "<table border=\"1\" class=\"dataframe\">\n",
       "  <thead>\n",
       "    <tr style=\"text-align: right;\">\n",
       "      <th></th>\n",
       "      <th>id</th>\n",
       "      <th>random</th>\n",
       "      <th>vtype</th>\n",
       "      <th>dir_type</th>\n",
       "      <th>parent</th>\n",
       "      <th>name</th>\n",
       "      <th>etag</th>\n",
       "      <th>version</th>\n",
       "      <th>is_latest</th>\n",
       "      <th>last_modified</th>\n",
       "      <th>...</th>\n",
       "      <th>basecolour</th>\n",
       "      <th>season</th>\n",
       "      <th>year</th>\n",
       "      <th>usage</th>\n",
       "      <th>productdisplayname</th>\n",
       "      <th>filename</th>\n",
       "      <th>split</th>\n",
       "      <th>embeddings</th>\n",
       "      <th>cos_dist</th>\n",
       "      <th>eucl_dist</th>\n",
       "    </tr>\n",
       "  </thead>\n",
       "  <tbody>\n",
       "    <tr>\n",
       "      <th>0</th>\n",
       "      <td>1</td>\n",
       "      <td>674154948235391147</td>\n",
       "      <td></td>\n",
       "      <td>0</td>\n",
       "      <td>fashion-product-images/images</td>\n",
       "      <td>10004.jpg</td>\n",
       "      <td>CMDWmrbe+4YDEAE=</td>\n",
       "      <td>1719489733765952</td>\n",
       "      <td>1</td>\n",
       "      <td>2024-06-27 12:02:13.818000+00:00</td>\n",
       "      <td>...</td>\n",
       "      <td>Multi</td>\n",
       "      <td>Summer</td>\n",
       "      <td>2012.0</td>\n",
       "      <td>Ethnic</td>\n",
       "      <td>Diva Women Multi Coloured Kurta</td>\n",
       "      <td>10004.jpg</td>\n",
       "      <td>test</td>\n",
       "      <td>[2.544675588607788, -0.2560328245162964, -1.24...</td>\n",
       "      <td>0.000000</td>\n",
       "      <td>0.000000</td>\n",
       "    </tr>\n",
       "    <tr>\n",
       "      <th>1</th>\n",
       "      <td>1142</td>\n",
       "      <td>8961489385443010760</td>\n",
       "      <td></td>\n",
       "      <td>0</td>\n",
       "      <td>fashion-product-images/images</td>\n",
       "      <td>30609.jpg</td>\n",
       "      <td>CObf5ZXd+4YDEAE=</td>\n",
       "      <td>1719489397354470</td>\n",
       "      <td>1</td>\n",
       "      <td>2024-06-27 11:56:37.414000+00:00</td>\n",
       "      <td>...</td>\n",
       "      <td>Beige</td>\n",
       "      <td>Summer</td>\n",
       "      <td>2012.0</td>\n",
       "      <td>Casual</td>\n",
       "      <td>Mother Earth Women Beige Top</td>\n",
       "      <td>30609.jpg</td>\n",
       "      <td>test</td>\n",
       "      <td>[2.1158652305603027, -0.5784574747085571, -2.0...</td>\n",
       "      <td>0.022168</td>\n",
       "      <td>25.301680</td>\n",
       "    </tr>\n",
       "    <tr>\n",
       "      <th>2</th>\n",
       "      <td>1577</td>\n",
       "      <td>227684689422546195</td>\n",
       "      <td></td>\n",
       "      <td>0</td>\n",
       "      <td>fashion-product-images/images</td>\n",
       "      <td>38567.jpg</td>\n",
       "      <td>CPvdj5ve+4YDEAE=</td>\n",
       "      <td>1719489676963579</td>\n",
       "      <td>1</td>\n",
       "      <td>2024-06-27 12:01:17.014000+00:00</td>\n",
       "      <td>...</td>\n",
       "      <td>Blue</td>\n",
       "      <td>Fall</td>\n",
       "      <td>2011.0</td>\n",
       "      <td>Formal</td>\n",
       "      <td>Belmonte Men Check Blue Shirts</td>\n",
       "      <td>38567.jpg</td>\n",
       "      <td>test</td>\n",
       "      <td>[2.389871597290039, -0.44502636790275574, -0.8...</td>\n",
       "      <td>0.029791</td>\n",
       "      <td>18.695064</td>\n",
       "    </tr>\n",
       "    <tr>\n",
       "      <th>3</th>\n",
       "      <td>1938</td>\n",
       "      <td>4290669867962685367</td>\n",
       "      <td></td>\n",
       "      <td>0</td>\n",
       "      <td>fashion-product-images/images</td>\n",
       "      <td>5451.jpg</td>\n",
       "      <td>CPqHh5Dd+4YDEAE=</td>\n",
       "      <td>1719489385317370</td>\n",
       "      <td>1</td>\n",
       "      <td>2024-06-27 11:56:25.358000+00:00</td>\n",
       "      <td>...</td>\n",
       "      <td>Mushroom Brown</td>\n",
       "      <td>Summer</td>\n",
       "      <td>2012.0</td>\n",
       "      <td>Casual</td>\n",
       "      <td>Puma Men Mushroom Brown T-shirt</td>\n",
       "      <td>5451.jpg</td>\n",
       "      <td>test</td>\n",
       "      <td>[2.194873809814453, -0.19374412298202515, -1.6...</td>\n",
       "      <td>0.032364</td>\n",
       "      <td>26.560666</td>\n",
       "    </tr>\n",
       "    <tr>\n",
       "      <th>4</th>\n",
       "      <td>2073</td>\n",
       "      <td>9122283733710842842</td>\n",
       "      <td></td>\n",
       "      <td>0</td>\n",
       "      <td>fashion-product-images/images</td>\n",
       "      <td>7533.jpg</td>\n",
       "      <td>COajw7Xd+4YDEAE=</td>\n",
       "      <td>1719489463898598</td>\n",
       "      <td>1</td>\n",
       "      <td>2024-06-27 11:57:43.943000+00:00</td>\n",
       "      <td>...</td>\n",
       "      <td>Off White</td>\n",
       "      <td>Summer</td>\n",
       "      <td>2012.0</td>\n",
       "      <td>Ethnic</td>\n",
       "      <td>Fabindia Off White Chanderi Dupatta</td>\n",
       "      <td>7533.jpg</td>\n",
       "      <td>test</td>\n",
       "      <td>[2.9931812286376953, -0.21968069672584534, -0....</td>\n",
       "      <td>0.032725</td>\n",
       "      <td>19.859621</td>\n",
       "    </tr>\n",
       "    <tr>\n",
       "      <th>5</th>\n",
       "      <td>437</td>\n",
       "      <td>2089609929145757843</td>\n",
       "      <td></td>\n",
       "      <td>0</td>\n",
       "      <td>fashion-product-images/images</td>\n",
       "      <td>17930.jpg</td>\n",
       "      <td>CKW+17Ld+4YDEAE=</td>\n",
       "      <td>1719489457938213</td>\n",
       "      <td>1</td>\n",
       "      <td>2024-06-27 11:57:37.981000+00:00</td>\n",
       "      <td>...</td>\n",
       "      <td>Blue</td>\n",
       "      <td>Summer</td>\n",
       "      <td>2011.0</td>\n",
       "      <td>Casual</td>\n",
       "      <td>Status Quo Men's Beach Sky Blue T-shirt</td>\n",
       "      <td>17930.jpg</td>\n",
       "      <td>test</td>\n",
       "      <td>[1.6447069644927979, -0.07466438412666321, -0....</td>\n",
       "      <td>0.049561</td>\n",
       "      <td>24.513606</td>\n",
       "    </tr>\n",
       "    <tr>\n",
       "      <th>6</th>\n",
       "      <td>1578</td>\n",
       "      <td>3997777603462950984</td>\n",
       "      <td></td>\n",
       "      <td>0</td>\n",
       "      <td>fashion-product-images/images</td>\n",
       "      <td>38570.jpg</td>\n",
       "      <td>CMyFv4ze+4YDEAE=</td>\n",
       "      <td>1719489646281420</td>\n",
       "      <td>1</td>\n",
       "      <td>2024-06-27 12:00:46.328000+00:00</td>\n",
       "      <td>...</td>\n",
       "      <td>Pink</td>\n",
       "      <td>Fall</td>\n",
       "      <td>2010.0</td>\n",
       "      <td>Sports</td>\n",
       "      <td>Nike Womens Pink T-shirt</td>\n",
       "      <td>38570.jpg</td>\n",
       "      <td>test</td>\n",
       "      <td>[1.3173340559005737, -0.8487207293510437, -0.9...</td>\n",
       "      <td>0.054993</td>\n",
       "      <td>24.534202</td>\n",
       "    </tr>\n",
       "    <tr>\n",
       "      <th>7</th>\n",
       "      <td>185</td>\n",
       "      <td>7210419928890658220</td>\n",
       "      <td></td>\n",
       "      <td>0</td>\n",
       "      <td>fashion-product-images/images</td>\n",
       "      <td>13258.jpg</td>\n",
       "      <td>CLe7wtXd+4YDEAE=</td>\n",
       "      <td>1719489530994103</td>\n",
       "      <td>1</td>\n",
       "      <td>2024-06-27 11:58:51.041000+00:00</td>\n",
       "      <td>...</td>\n",
       "      <td>Blue</td>\n",
       "      <td>Summer</td>\n",
       "      <td>2012.0</td>\n",
       "      <td>Ethnic</td>\n",
       "      <td>Fabindia Men Blue Kurta</td>\n",
       "      <td>13258.jpg</td>\n",
       "      <td>test</td>\n",
       "      <td>[1.6476695537567139, -0.4306546449661255, -0.5...</td>\n",
       "      <td>0.058446</td>\n",
       "      <td>26.455464</td>\n",
       "    </tr>\n",
       "    <tr>\n",
       "      <th>8</th>\n",
       "      <td>304</td>\n",
       "      <td>6672857086071220441</td>\n",
       "      <td></td>\n",
       "      <td>0</td>\n",
       "      <td>fashion-product-images/images</td>\n",
       "      <td>15622.jpg</td>\n",
       "      <td>CIWRm4/e+4YDEAE=</td>\n",
       "      <td>1719489651984517</td>\n",
       "      <td>1</td>\n",
       "      <td>2024-06-27 12:00:52.027000+00:00</td>\n",
       "      <td>...</td>\n",
       "      <td>Teal</td>\n",
       "      <td>Summer</td>\n",
       "      <td>2012.0</td>\n",
       "      <td>Casual</td>\n",
       "      <td>Tonga Women Teal Top</td>\n",
       "      <td>15622.jpg</td>\n",
       "      <td>test</td>\n",
       "      <td>[2.44319224357605, -0.11512380838394165, -0.59...</td>\n",
       "      <td>0.069164</td>\n",
       "      <td>27.598884</td>\n",
       "    </tr>\n",
       "    <tr>\n",
       "      <th>9</th>\n",
       "      <td>981</td>\n",
       "      <td>4352692806958154892</td>\n",
       "      <td></td>\n",
       "      <td>0</td>\n",
       "      <td>fashion-product-images/images</td>\n",
       "      <td>27419.jpg</td>\n",
       "      <td>CIf0ptfe+4YDEAE=</td>\n",
       "      <td>1719489803172359</td>\n",
       "      <td>1</td>\n",
       "      <td>2024-06-27 12:03:23.225000+00:00</td>\n",
       "      <td>...</td>\n",
       "      <td>Olive</td>\n",
       "      <td>Summer</td>\n",
       "      <td>2012.0</td>\n",
       "      <td>Casual</td>\n",
       "      <td>United Colors of Benetton Boys Check Olive Shirt</td>\n",
       "      <td>27419.jpg</td>\n",
       "      <td>test</td>\n",
       "      <td>[1.6270990371704102, -0.7970958948135376, -1.3...</td>\n",
       "      <td>0.069942</td>\n",
       "      <td>28.246160</td>\n",
       "    </tr>\n",
       "  </tbody>\n",
       "</table>\n",
       "<p>10 rows × 53 columns</p>\n",
       "</div>"
      ],
      "text/plain": [
       "     id               random vtype  dir_type                         parent  \\\n",
       "0     1   674154948235391147               0  fashion-product-images/images   \n",
       "1  1142  8961489385443010760               0  fashion-product-images/images   \n",
       "2  1577   227684689422546195               0  fashion-product-images/images   \n",
       "3  1938  4290669867962685367               0  fashion-product-images/images   \n",
       "4  2073  9122283733710842842               0  fashion-product-images/images   \n",
       "5   437  2089609929145757843               0  fashion-product-images/images   \n",
       "6  1578  3997777603462950984               0  fashion-product-images/images   \n",
       "7   185  7210419928890658220               0  fashion-product-images/images   \n",
       "8   304  6672857086071220441               0  fashion-product-images/images   \n",
       "9   981  4352692806958154892               0  fashion-product-images/images   \n",
       "\n",
       "        name              etag           version  is_latest  \\\n",
       "0  10004.jpg  CMDWmrbe+4YDEAE=  1719489733765952          1   \n",
       "1  30609.jpg  CObf5ZXd+4YDEAE=  1719489397354470          1   \n",
       "2  38567.jpg  CPvdj5ve+4YDEAE=  1719489676963579          1   \n",
       "3   5451.jpg  CPqHh5Dd+4YDEAE=  1719489385317370          1   \n",
       "4   7533.jpg  COajw7Xd+4YDEAE=  1719489463898598          1   \n",
       "5  17930.jpg  CKW+17Ld+4YDEAE=  1719489457938213          1   \n",
       "6  38570.jpg  CMyFv4ze+4YDEAE=  1719489646281420          1   \n",
       "7  13258.jpg  CLe7wtXd+4YDEAE=  1719489530994103          1   \n",
       "8  15622.jpg  CIWRm4/e+4YDEAE=  1719489651984517          1   \n",
       "9  27419.jpg  CIf0ptfe+4YDEAE=  1719489803172359          1   \n",
       "\n",
       "                     last_modified  ...      basecolour  season    year  \\\n",
       "0 2024-06-27 12:02:13.818000+00:00  ...           Multi  Summer  2012.0   \n",
       "1 2024-06-27 11:56:37.414000+00:00  ...           Beige  Summer  2012.0   \n",
       "2 2024-06-27 12:01:17.014000+00:00  ...            Blue    Fall  2011.0   \n",
       "3 2024-06-27 11:56:25.358000+00:00  ...  Mushroom Brown  Summer  2012.0   \n",
       "4 2024-06-27 11:57:43.943000+00:00  ...       Off White  Summer  2012.0   \n",
       "5 2024-06-27 11:57:37.981000+00:00  ...            Blue  Summer  2011.0   \n",
       "6 2024-06-27 12:00:46.328000+00:00  ...            Pink    Fall  2010.0   \n",
       "7 2024-06-27 11:58:51.041000+00:00  ...            Blue  Summer  2012.0   \n",
       "8 2024-06-27 12:00:52.027000+00:00  ...            Teal  Summer  2012.0   \n",
       "9 2024-06-27 12:03:23.225000+00:00  ...           Olive  Summer  2012.0   \n",
       "\n",
       "    usage                                productdisplayname   filename split  \\\n",
       "0  Ethnic                   Diva Women Multi Coloured Kurta  10004.jpg  test   \n",
       "1  Casual                      Mother Earth Women Beige Top  30609.jpg  test   \n",
       "2  Formal                    Belmonte Men Check Blue Shirts  38567.jpg  test   \n",
       "3  Casual                   Puma Men Mushroom Brown T-shirt   5451.jpg  test   \n",
       "4  Ethnic               Fabindia Off White Chanderi Dupatta   7533.jpg  test   \n",
       "5  Casual           Status Quo Men's Beach Sky Blue T-shirt  17930.jpg  test   \n",
       "6  Sports                          Nike Womens Pink T-shirt  38570.jpg  test   \n",
       "7  Ethnic                           Fabindia Men Blue Kurta  13258.jpg  test   \n",
       "8  Casual                              Tonga Women Teal Top  15622.jpg  test   \n",
       "9  Casual  United Colors of Benetton Boys Check Olive Shirt  27419.jpg  test   \n",
       "\n",
       "                                          embeddings  cos_dist  eucl_dist  \n",
       "0  [2.544675588607788, -0.2560328245162964, -1.24...  0.000000   0.000000  \n",
       "1  [2.1158652305603027, -0.5784574747085571, -2.0...  0.022168  25.301680  \n",
       "2  [2.389871597290039, -0.44502636790275574, -0.8...  0.029791  18.695064  \n",
       "3  [2.194873809814453, -0.19374412298202515, -1.6...  0.032364  26.560666  \n",
       "4  [2.9931812286376953, -0.21968069672584534, -0....  0.032725  19.859621  \n",
       "5  [1.6447069644927979, -0.07466438412666321, -0....  0.049561  24.513606  \n",
       "6  [1.3173340559005737, -0.8487207293510437, -0.9...  0.054993  24.534202  \n",
       "7  [1.6476695537567139, -0.4306546449661255, -0.5...  0.058446  26.455464  \n",
       "8  [2.44319224357605, -0.11512380838394165, -0.59...  0.069164  27.598884  \n",
       "9  [1.6270990371704102, -0.7970958948135376, -1.3...  0.069942  28.246160  \n",
       "\n",
       "[10 rows x 53 columns]"
      ]
     },
     "execution_count": 25,
     "metadata": {},
     "output_type": "execute_result"
    }
   ],
   "source": [
    "# Preview results\n",
    "\n",
    "dist = DataChain.from_dataset(\"fashion-similarity\").order_by(\"cos_dist\").to_pandas()\n",
    "dist.head(10)"
   ]
  },
  {
   "cell_type": "code",
   "execution_count": 26,
   "id": "9c723005-8d3c-4afd-846e-e440b7aff10f",
   "metadata": {
    "scrolled": true
   },
   "outputs": [
    {
     "data": {
      "image/png": "[encoded data removed]",
      "text/plain": [
       "<Figure size 600x400 with 1 Axes>"
      ]
     },
     "metadata": {},
     "output_type": "display_data"
    },
    {
     "data": {
      "image/png": "[encoded data removed]",
      "text/plain": [
       "<Figure size 600x400 with 1 Axes>"
      ]
     },
     "metadata": {},
     "output_type": "display_data"
    }
   ],
   "source": [
    "import matplotlib.pyplot as plt\n",
    "import seaborn as sns\n",
    "\n",
    "# Histogram and Density Plot for Cosine Distance\n",
    "plt.figure(figsize=(6, 4))\n",
    "sns.histplot(dist[\"cos_dist\"], color=\"blue\", label=\"Cosine Distance\", kde=True)\n",
    "plt.title(\"Histogram and Density Plot of Cosine Distance\")\n",
    "plt.xlabel(\"Cosine Distance\")\n",
    "plt.ylabel(\"Frequency\")\n",
    "plt.legend()\n",
    "plt.show()\n",
    "\n",
    "# Histogram and Density Plot for Euclidean Distance\n",
    "plt.figure(figsize=(6, 4))\n",
    "sns.histplot(dist[\"eucl_dist\"], color=\"red\", label=\"Euclidean Distance\", kde=True)\n",
    "plt.title(\"Histogram and Density Plot of Euclidean Distance\")\n",
    "plt.xlabel(\"Euclidean Distance\")\n",
    "plt.ylabel(\"Frequency\")\n",
    "plt.legend()\n",
    "plt.show()"
   ]
  },
  {
   "cell_type": "markdown",
   "id": "c70f492d-9837-485c-b8e2-affde7625cd0",
   "metadata": {
    "execution": {
     "iopub.execute_input": "2024-05-09T13:45:31.525826Z",
     "iopub.status.busy": "2024-05-09T13:45:31.525510Z",
     "iopub.status.idle": "2024-05-09T13:45:31.529986Z",
     "shell.execute_reply": "2024-05-09T13:45:31.529527Z",
     "shell.execute_reply.started": "2024-05-09T13:45:31.525804Z"
    }
   },
   "source": [
    "## Visualize the most and the least similar images "
   ]
  },
  {
   "cell_type": "code",
   "execution_count": 27,
   "id": "fd5e7edb-a6ed-485b-9de6-0b76984a75c1",
   "metadata": {
    "scrolled": true
   },
   "outputs": [
    {
     "data": {
      "text/html": [
       "<div>\n",
       "<style scoped>\n",
       "    .dataframe tbody tr th:only-of-type {\n",
       "        vertical-align: middle;\n",
       "    }\n",
       "\n",
       "    .dataframe tbody tr th {\n",
       "        vertical-align: top;\n",
       "    }\n",
       "\n",
       "    .dataframe thead th {\n",
       "        text-align: right;\n",
       "    }\n",
       "</style>\n",
       "<table border=\"1\" class=\"dataframe\">\n",
       "  <thead>\n",
       "    <tr style=\"text-align: right;\">\n",
       "      <th></th>\n",
       "      <th>id</th>\n",
       "      <th>random</th>\n",
       "      <th>vtype</th>\n",
       "      <th>dir_type</th>\n",
       "      <th>parent</th>\n",
       "      <th>name</th>\n",
       "      <th>etag</th>\n",
       "      <th>version</th>\n",
       "      <th>is_latest</th>\n",
       "      <th>last_modified</th>\n",
       "      <th>...</th>\n",
       "      <th>basecolour</th>\n",
       "      <th>season</th>\n",
       "      <th>year</th>\n",
       "      <th>usage</th>\n",
       "      <th>productdisplayname</th>\n",
       "      <th>filename</th>\n",
       "      <th>split</th>\n",
       "      <th>embeddings</th>\n",
       "      <th>cos_dist</th>\n",
       "      <th>eucl_dist</th>\n",
       "    </tr>\n",
       "  </thead>\n",
       "  <tbody>\n",
       "    <tr>\n",
       "      <th>0</th>\n",
       "      <td>1</td>\n",
       "      <td>674154948235391147</td>\n",
       "      <td></td>\n",
       "      <td>0</td>\n",
       "      <td>fashion-product-images/images</td>\n",
       "      <td>10004.jpg</td>\n",
       "      <td>CMDWmrbe+4YDEAE=</td>\n",
       "      <td>1719489733765952</td>\n",
       "      <td>1</td>\n",
       "      <td>2024-06-27 12:02:13.818000+00:00</td>\n",
       "      <td>...</td>\n",
       "      <td>Multi</td>\n",
       "      <td>Summer</td>\n",
       "      <td>2012.0</td>\n",
       "      <td>Ethnic</td>\n",
       "      <td>Diva Women Multi Coloured Kurta</td>\n",
       "      <td>10004.jpg</td>\n",
       "      <td>test</td>\n",
       "      <td>[2.544675588607788, -0.2560328245162964, -1.24...</td>\n",
       "      <td>0.000000</td>\n",
       "      <td>0.000000</td>\n",
       "    </tr>\n",
       "    <tr>\n",
       "      <th>1</th>\n",
       "      <td>1142</td>\n",
       "      <td>8961489385443010760</td>\n",
       "      <td></td>\n",
       "      <td>0</td>\n",
       "      <td>fashion-product-images/images</td>\n",
       "      <td>30609.jpg</td>\n",
       "      <td>CObf5ZXd+4YDEAE=</td>\n",
       "      <td>1719489397354470</td>\n",
       "      <td>1</td>\n",
       "      <td>2024-06-27 11:56:37.414000+00:00</td>\n",
       "      <td>...</td>\n",
       "      <td>Beige</td>\n",
       "      <td>Summer</td>\n",
       "      <td>2012.0</td>\n",
       "      <td>Casual</td>\n",
       "      <td>Mother Earth Women Beige Top</td>\n",
       "      <td>30609.jpg</td>\n",
       "      <td>test</td>\n",
       "      <td>[2.1158652305603027, -0.5784574747085571, -2.0...</td>\n",
       "      <td>0.022168</td>\n",
       "      <td>25.301680</td>\n",
       "    </tr>\n",
       "    <tr>\n",
       "      <th>2</th>\n",
       "      <td>1577</td>\n",
       "      <td>227684689422546195</td>\n",
       "      <td></td>\n",
       "      <td>0</td>\n",
       "      <td>fashion-product-images/images</td>\n",
       "      <td>38567.jpg</td>\n",
       "      <td>CPvdj5ve+4YDEAE=</td>\n",
       "      <td>1719489676963579</td>\n",
       "      <td>1</td>\n",
       "      <td>2024-06-27 12:01:17.014000+00:00</td>\n",
       "      <td>...</td>\n",
       "      <td>Blue</td>\n",
       "      <td>Fall</td>\n",
       "      <td>2011.0</td>\n",
       "      <td>Formal</td>\n",
       "      <td>Belmonte Men Check Blue Shirts</td>\n",
       "      <td>38567.jpg</td>\n",
       "      <td>test</td>\n",
       "      <td>[2.389871597290039, -0.44502636790275574, -0.8...</td>\n",
       "      <td>0.029791</td>\n",
       "      <td>18.695064</td>\n",
       "    </tr>\n",
       "    <tr>\n",
       "      <th>3</th>\n",
       "      <td>1938</td>\n",
       "      <td>4290669867962685367</td>\n",
       "      <td></td>\n",
       "      <td>0</td>\n",
       "      <td>fashion-product-images/images</td>\n",
       "      <td>5451.jpg</td>\n",
       "      <td>CPqHh5Dd+4YDEAE=</td>\n",
       "      <td>1719489385317370</td>\n",
       "      <td>1</td>\n",
       "      <td>2024-06-27 11:56:25.358000+00:00</td>\n",
       "      <td>...</td>\n",
       "      <td>Mushroom Brown</td>\n",
       "      <td>Summer</td>\n",
       "      <td>2012.0</td>\n",
       "      <td>Casual</td>\n",
       "      <td>Puma Men Mushroom Brown T-shirt</td>\n",
       "      <td>5451.jpg</td>\n",
       "      <td>test</td>\n",
       "      <td>[2.194873809814453, -0.19374412298202515, -1.6...</td>\n",
       "      <td>0.032364</td>\n",
       "      <td>26.560666</td>\n",
       "    </tr>\n",
       "    <tr>\n",
       "      <th>4</th>\n",
       "      <td>2073</td>\n",
       "      <td>9122283733710842842</td>\n",
       "      <td></td>\n",
       "      <td>0</td>\n",
       "      <td>fashion-product-images/images</td>\n",
       "      <td>7533.jpg</td>\n",
       "      <td>COajw7Xd+4YDEAE=</td>\n",
       "      <td>1719489463898598</td>\n",
       "      <td>1</td>\n",
       "      <td>2024-06-27 11:57:43.943000+00:00</td>\n",
       "      <td>...</td>\n",
       "      <td>Off White</td>\n",
       "      <td>Summer</td>\n",
       "      <td>2012.0</td>\n",
       "      <td>Ethnic</td>\n",
       "      <td>Fabindia Off White Chanderi Dupatta</td>\n",
       "      <td>7533.jpg</td>\n",
       "      <td>test</td>\n",
       "      <td>[2.9931812286376953, -0.21968069672584534, -0....</td>\n",
       "      <td>0.032725</td>\n",
       "      <td>19.859621</td>\n",
       "    </tr>\n",
       "    <tr>\n",
       "      <th>5</th>\n",
       "      <td>437</td>\n",
       "      <td>2089609929145757843</td>\n",
       "      <td></td>\n",
       "      <td>0</td>\n",
       "      <td>fashion-product-images/images</td>\n",
       "      <td>17930.jpg</td>\n",
       "      <td>CKW+17Ld+4YDEAE=</td>\n",
       "      <td>1719489457938213</td>\n",
       "      <td>1</td>\n",
       "      <td>2024-06-27 11:57:37.981000+00:00</td>\n",
       "      <td>...</td>\n",
       "      <td>Blue</td>\n",
       "      <td>Summer</td>\n",
       "      <td>2011.0</td>\n",
       "      <td>Casual</td>\n",
       "      <td>Status Quo Men's Beach Sky Blue T-shirt</td>\n",
       "      <td>17930.jpg</td>\n",
       "      <td>test</td>\n",
       "      <td>[1.6447069644927979, -0.07466438412666321, -0....</td>\n",
       "      <td>0.049561</td>\n",
       "      <td>24.513606</td>\n",
       "    </tr>\n",
       "    <tr>\n",
       "      <th>6</th>\n",
       "      <td>1578</td>\n",
       "      <td>3997777603462950984</td>\n",
       "      <td></td>\n",
       "      <td>0</td>\n",
       "      <td>fashion-product-images/images</td>\n",
       "      <td>38570.jpg</td>\n",
       "      <td>CMyFv4ze+4YDEAE=</td>\n",
       "      <td>1719489646281420</td>\n",
       "      <td>1</td>\n",
       "      <td>2024-06-27 12:00:46.328000+00:00</td>\n",
       "      <td>...</td>\n",
       "      <td>Pink</td>\n",
       "      <td>Fall</td>\n",
       "      <td>2010.0</td>\n",
       "      <td>Sports</td>\n",
       "      <td>Nike Womens Pink T-shirt</td>\n",
       "      <td>38570.jpg</td>\n",
       "      <td>test</td>\n",
       "      <td>[1.3173340559005737, -0.8487207293510437, -0.9...</td>\n",
       "      <td>0.054993</td>\n",
       "      <td>24.534202</td>\n",
       "    </tr>\n",
       "    <tr>\n",
       "      <th>7</th>\n",
       "      <td>185</td>\n",
       "      <td>7210419928890658220</td>\n",
       "      <td></td>\n",
       "      <td>0</td>\n",
       "      <td>fashion-product-images/images</td>\n",
       "      <td>13258.jpg</td>\n",
       "      <td>CLe7wtXd+4YDEAE=</td>\n",
       "      <td>1719489530994103</td>\n",
       "      <td>1</td>\n",
       "      <td>2024-06-27 11:58:51.041000+00:00</td>\n",
       "      <td>...</td>\n",
       "      <td>Blue</td>\n",
       "      <td>Summer</td>\n",
       "      <td>2012.0</td>\n",
       "      <td>Ethnic</td>\n",
       "      <td>Fabindia Men Blue Kurta</td>\n",
       "      <td>13258.jpg</td>\n",
       "      <td>test</td>\n",
       "      <td>[1.6476695537567139, -0.4306546449661255, -0.5...</td>\n",
       "      <td>0.058446</td>\n",
       "      <td>26.455464</td>\n",
       "    </tr>\n",
       "    <tr>\n",
       "      <th>8</th>\n",
       "      <td>304</td>\n",
       "      <td>6672857086071220441</td>\n",
       "      <td></td>\n",
       "      <td>0</td>\n",
       "      <td>fashion-product-images/images</td>\n",
       "      <td>15622.jpg</td>\n",
       "      <td>CIWRm4/e+4YDEAE=</td>\n",
       "      <td>1719489651984517</td>\n",
       "      <td>1</td>\n",
       "      <td>2024-06-27 12:00:52.027000+00:00</td>\n",
       "      <td>...</td>\n",
       "      <td>Teal</td>\n",
       "      <td>Summer</td>\n",
       "      <td>2012.0</td>\n",
       "      <td>Casual</td>\n",
       "      <td>Tonga Women Teal Top</td>\n",
       "      <td>15622.jpg</td>\n",
       "      <td>test</td>\n",
       "      <td>[2.44319224357605, -0.11512380838394165, -0.59...</td>\n",
       "      <td>0.069164</td>\n",
       "      <td>27.598884</td>\n",
       "    </tr>\n",
       "    <tr>\n",
       "      <th>9</th>\n",
       "      <td>981</td>\n",
       "      <td>4352692806958154892</td>\n",
       "      <td></td>\n",
       "      <td>0</td>\n",
       "      <td>fashion-product-images/images</td>\n",
       "      <td>27419.jpg</td>\n",
       "      <td>CIf0ptfe+4YDEAE=</td>\n",
       "      <td>1719489803172359</td>\n",
       "      <td>1</td>\n",
       "      <td>2024-06-27 12:03:23.225000+00:00</td>\n",
       "      <td>...</td>\n",
       "      <td>Olive</td>\n",
       "      <td>Summer</td>\n",
       "      <td>2012.0</td>\n",
       "      <td>Casual</td>\n",
       "      <td>United Colors of Benetton Boys Check Olive Shirt</td>\n",
       "      <td>27419.jpg</td>\n",
       "      <td>test</td>\n",
       "      <td>[1.6270990371704102, -0.7970958948135376, -1.3...</td>\n",
       "      <td>0.069942</td>\n",
       "      <td>28.246160</td>\n",
       "    </tr>\n",
       "  </tbody>\n",
       "</table>\n",
       "<p>10 rows × 53 columns</p>\n",
       "</div>"
      ],
      "text/plain": [
       "     id               random vtype  dir_type                         parent  \\\n",
       "0     1   674154948235391147               0  fashion-product-images/images   \n",
       "1  1142  8961489385443010760               0  fashion-product-images/images   \n",
       "2  1577   227684689422546195               0  fashion-product-images/images   \n",
       "3  1938  4290669867962685367               0  fashion-product-images/images   \n",
       "4  2073  9122283733710842842               0  fashion-product-images/images   \n",
       "5   437  2089609929145757843               0  fashion-product-images/images   \n",
       "6  1578  3997777603462950984               0  fashion-product-images/images   \n",
       "7   185  7210419928890658220               0  fashion-product-images/images   \n",
       "8   304  6672857086071220441               0  fashion-product-images/images   \n",
       "9   981  4352692806958154892               0  fashion-product-images/images   \n",
       "\n",
       "        name              etag           version  is_latest  \\\n",
       "0  10004.jpg  CMDWmrbe+4YDEAE=  1719489733765952          1   \n",
       "1  30609.jpg  CObf5ZXd+4YDEAE=  1719489397354470          1   \n",
       "2  38567.jpg  CPvdj5ve+4YDEAE=  1719489676963579          1   \n",
       "3   5451.jpg  CPqHh5Dd+4YDEAE=  1719489385317370          1   \n",
       "4   7533.jpg  COajw7Xd+4YDEAE=  1719489463898598          1   \n",
       "5  17930.jpg  CKW+17Ld+4YDEAE=  1719489457938213          1   \n",
       "6  38570.jpg  CMyFv4ze+4YDEAE=  1719489646281420          1   \n",
       "7  13258.jpg  CLe7wtXd+4YDEAE=  1719489530994103          1   \n",
       "8  15622.jpg  CIWRm4/e+4YDEAE=  1719489651984517          1   \n",
       "9  27419.jpg  CIf0ptfe+4YDEAE=  1719489803172359          1   \n",
       "\n",
       "                     last_modified  ...      basecolour  season    year  \\\n",
       "0 2024-06-27 12:02:13.818000+00:00  ...           Multi  Summer  2012.0   \n",
       "1 2024-06-27 11:56:37.414000+00:00  ...           Beige  Summer  2012.0   \n",
       "2 2024-06-27 12:01:17.014000+00:00  ...            Blue    Fall  2011.0   \n",
       "3 2024-06-27 11:56:25.358000+00:00  ...  Mushroom Brown  Summer  2012.0   \n",
       "4 2024-06-27 11:57:43.943000+00:00  ...       Off White  Summer  2012.0   \n",
       "5 2024-06-27 11:57:37.981000+00:00  ...            Blue  Summer  2011.0   \n",
       "6 2024-06-27 12:00:46.328000+00:00  ...            Pink    Fall  2010.0   \n",
       "7 2024-06-27 11:58:51.041000+00:00  ...            Blue  Summer  2012.0   \n",
       "8 2024-06-27 12:00:52.027000+00:00  ...            Teal  Summer  2012.0   \n",
       "9 2024-06-27 12:03:23.225000+00:00  ...           Olive  Summer  2012.0   \n",
       "\n",
       "    usage                                productdisplayname   filename split  \\\n",
       "0  Ethnic                   Diva Women Multi Coloured Kurta  10004.jpg  test   \n",
       "1  Casual                      Mother Earth Women Beige Top  30609.jpg  test   \n",
       "2  Formal                    Belmonte Men Check Blue Shirts  38567.jpg  test   \n",
       "3  Casual                   Puma Men Mushroom Brown T-shirt   5451.jpg  test   \n",
       "4  Ethnic               Fabindia Off White Chanderi Dupatta   7533.jpg  test   \n",
       "5  Casual           Status Quo Men's Beach Sky Blue T-shirt  17930.jpg  test   \n",
       "6  Sports                          Nike Womens Pink T-shirt  38570.jpg  test   \n",
       "7  Ethnic                           Fabindia Men Blue Kurta  13258.jpg  test   \n",
       "8  Casual                              Tonga Women Teal Top  15622.jpg  test   \n",
       "9  Casual  United Colors of Benetton Boys Check Olive Shirt  27419.jpg  test   \n",
       "\n",
       "                                          embeddings  cos_dist  eucl_dist  \n",
       "0  [2.544675588607788, -0.2560328245162964, -1.24...  0.000000   0.000000  \n",
       "1  [2.1158652305603027, -0.5784574747085571, -2.0...  0.022168  25.301680  \n",
       "2  [2.389871597290039, -0.44502636790275574, -0.8...  0.029791  18.695064  \n",
       "3  [2.194873809814453, -0.19374412298202515, -1.6...  0.032364  26.560666  \n",
       "4  [2.9931812286376953, -0.21968069672584534, -0....  0.032725  19.859621  \n",
       "5  [1.6447069644927979, -0.07466438412666321, -0....  0.049561  24.513606  \n",
       "6  [1.3173340559005737, -0.8487207293510437, -0.9...  0.054993  24.534202  \n",
       "7  [1.6476695537567139, -0.4306546449661255, -0.5...  0.058446  26.455464  \n",
       "8  [2.44319224357605, -0.11512380838394165, -0.59...  0.069164  27.598884  \n",
       "9  [1.6270990371704102, -0.7970958948135376, -1.3...  0.069942  28.246160  \n",
       "\n",
       "[10 rows x 53 columns]"
      ]
     },
     "execution_count": 27,
     "metadata": {},
     "output_type": "execute_result"
    }
   ],
   "source": [
    "sim_ds = DataChain.from_dataset(\"fashion-similarity\").order_by(C(\"cos_dist\"))\n",
    "sim = sim_ds.to_pandas()\n",
    "sim.head(10)"
   ]
  },
  {
   "cell_type": "code",
   "execution_count": 28,
   "id": "3a7732f1-1689-4dce-bd4e-5672c01143cc",
   "metadata": {},
   "outputs": [
    {
     "name": "stdout",
     "output_type": "stream",
     "text": [
      "10004.jpg\n"
     ]
    },
    {
     "data": {
      "image/jpeg": "[encoded data removed]",
      "image/png": "[encoded data removed]",
      "text/plain": [
       "<PIL.JpegImagePlugin.JpegImageFile image mode=RGB size=60x80>"
      ]
     },
     "metadata": {},
     "output_type": "display_data"
    },
    {
     "name": "stdout",
     "output_type": "stream",
     "text": [
      "30609.jpg\n"
     ]
    },
    {
     "data": {
      "image/jpeg": "[encoded data removed]",
      "image/png": "[encoded data removed]",
      "text/plain": [
       "<PIL.JpegImagePlugin.JpegImageFile image mode=L size=60x80>"
      ]
     },
     "metadata": {},
     "output_type": "display_data"
    },
    {
     "name": "stdout",
     "output_type": "stream",
     "text": [
      "4690.jpg\n"
     ]
    },
    {
     "data": {
      "image/jpeg": "[encoded data removed]",
      "image/png": "[encoded data removed]",
      "text/plain": [
       "<PIL.JpegImagePlugin.JpegImageFile image mode=RGB size=60x80>"
      ]
     },
     "metadata": {},
     "output_type": "display_data"
    }
   ],
   "source": [
    "# Select images to display: target image, the most similar and the least similar \n",
    "img_names = [\n",
    "    TARGET_NAME,\n",
    "    sim.name[1], # Most Similar\n",
    "    sim.name.iloc[-1] # Least Similar\n",
    "]\n",
    "\n",
    "# Save images in local temporary files\n",
    "images = []\n",
    "for name in img_names:\n",
    "    print(name)\n",
    "    try: \n",
    "        sample = sim_ds.filter(C(\"name\") == name).save()\n",
    "        img = next(sample.iterate_one(\"file\")).get_value()\n",
    "        images.append({name: img})\n",
    "        display(img)\n",
    "    except: \n",
    "        print(\"Stop: \", name)\n",
    "        "
   ]
  },
  {
   "cell_type": "code",
   "execution_count": 29,
   "id": "3262ad65-1b89-4bff-914e-75ce450c6327",
   "metadata": {},
   "outputs": [
    {
     "data": {
      "image/png": "[encoded data removed]",
      "text/plain": [
       "<Figure size 600x400 with 3 Axes>"
      ]
     },
     "metadata": {},
     "output_type": "display_data"
    }
   ],
   "source": [
    "# Create subplots\n",
    "\n",
    "f, ax_arr = plt.subplots(1, len(img_names), figsize=(6, 4))\n",
    "title = \"Displaying images matrix\"\n",
    "f.suptitle(title, fontsize=16)\n",
    "\n",
    "# Plot images\n",
    "for i, ax in enumerate(ax_arr):\n",
    "    name = list(images[i].keys())[0]\n",
    "    img = images[i][name]\n",
    "    ax.imshow(img) # Read & show image from a temporary file\n",
    "    ax.set_title(name)\n",
    "plt.show()\n"
   ]
  },
  {
   "cell_type": "markdown",
   "id": "f0a6a7f7-82d7-4b2a-9fa2-c691326ac08f",
   "metadata": {},
   "source": [
    "# 🧹 Finding and Removing Redundant Images\n",
    "\n",
    "In this tutorial, you'll learn how to use DataChain to minimize redundant images in a dataset by selecting a diverse subset of images. \n",
    "\n",
    "- This is particularly useful when working with multiple product images captured from different angles\n",
    "- It helps speed up computations and cut the costs \n",
    "\n",
    "Following these steps, you can effectively minimize redundant images in your dataset by selecting a diverse subset of images using DataChain and the `select_diverse_elements()` function.\n",
    "\n",
    "**Note:**\n",
    "- Make sure to implement (or import) the `select_diverse_elements()` function in the `src.clustering` module for this code to work."
   ]
  },
  {
   "cell_type": "code",
   "execution_count": 30,
   "id": "364fbd27-e33a-48d7-bb23-06d990a08ea4",
   "metadata": {
    "scrolled": true
   },
   "outputs": [
    {
     "name": "stdout",
     "output_type": "stream",
     "text": [
      "Requirement already satisfied: umap-learn in /Users/dave/micromamba/envs/dvcx-py311/lib/python3.11/site-packages (0.5.6)\n",
      "Requirement already satisfied: numpy>=1.17 in /Users/dave/micromamba/envs/dvcx-py311/lib/python3.11/site-packages (from umap-learn) (1.26.4)\n",
      "Requirement already satisfied: scipy>=1.3.1 in /Users/dave/micromamba/envs/dvcx-py311/lib/python3.11/site-packages (from umap-learn) (1.12.0)\n",
      "Requirement already satisfied: scikit-learn>=0.22 in /Users/dave/micromamba/envs/dvcx-py311/lib/python3.11/site-packages (from umap-learn) (1.4.2)\n",
      "Requirement already satisfied: numba>=0.51.2 in /Users/dave/micromamba/envs/dvcx-py311/lib/python3.11/site-packages (from umap-learn) (0.60.0)\n",
      "Requirement already satisfied: pynndescent>=0.5 in /Users/dave/micromamba/envs/dvcx-py311/lib/python3.11/site-packages (from umap-learn) (0.5.13)\n",
      "Requirement already satisfied: tqdm in /Users/dave/micromamba/envs/dvcx-py311/lib/python3.11/site-packages (from umap-learn) (4.66.2)\n",
      "Requirement already satisfied: llvmlite<0.44,>=0.43.0dev0 in /Users/dave/micromamba/envs/dvcx-py311/lib/python3.11/site-packages (from numba>=0.51.2->umap-learn) (0.43.0)\n",
      "Requirement already satisfied: joblib>=0.11 in /Users/dave/micromamba/envs/dvcx-py311/lib/python3.11/site-packages (from pynndescent>=0.5->umap-learn) (1.4.2)\n",
      "Requirement already satisfied: threadpoolctl>=2.0.0 in /Users/dave/micromamba/envs/dvcx-py311/lib/python3.11/site-packages (from scikit-learn>=0.22->umap-learn) (3.5.0)\n"
     ]
    }
   ],
   "source": [
    "!pip install umap-learn"
   ]
  },
  {
   "cell_type": "code",
   "execution_count": 31,
   "id": "74ae0cb5-1fd0-4a84-8ccf-6aee411769a2",
   "metadata": {},
   "outputs": [],
   "source": [
    "import matplotlib.pyplot as plt\n",
    "import os\n",
    "import random\n",
    "\n",
    "from matplotlib.offsetbox import AnnotationBbox, OffsetImage\n",
    "from PIL import Image\n",
    "from umap import UMAP"
   ]
  },
  {
   "cell_type": "markdown",
   "id": "63b66761-b696-46bd-bf0e-694291e8406e",
   "metadata": {},
   "source": [
    "## Select groups to remove redundant images "
   ]
  },
  {
   "cell_type": "code",
   "execution_count": 32,
   "id": "00874c0b-880e-4144-80f2-71f76e47c1e1",
   "metadata": {
    "scrolled": true
   },
   "outputs": [
    {
     "data": {
      "text/html": [
       "<div>\n",
       "<style scoped>\n",
       "    .dataframe tbody tr th:only-of-type {\n",
       "        vertical-align: middle;\n",
       "    }\n",
       "\n",
       "    .dataframe tbody tr th {\n",
       "        vertical-align: top;\n",
       "    }\n",
       "\n",
       "    .dataframe thead th {\n",
       "        text-align: right;\n",
       "    }\n",
       "</style>\n",
       "<table border=\"1\" class=\"dataframe\">\n",
       "  <thead>\n",
       "    <tr style=\"text-align: right;\">\n",
       "      <th></th>\n",
       "      <th>id</th>\n",
       "      <th>random</th>\n",
       "      <th>vtype</th>\n",
       "      <th>dir_type</th>\n",
       "      <th>parent</th>\n",
       "      <th>name</th>\n",
       "      <th>etag</th>\n",
       "      <th>version</th>\n",
       "      <th>is_latest</th>\n",
       "      <th>last_modified</th>\n",
       "      <th>...</th>\n",
       "      <th>subcategory</th>\n",
       "      <th>articletype</th>\n",
       "      <th>basecolour</th>\n",
       "      <th>season</th>\n",
       "      <th>year</th>\n",
       "      <th>usage</th>\n",
       "      <th>productdisplayname</th>\n",
       "      <th>filename</th>\n",
       "      <th>split</th>\n",
       "      <th>embeddings</th>\n",
       "    </tr>\n",
       "  </thead>\n",
       "  <tbody>\n",
       "    <tr>\n",
       "      <th>0</th>\n",
       "      <td>1</td>\n",
       "      <td>674154948235391147</td>\n",
       "      <td></td>\n",
       "      <td>0</td>\n",
       "      <td>fashion-product-images/images</td>\n",
       "      <td>10004.jpg</td>\n",
       "      <td>CMDWmrbe+4YDEAE=</td>\n",
       "      <td>1719489733765952</td>\n",
       "      <td>1</td>\n",
       "      <td>2024-06-27 12:02:13.818000+00:00</td>\n",
       "      <td>...</td>\n",
       "      <td>Topwear</td>\n",
       "      <td>Kurtas</td>\n",
       "      <td>Multi</td>\n",
       "      <td>Summer</td>\n",
       "      <td>2012.0</td>\n",
       "      <td>Ethnic</td>\n",
       "      <td>Diva Women Multi Coloured Kurta</td>\n",
       "      <td>10004.jpg</td>\n",
       "      <td>test</td>\n",
       "      <td>[2.544675588607788, -0.2560328245162964, -1.24...</td>\n",
       "    </tr>\n",
       "    <tr>\n",
       "      <th>1</th>\n",
       "      <td>2</td>\n",
       "      <td>7462653178002127233</td>\n",
       "      <td></td>\n",
       "      <td>0</td>\n",
       "      <td>fashion-product-images/images</td>\n",
       "      <td>10052.jpg</td>\n",
       "      <td>CO/x4rrd+4YDEAE=</td>\n",
       "      <td>1719489474902255</td>\n",
       "      <td>1</td>\n",
       "      <td>2024-06-27 11:57:54.950000+00:00</td>\n",
       "      <td>...</td>\n",
       "      <td>Topwear</td>\n",
       "      <td>Shirts</td>\n",
       "      <td>Blue</td>\n",
       "      <td>Summer</td>\n",
       "      <td>2012.0</td>\n",
       "      <td>Casual</td>\n",
       "      <td>French Connection Men Blue Shirt</td>\n",
       "      <td>10052.jpg</td>\n",
       "      <td>test</td>\n",
       "      <td>[1.3957180976867676, 0.7307451367378235, -1.31...</td>\n",
       "    </tr>\n",
       "    <tr>\n",
       "      <th>2</th>\n",
       "      <td>3</td>\n",
       "      <td>4045490087870213893</td>\n",
       "      <td></td>\n",
       "      <td>0</td>\n",
       "      <td>fashion-product-images/images</td>\n",
       "      <td>10054.jpg</td>\n",
       "      <td>CMT7t6Dd+4YDEAE=</td>\n",
       "      <td>1719489419673028</td>\n",
       "      <td>1</td>\n",
       "      <td>2024-06-27 11:56:59.711000+00:00</td>\n",
       "      <td>...</td>\n",
       "      <td>Topwear</td>\n",
       "      <td>Tops</td>\n",
       "      <td>Pink</td>\n",
       "      <td>Summer</td>\n",
       "      <td>2012.0</td>\n",
       "      <td>Casual</td>\n",
       "      <td>Hannah Montana Girls Pink Top</td>\n",
       "      <td>10054.jpg</td>\n",
       "      <td>test</td>\n",
       "      <td>[0.028559938073158264, -0.6460703611373901, -2...</td>\n",
       "    </tr>\n",
       "  </tbody>\n",
       "</table>\n",
       "</div>"
      ],
      "text/plain": [
       "   id               random vtype  dir_type                         parent  \\\n",
       "0   1   674154948235391147               0  fashion-product-images/images   \n",
       "1   2  7462653178002127233               0  fashion-product-images/images   \n",
       "2   3  4045490087870213893               0  fashion-product-images/images   \n",
       "\n",
       "        name              etag           version  is_latest  \\\n",
       "0  10004.jpg  CMDWmrbe+4YDEAE=  1719489733765952          1   \n",
       "1  10052.jpg  CO/x4rrd+4YDEAE=  1719489474902255          1   \n",
       "2  10054.jpg  CMT7t6Dd+4YDEAE=  1719489419673028          1   \n",
       "\n",
       "                     last_modified  ...  subcategory articletype basecolour  \\\n",
       "0 2024-06-27 12:02:13.818000+00:00  ...      Topwear      Kurtas      Multi   \n",
       "1 2024-06-27 11:57:54.950000+00:00  ...      Topwear      Shirts       Blue   \n",
       "2 2024-06-27 11:56:59.711000+00:00  ...      Topwear        Tops       Pink   \n",
       "\n",
       "   season    year   usage                productdisplayname   filename  split  \\\n",
       "0  Summer  2012.0  Ethnic   Diva Women Multi Coloured Kurta  10004.jpg   test   \n",
       "1  Summer  2012.0  Casual  French Connection Men Blue Shirt  10052.jpg   test   \n",
       "2  Summer  2012.0  Casual     Hannah Montana Girls Pink Top  10054.jpg   test   \n",
       "\n",
       "                                          embeddings  \n",
       "0  [2.544675588607788, -0.2560328245162964, -1.24...  \n",
       "1  [1.3957180976867676, 0.7307451367378235, -1.31...  \n",
       "2  [0.028559938073158264, -0.6460703611373901, -2...  "
      ]
     },
     "metadata": {},
     "output_type": "display_data"
    },
    {
     "name": "stdout",
     "output_type": "stream",
     "text": [
      "[limited by 3 objects]\n"
     ]
    }
   ],
   "source": [
    "# Select GROUPS to remove redundant images\n",
    "\n",
    "ds_source = DataChain.from_dataset(\"fashion-embeddings\")\n",
    "ds_source.show(3)"
   ]
  },
  {
   "cell_type": "code",
   "execution_count": 33,
   "id": "14c8f342-1563-43ac-b7f8-be1a14c34c42",
   "metadata": {},
   "outputs": [
    {
     "data": {
      "text/plain": [
       "articletype\n",
       "Tshirts    1021\n",
       "Shirts      479\n",
       "Tops        268\n",
       "Kurtas      260\n",
       "Name: count, dtype: int64"
      ]
     },
     "execution_count": 33,
     "metadata": {},
     "output_type": "execute_result"
    }
   ],
   "source": [
    "# Select groups with large number of images (>100)\n",
    "\n",
    "df = ds_source.to_pandas()\n",
    "grouped = df.groupby(\"articletype\").filter(lambda x: len(x) > 100)\n",
    "grouped.articletype.value_counts()"
   ]
  },
  {
   "cell_type": "code",
   "execution_count": 34,
   "id": "74977f0e-9cd2-4367-aa6f-a9cdb8f66f3d",
   "metadata": {},
   "outputs": [
    {
     "data": {
      "text/plain": [
       "['Kurtas', 'Shirts', 'Tops', 'Tshirts']"
      ]
     },
     "execution_count": 34,
     "metadata": {},
     "output_type": "execute_result"
    }
   ],
   "source": [
    "# Get the list of  groups to remove redundant images\n",
    "\n",
    "GROUPS = grouped[\"articletype\"].unique().tolist()\n",
    "GROUPS"
   ]
  },
  {
   "cell_type": "markdown",
   "id": "392c4f24-d661-437b-9821-95cae3232de9",
   "metadata": {},
   "source": [
    "## Set the parameters for selecting diverse images"
   ]
  },
  {
   "cell_type": "code",
   "execution_count": 35,
   "id": "d9eb58ce-8623-4285-beba-9404bbe25e10",
   "metadata": {},
   "outputs": [],
   "source": [
    "num_clusters = 6                 # Expected number of clusters\n",
    "top_d = 30                       # Number of images from each cluster\n",
    "tot_num = num_clusters * top_d   # Expected max number for diverse images"
   ]
  },
  {
   "cell_type": "markdown",
   "id": "ee01adb0-a8c6-4d1b-bfa6-4abcbdf9c2ce",
   "metadata": {},
   "source": [
    "## Select `top_d` diverse images for each value in `UPC`"
   ]
  },
  {
   "cell_type": "code",
   "execution_count": 36,
   "id": "777a8e0e-ba13-4de9-beab-4fb1e0d63096",
   "metadata": {
    "scrolled": true
   },
   "outputs": [
    {
     "name": "stdout",
     "output_type": "stream",
     "text": [
      "Kurtas\n",
      "Indices of the most diverse elements: [221, 73, 77, 232, 59, 211, 143, 148, 247, 147, 76, 238, 67, 146, 6, 120, 142, 89, 236, 134, 228, 80, 24, 219, 39, 7, 82, 3, 30, 160, 133, 243, 257, 53, 109, 126, 29, 121, 1, 176, 231, 110, 188, 65, 204, 234, 155, 179, 252, 141, 208, 81, 182, 175, 197, 159, 241, 222, 105, 206, 223, 191, 2, 170, 45, 240, 27, 93, 192, 92, 151, 64, 128, 200, 140, 185, 184, 137, 100, 186, 215, 162, 98, 248, 10, 189, 163, 213, 74, 108, 75, 123, 87, 166, 180, 101, 167, 187, 214, 114, 171, 115, 250, 201, 61, 220, 47, 50, 158, 150, 135, 35, 202, 229, 153, 212, 113, 55, 26, 66, 72, 157, 20, 173, 112, 4, 8, 165, 235, 12, 16, 48, 195, 91, 9, 84, 5, 38, 130, 116, 83, 161, 90, 63, 11, 258, 99]\n",
      "Shirts\n",
      "Indices of the most diverse elements: [44, 344, 243, 412, 223, 74, 370, 414, 101, 174, 156, 314, 339, 272, 342, 368, 55, 181, 323, 157, 132, 141, 160, 260, 110, 400, 158, 51, 197, 459, 222, 56, 338, 188, 35, 369, 148, 340, 191, 407, 289, 337, 105, 269, 217, 67, 100, 152, 245, 379, 264, 121, 447, 18, 32, 103, 438, 465, 252, 11, 366, 94, 206, 353, 341, 362, 213, 286, 360, 7, 207, 81, 253, 242, 112, 404, 333, 171, 308, 270, 184, 3, 463, 440, 126, 352, 349, 361, 130, 346, 265, 292, 395, 431, 386, 408, 284, 104, 304, 320, 403, 39, 288, 185, 363, 419, 432, 356, 15, 378, 256, 166, 393, 199, 57, 164, 183, 16, 240, 255, 354, 401, 473, 331, 249, 193, 137, 234, 151, 233, 332, 178, 422, 76, 75, 6, 179, 28, 232, 229, 231, 68, 176, 374, 402, 258, 224, 315, 173, 84, 70, 430, 228, 129, 319, 420, 189, 128, 469, 429, 299, 98, 357, 263, 425, 60, 297, 142, 36, 34, 150, 411, 448, 250, 467]\n",
      "Tops\n",
      "Indices of the most diverse elements: [175, 223, 216, 181, 222, 147, 5, 87, 197, 245, 134, 61, 148, 49, 192, 83, 102, 205, 125, 231, 261, 170, 101, 191, 249, 183, 120, 123, 177, 44, 2, 1, 266, 130, 232, 63, 179, 262, 140, 169, 131, 32, 24, 55, 133, 161, 106, 136, 20, 159, 160, 13, 158, 157, 215, 38, 26, 246, 77, 67, 151, 110, 66, 96, 21, 100, 88, 14, 124, 95, 162, 193, 68, 117, 165, 200, 240, 25, 59, 62, 81, 256, 19, 194, 252, 227, 156, 233, 221, 113, 244, 98, 203, 132, 73, 190, 92, 45, 70, 186, 30, 220, 142, 166, 91, 16, 23, 121, 241, 141, 15, 267, 22, 12, 109, 60, 212, 265, 105, 118, 9, 56, 234, 204, 17, 74, 239, 85, 180, 11, 250, 144, 238, 78, 108, 155, 104, 206, 184, 58, 255, 103, 137, 210, 116, 107, 69, 196, 185, 254, 178, 50, 164, 75, 146, 51, 189, 6, 76, 251, 237, 138, 188, 213]\n",
      "Tshirts\n",
      "Indices of the most diverse elements: [893, 1014, 827, 108, 269, 901, 86, 475, 300, 535, 69, 1011, 406, 52, 413, 572, 217, 58, 449, 27, 529, 859, 445, 558, 965, 714, 296, 982, 980, 1006, 314, 488, 150, 139, 399, 958, 924, 803, 725, 625, 768, 925, 906, 704, 585, 1013, 79, 739, 50, 994, 842, 795, 770, 189, 1016, 148, 339, 781, 2, 701, 390, 687, 221, 452, 451, 462, 161, 380, 410, 173, 800, 959, 137, 470, 578, 177, 650, 477, 626, 457, 666, 826, 11, 166, 619, 160, 144, 402, 460, 212, 758, 807, 946, 510, 974, 967, 147, 549, 850, 22, 194, 288, 135, 248, 253, 493, 200, 653, 735, 771, 676, 127, 567, 671, 125, 129, 640, 1018, 265, 142, 526, 295, 509, 237, 102, 259, 321, 927, 996, 615, 472, 351, 381, 565, 947, 360, 525, 712, 522, 568, 814, 117, 15, 103, 235, 861, 403, 566, 43, 741, 182, 353, 337, 747, 1, 336, 675, 33, 34, 755, 548, 500, 688, 494, 179, 37, 180, 485, 530, 846, 962, 746, 592, 12, 178, 593, 664, 591, 963, 674]\n"
     ]
    }
   ],
   "source": [
    "# Select top_d diverse images for each DUP group\n",
    "\n",
    "diversed_ids = []                # IDs in DataChain dataset\n",
    "\n",
    "for IMAGE_GROUP in GROUPS:\n",
    "    print(IMAGE_GROUP)\n",
    "\n",
    "    # Load Dataset\n",
    "    ds_dup = (\n",
    "        ds_source\n",
    "        .filter(C(\"articleType\") == IMAGE_GROUP)\n",
    "    )\n",
    "\n",
    "    # Get embeddings\n",
    "    emb_all = ds_dup.select(\"embeddings\").results() # -> list(tuple)\n",
    "\n",
    "    # Select diverse images\n",
    "    diverse_elements_indices = select_diverse_elements(emb_all, num_clusters, top_d)\n",
    "    diversed_ids.extend(diverse_elements_indices)\n",
    "    print(\"Indices of the most diverse elements:\", diverse_elements_indices)\n"
   ]
  },
  {
   "cell_type": "markdown",
   "id": "7d7d4ca7-7c4c-4d77-a5e0-d070bbd84538",
   "metadata": {},
   "source": [
    "## Create a new dataset with the selected diverse images\n",
    "\n",
    "- The `fashion-embeddings` dataset is filtered to include only the selected diverse images\n",
    "- The resulting dataset is saved as `fashion-curated`"
   ]
  },
  {
   "cell_type": "code",
   "execution_count": 37,
   "id": "eefb85b5-9692-4af0-8b3c-f1b90e356527",
   "metadata": {},
   "outputs": [
    {
     "data": {
      "text/plain": [
       "<datachain.lib.dc.DataChain at 0x33ae13ed0>"
      ]
     },
     "execution_count": 37,
     "metadata": {},
     "output_type": "execute_result"
    }
   ],
   "source": [
    "# Select diverse items\n",
    "\n",
    "(\n",
    "    ds_source\n",
    "    .filter(C(\"id\").in_(diversed_ids))\n",
    "    .save(\"fashion-curated\")\n",
    ")"
   ]
  },
  {
   "cell_type": "code",
   "execution_count": 38,
   "id": "a7792ea4-c1bf-493f-9e0b-4592350f4a8a",
   "metadata": {},
   "outputs": [
    {
     "name": "stdout",
     "output_type": "stream",
     "text": [
      "(2229, 51)\n",
      "(439, 51)\n"
     ]
    }
   ],
   "source": [
    "print(DataChain.from_dataset(\"fashion-embeddings\").to_pandas().shape)\n",
    "print(DataChain.from_dataset(\"fashion-curated\").to_pandas().shape)"
   ]
  },
  {
   "cell_type": "markdown",
   "id": "b87ae7cc-2efc-461a-a6c4-0d722c6a2322",
   "metadata": {},
   "source": [
    "## Visualize Clusters\n",
    "\n",
    "This section demonstrates how to visualize image clusters using UMAP (Uniform Manifold Approximation and Projection) and matplotlib. \n",
    "Let's break it down:\n",
    "- 🔍 UMAP reduces high-dimensional embeddings to 2D for visualization.\n",
    "- 🎭 Random sampling (k_samples) ensures a diverse representation of images.\n",
    "- 🖼️ Image thumbnails are added to each point in the scatter plot.\n",
    "- 🎨 The plot uses a colorbar to differentiate clusters."
   ]
  },
  {
   "cell_type": "code",
   "execution_count": 39,
   "id": "56e9a51e-cfe6-40f3-9be5-668ca46c66d3",
   "metadata": {
    "scrolled": true
   },
   "outputs": [],
   "source": [
    "# Extract image paths and embeddings from the \"fashion-curated\" dataset\n",
    "\n",
    "image_paths = []\n",
    "image_embeddings = []\n",
    "\n",
    "for row in (\n",
    "    DataChain.from_dataset(\"fashion-curated\")\n",
    "    .select(\"source\", \"parent\", \"name\", \"embeddings\")\n",
    "    .iterate()\n",
    "):\n",
    "    image_paths.append(os.path.join(row[0], row[1], row[2]))\n",
    "    image_embeddings.append(row[3])\n"
   ]
  },
  {
   "cell_type": "code",
   "execution_count": 40,
   "id": "8679d878-a80a-43f4-b74a-98f8a8078f63",
   "metadata": {},
   "outputs": [],
   "source": [
    "def reduce_dimensions_umap(features, n_neighbors=15, n_components=2, metric=\"euclidean\"):\n",
    "    # This function uses UMAP to reduce the high-dimensional embeddings to 2D for visualization\n",
    "    reducer = UMAP(n_neighbors, n_components, metric)\n",
    "    embedding = reducer.fit_transform(features)\n",
    "    return embedding\n",
    "\n",
    "def plot_embeddings(ds: DataChain, embeddings: list, image_paths: list, k_samples=30):\n",
    "    # This function creates a scatter plot of the reduced embeddings and adds image thumbnails at each point.\n",
    "\n",
    "    # Ensure n_display does not exceed the number of image paths\n",
    "    k_samples = min(k_samples, len(image_paths))\n",
    "\n",
    "    # Generate random indexes\n",
    "    indexes = np.random.choice(len(image_paths), k_samples, replace=False)\n",
    "    selected_images = [image_paths[i] for i in indexes]\n",
    "    selected_embs = [embeddings[i] for i in indexes]\n",
    "    filenames = [os.path.basename(img_path) for img_path in selected_images]\n",
    "\n",
    "    # Extract (X,Y) values\n",
    "    x_values = [emb[0] for emb in selected_embs]\n",
    "    y_values = [emb[1] for emb in selected_embs]\n",
    "\n",
    "    # Configure the plot\n",
    "    plt.figure(figsize=(16, 8))\n",
    "    plt.scatter(x_values, y_values, s=5)\n",
    "    plt.gca().set_aspect(\"equal\", \"datalim\")\n",
    "    plt.colorbar(boundaries=np.arange(11)-0.5).set_ticks(np.arange(10))\n",
    "    plt.title(\"UMAP projection of the Image Dataset\", fontsize=24)\n",
    "    ax = plt.gca()\n",
    "\n",
    "    # Add image thumbnails at the points  \n",
    "    for i, name in enumerate(filenames):\n",
    "\n",
    "        # Extract image from DataChain\n",
    "        sample = ds.filter(C(\"name\") == name).save()\n",
    "        img = next(sample.iterate_one(\"file\")).get_value()\n",
    "\n",
    "        # Attach thumbnail to the point\n",
    "        img.thumbnail((50, 50), Image.Resampling.LANCZOS)  # Updated line here\n",
    "        imagebox = OffsetImage(img, zoom=0.5)\n",
    "        ab = AnnotationBbox(imagebox, (x_values[i], y_values[i]), frameon=False)\n",
    "        ax.add_artist(ab)\n",
    "\n",
    "    plt.show()\n",
    "\n"
   ]
  },
  {
   "cell_type": "code",
   "execution_count": 41,
   "id": "46ae853a-41c4-47a6-a256-a30c2fc783f6",
   "metadata": {
    "scrolled": true
   },
   "outputs": [
    {
     "data": {
      "text/plain": [
       "array([[8.71247  , 7.308159 ],\n",
       "       [9.54952  , 6.4284997],\n",
       "       [8.3555565, 8.240379 ]], dtype=float32)"
      ]
     },
     "execution_count": 41,
     "metadata": {},
     "output_type": "execute_result"
    }
   ],
   "source": [
    "# Apply UMAP to reduce embeddings dimensions \n",
    "\n",
    "umap_v = reduce_dimensions_umap(\n",
    "    image_embeddings,\n",
    "    n_neighbors=15,\n",
    "    n_components=2,\n",
    "    metric=\"euclidean\",\n",
    ")\n",
    "\n",
    "umap_v[:3]"
   ]
  },
  {
   "cell_type": "code",
   "execution_count": 42,
   "id": "14966fe5-ff81-4458-8aee-73f6d265ce60",
   "metadata": {},
   "outputs": [
    {
     "data": {
      "image/png": "[encoded data removed]",
      "text/plain": [
       "<Figure size 1600x800 with 2 Axes>"
      ]
     },
     "metadata": {},
     "output_type": "display_data"
    }
   ],
   "source": [
    "# Plot embeddings projection with image thumbnails\n",
    "\n",
    "plot_embeddings(\n",
    "    DataChain.from_dataset(\"fashion-curated\"), \n",
    "    umap_v, \n",
    "    image_paths,  \n",
    "    k_samples=100)"
   ]
  },
  {
   "cell_type": "markdown",
   "id": "3228a4e8-cd03-4e1b-98b5-94caaa87850e",
   "metadata": {},
   "source": [
    "# ☁️ Run in Studio (SaaS)\n",
    "\n",
    "<a href=\"https://dvc.ai/\">\n",
    "    <img src=\"static/images/studio.png\" alt=\"DataChain Studio SaaS\" style=\"width: 600px;\"/>\n",
    "</a>"
   ]
  },
  {
   "cell_type": "markdown",
   "id": "409740b0-1104-479f-b28b-06644cc5ffd0",
   "metadata": {},
   "source": [
    "To run these examples in Studio, follow the guide\n",
    "\n",
    "1. Open Studio / YOUR_TEAM / `datasets` workspace\n",
    "2. Create a new Python Script\n",
    "3. Copy/past a script from (split into few smaller scripts for convenience only)\n",
    "   - `scripts/2-basic-operations.py`\n",
    "   - `scripts/2-embeddings.py`\n",
    "   - `scripts/2-similarity-search.py`\n",
    "   - `scripts/2-remove-redundant-images.py`\n",
    "5. Click the Run button\n"
   ]
  },
  {
   "cell_type": "markdown",
   "id": "0e4c4c97-e1c4-4d34-af2b-c563305eb678",
   "metadata": {
    "execution": {
     "iopub.execute_input": "2024-06-14T15:49:22.107073Z",
     "iopub.status.busy": "2024-06-14T15:49:22.106747Z",
     "iopub.status.idle": "2024-06-14T15:49:22.175240Z",
     "shell.execute_reply": "2024-06-14T15:49:22.174751Z",
     "shell.execute_reply.started": "2024-06-14T15:49:22.107050Z"
    }
   },
   "source": [
    "# 🎉 Summary \n",
    "\n",
    "**🌟 Congratulations! You've Mastered Advanced Image DataChain Techniques! 🌟**\n",
    "\n",
    "In this tutorial, you've gained a wealth of knowledge and skills that will elevate your computer vision projects to new heights. Let's recap the key topics covered:\n",
    "\n",
    "🔍 **Basic Operations:** Connecting to image catalogs, filtering, sorting, annotating, and versioning datasets.\n",
    "\n",
    "🧩 **Splitting Datasets:** Dividing datasets into train, test, and validation subsets using the `train_test_split` UDF.\n",
    "\n",
    "🎨 **Generating & Managing Embeddings:** Calculating and saving image embeddings for advanced analysis.\n",
    "\n",
    "🔍 **Similarity Search:** Finding visually similar images and visualizing similarity distances.\n",
    "\n",
    "🧹 **Minimizing Redundant Images:** Identifying and removing redundant images for dataset optimization.\n",
    "\n",
    "🔍 **Visualizing Clusters:** Gaining insights into dataset structure through cluster visualization.\n",
    "\n",
    "## What's Next?\n",
    "\n",
    "Keep exploring, experimenting, and pushing the boundaries of what's possible in computer vision.  Check out the next parts of our tutorial series:\n",
    "- 🧠 Training Models\n",
    "- 🔮 Running Inference and Saving Predictions\n",
    "- 📊 Analyzing Predictions\n",
    "\n",
    "By mastering these techniques, you'll be well on your way to building powerful and efficient computer vision pipelines with DataChain.\n",
    "\n",
    "## Get Involved\n",
    "\n",
    "We'd love to have you join our growing community of DataChain users and contributors! Here's how you can get involved:\n",
    "- ⭐ Give us a star on [GitHub](https://github.com/iterative/dvcx) to show your support\n",
    "- 🌐 Visit the [dvc.ai website](https://dvc.ai/) to learn more about our products and services\n",
    "- 📞 Contact us to discuss how DataChain can help streamline your company's ML workflows\n",
    "- 🙌 Follow us on social media for the latest updates and insights\n",
    "\n",
    "Thanks for choosing DataChain, and happy coding! 😄"
   ]
  }
 ],
 "metadata": {
  "kernelspec": {
   "display_name": "Python 3 (ipykernel)",
   "language": "python",
   "name": "python3"
  },
  "language_info": {
   "codemirror_mode": {
    "name": "ipython",
    "version": 3
   },
   "file_extension": ".py",
   "mimetype": "text/x-python",
   "name": "python",
   "nbconvert_exporter": "python",
   "pygments_lexer": "ipython3",
   "version": "3.11.0"
  }
 },
 "nbformat": 4,
 "nbformat_minor": 5
}
