{
 "cells": [
  {
   "cell_type": "markdown",
   "id": "c565c64c-c915-4911-a397-39f84765bae5",
   "metadata": {},
   "source": [
    "# Fine tuning CLIP for image captions\n",
    "\n",
    "This notebook will show how to use DataChain for multimodal AI, including how to:\n",
    "- [Ingest multimodal data like images and text.](#ingesting)\n",
    "- [Join those data into a coherent dataset.](#joining)\n",
    "- [Filter and inspect the data.](#filtering)\n",
    "- [Calculate similarities between images and text.](#similarities)\n",
    "- [Save the chain results as a dataset](#saving)\n",
    "- [Apply/map functions to transform the data and chain transformations.](#mapping)\n",
    "- [Train models from the chained data.](#training)\n",
    "- [Perform inference and calculate evaluation metrics.](#eval)"
   ]
  },
  {
   "cell_type": "markdown",
   "id": "4de8b887-760e-4a20-995b-f84f2aa4699e",
   "metadata": {},
   "source": [
    "<a id='setup'></a>\n",
    "\n",
    "## Setup\n",
    "\n",
    "To start, install the dependencies and import the packages needed."
   ]
  },
  {
   "cell_type": "code",
   "execution_count": 1,
   "id": "d3cbfcbe-4a9c-4c9f-93f6-cd3c6e899c26",
   "metadata": {},
   "outputs": [],
   "source": [
    "!pip install -q ipywidgets datachain git+https://github.com/openai/CLIP.git"
   ]
  },
  {
   "cell_type": "code",
   "execution_count": 2,
   "id": "d75242f5-7514-4ce0-b6ad-4b2defefd73d",
   "metadata": {},
   "outputs": [],
   "source": [
    "import io\n",
    "import os\n",
    "import string\n",
    "\n",
    "import clip\n",
    "import torch\n",
    "from datachain.torch import clip_similarity_scores\n",
    "from datachain import C, DataChain\n",
    "from torch.utils.data import DataLoader"
   ]
  },
  {
   "cell_type": "markdown",
   "id": "e1edc95a-a155-440b-82ab-2a0bb116f39d",
   "metadata": {},
   "source": [
    "<a id='ingesting'></a>\n",
    "\n",
    "## Get data and create DataChain\n",
    "\n",
    "We will use a dataset from https://www.capcon.dev/, which is based on the New Yorker Cartoon Caption Contest. We use the \"matching\" dataset, which pairs a cartoon image with several possible jokes as caption choices. By the end of this notebook, we will try to predict the correct joke that matches the cartoon from each set of multiple choices.\n",
    "\n",
    "To start, we have two data sources in `gs://datachain-demo/newyorker_caption_contest`:\n",
    "1. `images`: A folder of JPEG files, each representing a cartoon image.\n",
    "2. `new_yorker_meta.parquet`: A parquet file with metadata about the images, including multiple choices of captions for the image and the correct caption choice."
   ]
  },
  {
   "cell_type": "markdown",
   "id": "6b59ee66-79af-4a12-9552-1822e704c24f",
   "metadata": {},
   "source": [
    "We can create a DataChain from each of the two data sources.\n",
    "1. DataChain can create a single dataset from many files in a storage bucket, folder, or other path. DataChain will generate one record per file, with each record including a `file` signal that saves metadata needed to read the file. In that way, DataChain keeps a link to the original storage without having to copy the files or load all file contents in memory.\n",
    "2. DataChain can also create a dataset from other traditional data sources like parquet files without copying those files or loading them entirely in memory. This provides an efficient way to connect data from a variety of sources.\n",
    "\n",
    "<details>\n",
    "<summary>Note about the dataset format</summary>\n",
    "We have slightly modified the dataset from its original form in Hugging Face. The original dataset keeps the entire contents of each image embedded as a column in parquet files. That will not scale easily to large datasets, which is why DataChain keeps the image files in their original locations and reads from them as needed. We have dropped the image contents from the parquet files and only kept the metadata. The images are instead saved as regular JPEG files.\n",
    "</details>"
   ]
  },
  {
   "cell_type": "markdown",
   "id": "b329a883-c1d5-4552-9ee1-3e00833f0bee",
   "metadata": {},
   "source": [
    "### From storage\n",
    "\n",
    "To create a chain from a directory of files, use `DataChain.from_storage()` and point to the location of the directory. Use the `type` argument to specify a type like `binary`, `text`, or `image`, which will tell DataChain how to open these files later in the chain:"
   ]
  },
  {
   "cell_type": "code",
   "execution_count": 3,
   "id": "9d84cfe3-9aaf-4a0e-8449-89983b412ade",
   "metadata": {},
   "outputs": [],
   "source": [
    "img_dc = DataChain.from_storage(\"gs://datachain-demo/newyorker_caption_contest/images\", type=\"image\")"
   ]
  },
  {
   "cell_type": "markdown",
   "id": "a93e734b-a491-474a-9884-580adccb6d50",
   "metadata": {},
   "source": [
    "You may be wondering why you don't see any results. DataChain tries to compute the entire chain lazily, waiting until you explicitly ask for a result before executing. To preview the results, use `DataChain.show()`:"
   ]
  },
  {
   "cell_type": "code",
   "execution_count": 4,
   "id": "c40feba6-929a-4a0f-af8e-028c048a644c",
   "metadata": {},
   "outputs": [
    {
     "name": "stderr",
     "output_type": "stream",
     "text": [
      "Processed: 422 rows [00:00, 21777.33 rows/s]\n"
     ]
    },
    {
     "data": {
      "text/html": [
       "<div>\n",
       "<style scoped>\n",
       "    .dataframe tbody tr th:only-of-type {\n",
       "        vertical-align: middle;\n",
       "    }\n",
       "\n",
       "    .dataframe tbody tr th {\n",
       "        vertical-align: top;\n",
       "    }\n",
       "\n",
       "    .dataframe thead tr th {\n",
       "        text-align: left;\n",
       "    }\n",
       "</style>\n",
       "<table border=\"1\" class=\"dataframe\">\n",
       "  <thead>\n",
       "    <tr>\n",
       "      <th></th>\n",
       "      <th>file</th>\n",
       "      <th>file</th>\n",
       "      <th>file</th>\n",
       "      <th>file</th>\n",
       "      <th>file</th>\n",
       "      <th>file</th>\n",
       "      <th>file</th>\n",
       "      <th>file</th>\n",
       "      <th>file</th>\n",
       "      <th>file</th>\n",
       "    </tr>\n",
       "    <tr>\n",
       "      <th></th>\n",
       "      <th>source</th>\n",
       "      <th>parent</th>\n",
       "      <th>name</th>\n",
       "      <th>size</th>\n",
       "      <th>version</th>\n",
       "      <th>etag</th>\n",
       "      <th>is_latest</th>\n",
       "      <th>last_modified</th>\n",
       "      <th>location</th>\n",
       "      <th>vtype</th>\n",
       "    </tr>\n",
       "  </thead>\n",
       "  <tbody>\n",
       "    <tr>\n",
       "      <th>0</th>\n",
       "      <td>gs://datachain-demo</td>\n",
       "      <td>newyorker_caption_contest/images</td>\n",
       "      <td>101.jpeg</td>\n",
       "      <td>26023</td>\n",
       "      <td>1719848704083399</td>\n",
       "      <td>CMeLzNiXhocDEAE=</td>\n",
       "      <td>1</td>\n",
       "      <td>1970-01-01 00:00:00+00:00</td>\n",
       "      <td>None</td>\n",
       "      <td></td>\n",
       "    </tr>\n",
       "    <tr>\n",
       "      <th>1</th>\n",
       "      <td>gs://datachain-demo</td>\n",
       "      <td>newyorker_caption_contest/images</td>\n",
       "      <td>102.jpeg</td>\n",
       "      <td>10114</td>\n",
       "      <td>1719848704201349</td>\n",
       "      <td>CIWl09iXhocDEAE=</td>\n",
       "      <td>1</td>\n",
       "      <td>1970-01-01 00:00:00+00:00</td>\n",
       "      <td>None</td>\n",
       "      <td></td>\n",
       "    </tr>\n",
       "    <tr>\n",
       "      <th>2</th>\n",
       "      <td>gs://datachain-demo</td>\n",
       "      <td>newyorker_caption_contest/images</td>\n",
       "      <td>104.jpeg</td>\n",
       "      <td>18254</td>\n",
       "      <td>1719848704491291</td>\n",
       "      <td>CJv+5NiXhocDEAE=</td>\n",
       "      <td>1</td>\n",
       "      <td>1970-01-01 00:00:00+00:00</td>\n",
       "      <td>None</td>\n",
       "      <td></td>\n",
       "    </tr>\n",
       "  </tbody>\n",
       "</table>\n",
       "</div>"
      ],
      "text/plain": [
       "                  file                              file      file   file  \\\n",
       "                source                            parent      name   size   \n",
       "0  gs://datachain-demo  newyorker_caption_contest/images  101.jpeg  26023   \n",
       "1  gs://datachain-demo  newyorker_caption_contest/images  102.jpeg  10114   \n",
       "2  gs://datachain-demo  newyorker_caption_contest/images  104.jpeg  18254   \n",
       "\n",
       "               file              file      file                      file  \\\n",
       "            version              etag is_latest             last_modified   \n",
       "0  1719848704083399  CMeLzNiXhocDEAE=         1 1970-01-01 00:00:00+00:00   \n",
       "1  1719848704201349  CIWl09iXhocDEAE=         1 1970-01-01 00:00:00+00:00   \n",
       "2  1719848704491291  CJv+5NiXhocDEAE=         1 1970-01-01 00:00:00+00:00   \n",
       "\n",
       "      file  file  \n",
       "  location vtype  \n",
       "0     None        \n",
       "1     None        \n",
       "2     None        "
      ]
     },
     "metadata": {},
     "output_type": "display_data"
    },
    {
     "name": "stdout",
     "output_type": "stream",
     "text": [
      "\n",
      "[Limited by 3 rows]\n"
     ]
    }
   ],
   "source": [
    "img_dc.show(3)"
   ]
  },
  {
   "cell_type": "markdown",
   "id": "da18e23e-5626-4730-915b-519b18cb0cf4",
   "metadata": {},
   "source": [
    "DataChain created a record for each file in the directory, generating a `file` signal for each file. The file signal contains subsignals with metadata about each file, like `file.name` and `file.size`. You can define your own aggregate signals like this using Pydantic models, although this is outside the scope of this tutorial. You can also use the `file` signal to open and read the file as needed. We will come back to this later in the notebook."
   ]
  },
  {
   "cell_type": "markdown",
   "id": "1a487749-e492-4cdf-ae39-de729f7e1926",
   "metadata": {},
   "source": [
    "### From parquet\n",
    "\n",
    "Use `DataChain.from_parquet()` to load data from a dataset of any number of parquet files (you can also read the data into another library like pandas and use `DataChain.from_dataframe()`). Here we use it to load the metadata about the cartoons, including the text for all caption choices."
   ]
  },
  {
   "cell_type": "code",
   "execution_count": 5,
   "id": "1ae89eb2-153e-4a06-a24d-187d3baa8b21",
   "metadata": {},
   "outputs": [
    {
     "name": "stderr",
     "output_type": "stream",
     "text": [
      "Processed: 1 rows [00:00, 1503.87 rows/s]\n"
     ]
    }
   ],
   "source": [
    "meta_dc = DataChain.from_parquet(\"gs://datachain-demo/newyorker_caption_contest/new_yorker_meta.parquet\")"
   ]
  },
  {
   "cell_type": "markdown",
   "id": "86ba6dff-ff4b-4cbf-ba57-8cd19b342176",
   "metadata": {},
   "source": [
    "Let's preview the parquet data:"
   ]
  },
  {
   "cell_type": "code",
   "execution_count": 6,
   "id": "1cddbffb-77f2-4c76-96ce-d9ab8a9c3e20",
   "metadata": {},
   "outputs": [
    {
     "name": "stderr",
     "output_type": "stream",
     "text": [
      "Processed: 1 rows [00:00, 1458.38 rows/s]\n",
      "Processed: 0 rows [00:00, ? rows/s]\n",
      "Processed: 1 rows [00:00,  2.76 rows/s]\n",
      "Generated: 9792 rows [00:00, 27041.96 rows/s]\n"
     ]
    },
    {
     "data": {
      "text/html": [
       "<div>\n",
       "<style scoped>\n",
       "    .dataframe tbody tr th:only-of-type {\n",
       "        vertical-align: middle;\n",
       "    }\n",
       "\n",
       "    .dataframe tbody tr th {\n",
       "        vertical-align: top;\n",
       "    }\n",
       "\n",
       "    .dataframe thead tr th {\n",
       "        text-align: left;\n",
       "    }\n",
       "</style>\n",
       "<table border=\"1\" class=\"dataframe\">\n",
       "  <thead>\n",
       "    <tr>\n",
       "      <th></th>\n",
       "      <th>source</th>\n",
       "      <th>source</th>\n",
       "      <th>source</th>\n",
       "      <th>source</th>\n",
       "      <th>source</th>\n",
       "      <th>source</th>\n",
       "      <th>source</th>\n",
       "      <th>source</th>\n",
       "      <th>source</th>\n",
       "      <th>source</th>\n",
       "      <th>source</th>\n",
       "      <th>contest_number</th>\n",
       "      <th>image_location</th>\n",
       "      <th>image_description</th>\n",
       "      <th>image_uncanny_description</th>\n",
       "      <th>entities</th>\n",
       "      <th>questions</th>\n",
       "      <th>caption_choices</th>\n",
       "      <th>from_description</th>\n",
       "      <th>label</th>\n",
       "      <th>n_tokens_label</th>\n",
       "      <th>instance_id</th>\n",
       "      <th>filename</th>\n",
       "    </tr>\n",
       "    <tr>\n",
       "      <th></th>\n",
       "      <th>file</th>\n",
       "      <th>file</th>\n",
       "      <th>file</th>\n",
       "      <th>file</th>\n",
       "      <th>file</th>\n",
       "      <th>file</th>\n",
       "      <th>file</th>\n",
       "      <th>file</th>\n",
       "      <th>file</th>\n",
       "      <th>file</th>\n",
       "      <th>index</th>\n",
       "      <th></th>\n",
       "      <th></th>\n",
       "      <th></th>\n",
       "      <th></th>\n",
       "      <th></th>\n",
       "      <th></th>\n",
       "      <th></th>\n",
       "      <th></th>\n",
       "      <th></th>\n",
       "      <th></th>\n",
       "      <th></th>\n",
       "      <th></th>\n",
       "    </tr>\n",
       "    <tr>\n",
       "      <th></th>\n",
       "      <th>source</th>\n",
       "      <th>parent</th>\n",
       "      <th>name</th>\n",
       "      <th>size</th>\n",
       "      <th>version</th>\n",
       "      <th>etag</th>\n",
       "      <th>is_latest</th>\n",
       "      <th>last_modified</th>\n",
       "      <th>location</th>\n",
       "      <th>vtype</th>\n",
       "      <th></th>\n",
       "      <th></th>\n",
       "      <th></th>\n",
       "      <th></th>\n",
       "      <th></th>\n",
       "      <th></th>\n",
       "      <th></th>\n",
       "      <th></th>\n",
       "      <th></th>\n",
       "      <th></th>\n",
       "      <th></th>\n",
       "      <th></th>\n",
       "      <th></th>\n",
       "    </tr>\n",
       "  </thead>\n",
       "  <tbody>\n",
       "    <tr>\n",
       "      <th>0</th>\n",
       "      <td>gs://datachain-demo</td>\n",
       "      <td>newyorker_caption_contest</td>\n",
       "      <td>new_yorker_meta.parquet</td>\n",
       "      <td>3765680</td>\n",
       "      <td>1719847348473242</td>\n",
       "      <td>CJqbmNKShocDEAE=</td>\n",
       "      <td>1</td>\n",
       "      <td>1970-01-01 00:00:00+00:00</td>\n",
       "      <td>None</td>\n",
       "      <td></td>\n",
       "      <td>0</td>\n",
       "      <td>49</td>\n",
       "      <td>a bar</td>\n",
       "      <td>Two priests and a rabbi are walking into a bar...</td>\n",
       "      <td>The scene depicts a very stereotypical \"bar jo...</td>\n",
       "      <td>[https://en.wikipedia.org/wiki/Rule_of_three_(...</td>\n",
       "      <td>[What is the bartender saying on the phone in ...</td>\n",
       "      <td>[Tell me about your childhood very quickly., B...</td>\n",
       "      <td>scene: a bar description: Two priests and a ra...</td>\n",
       "      <td>C</td>\n",
       "      <td>1</td>\n",
       "      <td>21125bb8787b4e7e82aa3b0a1cba1571</td>\n",
       "      <td>49.jpeg</td>\n",
       "    </tr>\n",
       "    <tr>\n",
       "      <th>1</th>\n",
       "      <td>gs://datachain-demo</td>\n",
       "      <td>newyorker_caption_contest</td>\n",
       "      <td>new_yorker_meta.parquet</td>\n",
       "      <td>3765680</td>\n",
       "      <td>1719847348473242</td>\n",
       "      <td>CJqbmNKShocDEAE=</td>\n",
       "      <td>1</td>\n",
       "      <td>1970-01-01 00:00:00+00:00</td>\n",
       "      <td>None</td>\n",
       "      <td></td>\n",
       "      <td>1</td>\n",
       "      <td>393</td>\n",
       "      <td>clouds</td>\n",
       "      <td>Two men are standing on clouds, one is dressed...</td>\n",
       "      <td>Seeing two men standing on clouds and holding/...</td>\n",
       "      <td>[https://en.wikipedia.org/wiki/God, https://en...</td>\n",
       "      <td>[Why are these men standing on clouds holding/...</td>\n",
       "      <td>[Business school changed you, Son., I'm a thro...</td>\n",
       "      <td>scene: clouds description: Two men are standin...</td>\n",
       "      <td>A</td>\n",
       "      <td>1</td>\n",
       "      <td>87056539d887b9b38cb33ee8101c2c99</td>\n",
       "      <td>393.jpeg</td>\n",
       "    </tr>\n",
       "    <tr>\n",
       "      <th>2</th>\n",
       "      <td>gs://datachain-demo</td>\n",
       "      <td>newyorker_caption_contest</td>\n",
       "      <td>new_yorker_meta.parquet</td>\n",
       "      <td>3765680</td>\n",
       "      <td>1719847348473242</td>\n",
       "      <td>CJqbmNKShocDEAE=</td>\n",
       "      <td>1</td>\n",
       "      <td>1970-01-01 00:00:00+00:00</td>\n",
       "      <td>None</td>\n",
       "      <td></td>\n",
       "      <td>2</td>\n",
       "      <td>703</td>\n",
       "      <td>restaurant</td>\n",
       "      <td>An alligator is coming out of the floor. Two p...</td>\n",
       "      <td>There is an alligator coming out of the floor.</td>\n",
       "      <td>[https://en.wikipedia.org/wiki/Alligator, http...</td>\n",
       "      <td>[Why is an alligator in a restaurant?]</td>\n",
       "      <td>[Where were you between the hours of beddy-bye...</td>\n",
       "      <td>scene: restaurant description: An alligator is...</td>\n",
       "      <td>D</td>\n",
       "      <td>1</td>\n",
       "      <td>3ef377604288fc61e83dd2341f1567de</td>\n",
       "      <td>703.jpeg</td>\n",
       "    </tr>\n",
       "  </tbody>\n",
       "</table>\n",
       "</div>"
      ],
      "text/plain": [
       "                source                     source                   source  \\\n",
       "                  file                       file                     file   \n",
       "                source                     parent                     name   \n",
       "0  gs://datachain-demo  newyorker_caption_contest  new_yorker_meta.parquet   \n",
       "1  gs://datachain-demo  newyorker_caption_contest  new_yorker_meta.parquet   \n",
       "2  gs://datachain-demo  newyorker_caption_contest  new_yorker_meta.parquet   \n",
       "\n",
       "    source            source            source    source  \\\n",
       "      file              file              file      file   \n",
       "      size           version              etag is_latest   \n",
       "0  3765680  1719847348473242  CJqbmNKShocDEAE=         1   \n",
       "1  3765680  1719847348473242  CJqbmNKShocDEAE=         1   \n",
       "2  3765680  1719847348473242  CJqbmNKShocDEAE=         1   \n",
       "\n",
       "                     source   source source source contest_number  \\\n",
       "                       file     file   file  index                  \n",
       "              last_modified location  vtype                         \n",
       "0 1970-01-01 00:00:00+00:00     None             0             49   \n",
       "1 1970-01-01 00:00:00+00:00     None             1            393   \n",
       "2 1970-01-01 00:00:00+00:00     None             2            703   \n",
       "\n",
       "  image_location                                  image_description  \\\n",
       "                                                                      \n",
       "                                                                      \n",
       "0          a bar  Two priests and a rabbi are walking into a bar...   \n",
       "1         clouds  Two men are standing on clouds, one is dressed...   \n",
       "2     restaurant  An alligator is coming out of the floor. Two p...   \n",
       "\n",
       "                           image_uncanny_description  \\\n",
       "                                                       \n",
       "                                                       \n",
       "0  The scene depicts a very stereotypical \"bar jo...   \n",
       "1  Seeing two men standing on clouds and holding/...   \n",
       "2     There is an alligator coming out of the floor.   \n",
       "\n",
       "                                            entities  \\\n",
       "                                                       \n",
       "                                                       \n",
       "0  [https://en.wikipedia.org/wiki/Rule_of_three_(...   \n",
       "1  [https://en.wikipedia.org/wiki/God, https://en...   \n",
       "2  [https://en.wikipedia.org/wiki/Alligator, http...   \n",
       "\n",
       "                                           questions  \\\n",
       "                                                       \n",
       "                                                       \n",
       "0  [What is the bartender saying on the phone in ...   \n",
       "1  [Why are these men standing on clouds holding/...   \n",
       "2             [Why is an alligator in a restaurant?]   \n",
       "\n",
       "                                     caption_choices  \\\n",
       "                                                       \n",
       "                                                       \n",
       "0  [Tell me about your childhood very quickly., B...   \n",
       "1  [Business school changed you, Son., I'm a thro...   \n",
       "2  [Where were you between the hours of beddy-bye...   \n",
       "\n",
       "                                    from_description label n_tokens_label  \\\n",
       "                                                                            \n",
       "                                                                            \n",
       "0  scene: a bar description: Two priests and a ra...     C              1   \n",
       "1  scene: clouds description: Two men are standin...     A              1   \n",
       "2  scene: restaurant description: An alligator is...     D              1   \n",
       "\n",
       "                        instance_id  filename  \n",
       "                                               \n",
       "                                               \n",
       "0  21125bb8787b4e7e82aa3b0a1cba1571   49.jpeg  \n",
       "1  87056539d887b9b38cb33ee8101c2c99  393.jpeg  \n",
       "2  3ef377604288fc61e83dd2341f1567de  703.jpeg  "
      ]
     },
     "metadata": {},
     "output_type": "display_data"
    },
    {
     "name": "stdout",
     "output_type": "stream",
     "text": [
      "\n",
      "[Limited by 3 rows]\n"
     ]
    }
   ],
   "source": [
    "meta_dc.show(3)"
   ]
  },
  {
   "cell_type": "markdown",
   "id": "0a21b5c8-6474-41b9-b4ef-1a462a6d39db",
   "metadata": {},
   "source": [
    "DataChain created a record for each row in the parquet dataset, including a `source` signal similar to the `file` signal above that stores information about the source parquet file, as well as signals for all of the columns in the parquet file.\n",
    "\n",
    "Since we are not interested in the `source` at the moment, we can select only the other columns to preview using `DataChain.select()` or `DataChain.select_except()`. For aggregate signals like `source`, you can select it either in the aggregate (like `source`) or any individual subsignal (like `source.index`)."
   ]
  },
  {
   "cell_type": "code",
   "execution_count": 7,
   "id": "217c1abe-637e-4f8d-a4e6-49cd8d1240df",
   "metadata": {},
   "outputs": [
    {
     "name": "stderr",
     "output_type": "stream",
     "text": [
      "Processed: 1 rows [00:00, 1499.57 rows/s]\n",
      "Processed: 0 rows [00:00, ? rows/s]\n",
      "Generated: 0 rows [00:00, ? rows/s]\u001b[A\n",
      "Processed: 1 rows [00:00,  2.31 rows/s]ows/s]\u001b[A\n",
      "Generated: 9792 rows [00:00, 22612.23 rows/s]\n"
     ]
    },
    {
     "data": {
      "text/html": [
       "<div>\n",
       "<style scoped>\n",
       "    .dataframe tbody tr th:only-of-type {\n",
       "        vertical-align: middle;\n",
       "    }\n",
       "\n",
       "    .dataframe tbody tr th {\n",
       "        vertical-align: top;\n",
       "    }\n",
       "\n",
       "    .dataframe thead th {\n",
       "        text-align: right;\n",
       "    }\n",
       "</style>\n",
       "<table border=\"1\" class=\"dataframe\">\n",
       "  <thead>\n",
       "    <tr style=\"text-align: right;\">\n",
       "      <th></th>\n",
       "      <th>contest_number</th>\n",
       "      <th>image_location</th>\n",
       "      <th>image_description</th>\n",
       "      <th>image_uncanny_description</th>\n",
       "      <th>entities</th>\n",
       "      <th>questions</th>\n",
       "      <th>caption_choices</th>\n",
       "      <th>from_description</th>\n",
       "      <th>label</th>\n",
       "      <th>n_tokens_label</th>\n",
       "      <th>instance_id</th>\n",
       "      <th>filename</th>\n",
       "    </tr>\n",
       "  </thead>\n",
       "  <tbody>\n",
       "    <tr>\n",
       "      <th>0</th>\n",
       "      <td>49</td>\n",
       "      <td>a bar</td>\n",
       "      <td>Two priests and a rabbi are walking into a bar...</td>\n",
       "      <td>The scene depicts a very stereotypical \"bar jo...</td>\n",
       "      <td>[https://en.wikipedia.org/wiki/Rule_of_three_(...</td>\n",
       "      <td>[What is the bartender saying on the phone in ...</td>\n",
       "      <td>[Tell me about your childhood very quickly., B...</td>\n",
       "      <td>scene: a bar description: Two priests and a ra...</td>\n",
       "      <td>C</td>\n",
       "      <td>1</td>\n",
       "      <td>21125bb8787b4e7e82aa3b0a1cba1571</td>\n",
       "      <td>49.jpeg</td>\n",
       "    </tr>\n",
       "    <tr>\n",
       "      <th>1</th>\n",
       "      <td>393</td>\n",
       "      <td>clouds</td>\n",
       "      <td>Two men are standing on clouds, one is dressed...</td>\n",
       "      <td>Seeing two men standing on clouds and holding/...</td>\n",
       "      <td>[https://en.wikipedia.org/wiki/God, https://en...</td>\n",
       "      <td>[Why are these men standing on clouds holding/...</td>\n",
       "      <td>[Business school changed you, Son., I'm a thro...</td>\n",
       "      <td>scene: clouds description: Two men are standin...</td>\n",
       "      <td>A</td>\n",
       "      <td>1</td>\n",
       "      <td>87056539d887b9b38cb33ee8101c2c99</td>\n",
       "      <td>393.jpeg</td>\n",
       "    </tr>\n",
       "    <tr>\n",
       "      <th>2</th>\n",
       "      <td>703</td>\n",
       "      <td>restaurant</td>\n",
       "      <td>An alligator is coming out of the floor. Two p...</td>\n",
       "      <td>There is an alligator coming out of the floor.</td>\n",
       "      <td>[https://en.wikipedia.org/wiki/Alligator, http...</td>\n",
       "      <td>[Why is an alligator in a restaurant?]</td>\n",
       "      <td>[Where were you between the hours of beddy-bye...</td>\n",
       "      <td>scene: restaurant description: An alligator is...</td>\n",
       "      <td>D</td>\n",
       "      <td>1</td>\n",
       "      <td>3ef377604288fc61e83dd2341f1567de</td>\n",
       "      <td>703.jpeg</td>\n",
       "    </tr>\n",
       "  </tbody>\n",
       "</table>\n",
       "</div>"
      ],
      "text/plain": [
       "   contest_number image_location  \\\n",
       "0              49          a bar   \n",
       "1             393         clouds   \n",
       "2             703     restaurant   \n",
       "\n",
       "                                   image_description  \\\n",
       "0  Two priests and a rabbi are walking into a bar...   \n",
       "1  Two men are standing on clouds, one is dressed...   \n",
       "2  An alligator is coming out of the floor. Two p...   \n",
       "\n",
       "                           image_uncanny_description  \\\n",
       "0  The scene depicts a very stereotypical \"bar jo...   \n",
       "1  Seeing two men standing on clouds and holding/...   \n",
       "2     There is an alligator coming out of the floor.   \n",
       "\n",
       "                                            entities  \\\n",
       "0  [https://en.wikipedia.org/wiki/Rule_of_three_(...   \n",
       "1  [https://en.wikipedia.org/wiki/God, https://en...   \n",
       "2  [https://en.wikipedia.org/wiki/Alligator, http...   \n",
       "\n",
       "                                           questions  \\\n",
       "0  [What is the bartender saying on the phone in ...   \n",
       "1  [Why are these men standing on clouds holding/...   \n",
       "2             [Why is an alligator in a restaurant?]   \n",
       "\n",
       "                                     caption_choices  \\\n",
       "0  [Tell me about your childhood very quickly., B...   \n",
       "1  [Business school changed you, Son., I'm a thro...   \n",
       "2  [Where were you between the hours of beddy-bye...   \n",
       "\n",
       "                                    from_description label  n_tokens_label  \\\n",
       "0  scene: a bar description: Two priests and a ra...     C               1   \n",
       "1  scene: clouds description: Two men are standin...     A               1   \n",
       "2  scene: restaurant description: An alligator is...     D               1   \n",
       "\n",
       "                        instance_id  filename  \n",
       "0  21125bb8787b4e7e82aa3b0a1cba1571   49.jpeg  \n",
       "1  87056539d887b9b38cb33ee8101c2c99  393.jpeg  \n",
       "2  3ef377604288fc61e83dd2341f1567de  703.jpeg  "
      ]
     },
     "metadata": {},
     "output_type": "display_data"
    },
    {
     "name": "stdout",
     "output_type": "stream",
     "text": [
      "\n",
      "[Limited by 3 rows]\n"
     ]
    }
   ],
   "source": [
    "meta_dc.select_except(\"source\").show(3)"
   ]
  },
  {
   "cell_type": "markdown",
   "id": "d5d64b2c-60b2-4f54-ba6e-3c5b1e865c84",
   "metadata": {},
   "source": [
    "<a id='joining'></a>\n",
    "\n",
    "### Joining\n",
    "\n",
    "To compare the images to the text caption choices, we need to join both chains by matching the rows using the name of the image file. For `img_dc`, this field is captured automatically in `file.name`. For `meta_dc`, the `filename` is a column in the parquet file identifying the corresponding JPEG file."
   ]
  },
  {
   "cell_type": "code",
   "execution_count": 8,
   "id": "750455a9-62b8-46a0-b438-c07561a598d9",
   "metadata": {},
   "outputs": [],
   "source": [
    "dc = img_dc.merge(meta_dc, on=\"file.name\", right_on=\"filename\")"
   ]
  },
  {
   "cell_type": "markdown",
   "id": "24f639bf-ecc8-457a-b515-dd7e340bfda5",
   "metadata": {},
   "source": [
    "The resulting chain includes the union of all columns from both of the initial chains. Since this is a lot of columns, let's take a look at just a subset of columns of interest:"
   ]
  },
  {
   "cell_type": "code",
   "execution_count": 9,
   "id": "3cff46f4-74a5-48b7-884d-533100669b1b",
   "metadata": {},
   "outputs": [
    {
     "name": "stderr",
     "output_type": "stream",
     "text": [
      "Processed: 422 rows [00:00, 20053.89 rows/s]\n",
      "Processed: 1 rows [00:00, 1474.79 rows/s]\n",
      "Processed: 0 rows [00:00, ? rows/s]\n",
      "Processed: 1 rows [00:00,  2.83 rows/s]\n",
      "Generated: 9792 rows [00:00, 27718.96 rows/s]\n"
     ]
    },
    {
     "data": {
      "text/html": [
       "<div>\n",
       "<style scoped>\n",
       "    .dataframe tbody tr th:only-of-type {\n",
       "        vertical-align: middle;\n",
       "    }\n",
       "\n",
       "    .dataframe tbody tr th {\n",
       "        vertical-align: top;\n",
       "    }\n",
       "\n",
       "    .dataframe thead tr th {\n",
       "        text-align: left;\n",
       "    }\n",
       "</style>\n",
       "<table border=\"1\" class=\"dataframe\">\n",
       "  <thead>\n",
       "    <tr>\n",
       "      <th></th>\n",
       "      <th>file</th>\n",
       "      <th>caption_choices</th>\n",
       "      <th>label</th>\n",
       "    </tr>\n",
       "    <tr>\n",
       "      <th></th>\n",
       "      <th>name</th>\n",
       "      <th></th>\n",
       "      <th></th>\n",
       "    </tr>\n",
       "  </thead>\n",
       "  <tbody>\n",
       "    <tr>\n",
       "      <th>0</th>\n",
       "      <td>101.jpeg</td>\n",
       "      <td>[And, if you open the window, the view will ta...</td>\n",
       "      <td>C</td>\n",
       "    </tr>\n",
       "    <tr>\n",
       "      <th>1</th>\n",
       "      <td>101.jpeg</td>\n",
       "      <td>[And, if you open the window, the view will ta...</td>\n",
       "      <td>C</td>\n",
       "    </tr>\n",
       "    <tr>\n",
       "      <th>2</th>\n",
       "      <td>101.jpeg</td>\n",
       "      <td>[And, if you open the window, the view will ta...</td>\n",
       "      <td>C</td>\n",
       "    </tr>\n",
       "  </tbody>\n",
       "</table>\n",
       "</div>"
      ],
      "text/plain": [
       "       file                                    caption_choices label\n",
       "       name                                                         \n",
       "0  101.jpeg  [And, if you open the window, the view will ta...     C\n",
       "1  101.jpeg  [And, if you open the window, the view will ta...     C\n",
       "2  101.jpeg  [And, if you open the window, the view will ta...     C"
      ]
     },
     "metadata": {},
     "output_type": "display_data"
    },
    {
     "name": "stdout",
     "output_type": "stream",
     "text": [
      "\n",
      "[Limited by 3 rows]\n"
     ]
    }
   ],
   "source": [
    "dc.select(\"file.name\", \"caption_choices\", \"label\").show(3)"
   ]
  },
  {
   "cell_type": "markdown",
   "id": "34bb7924-4495-45fe-84f7-1417ebff0ad5",
   "metadata": {},
   "source": [
    "<a id='ingestion'></a>\n",
    "\n",
    "## Filtering and inspecting a sample\n",
    "\n",
    "Let's take a look at one sample cartoon from the dataset to see how it looks.\n",
    "\n",
    "`DataChain.filter()` allows for filtering of the dataset. In this case, we will filter to a single JPEG image using `file.name`. There are multiple rows of metadata for each image, since there can be different combinations of image and caption choices or other metadata, so we will also limit to one output row:"
   ]
  },
  {
   "cell_type": "code",
   "execution_count": 10,
   "id": "72ea9e4b-572d-4f5c-b58a-de38429d28ec",
   "metadata": {},
   "outputs": [],
   "source": [
    "sample = dc.filter(C(\"file.name\") == \"371.jpeg\").limit(1)"
   ]
  },
  {
   "cell_type": "markdown",
   "id": "04aa9418-87eb-45b6-9b5e-d86779d52c06",
   "metadata": {},
   "source": [
    "We can use `DataChain.collect()` to extract the values from the sample. Here's an example of collecting a subset of column signals from the sample:"
   ]
  },
  {
   "cell_type": "code",
   "execution_count": 11,
   "id": "8f306dee-0c5a-4112-9fb3-885755b06961",
   "metadata": {},
   "outputs": [
    {
     "name": "stderr",
     "output_type": "stream",
     "text": [
      "Processed: 422 rows [00:00, 21219.67 rows/s]\n",
      "Processed: 1 rows [00:00, 1623.81 rows/s]\n",
      "Processed: 0 rows [00:00, ? rows/s]\n",
      "Generated: 0 rows [00:00, ? rows/s]\u001b[A\n",
      "Processed: 1 rows [00:00,  2.33 rows/s]ows/s]\u001b[A\n",
      "Generated: 9792 rows [00:00, 22817.37 rows/s]\n"
     ]
    },
    {
     "data": {
      "text/plain": [
       "[[ImageFile(source='gs://datachain-demo', parent='newyorker_caption_contest/images', name='371.jpeg', size=25555, version='1719848719616822', etag='CLaWgOCXhocDEAE=', is_latest=True, last_modified=datetime.datetime(1970, 1, 1, 0, 0, tzinfo=datetime.timezone.utc), location=None, vtype=''),\n",
       "  ['Can you please identify which hand was mistakenly amputated?',\n",
       "   \"Frank called to say he'll be late, he's stuck at the office.\",\n",
       "   'Your overhead is going to kill you.',\n",
       "   'Just the worm, hold the Tequila.',\n",
       "   'Calm down, I just came to get my things.'],\n",
       "  'E']]"
      ]
     },
     "execution_count": 11,
     "metadata": {},
     "output_type": "execute_result"
    }
   ],
   "source": [
    "sample_results = sample.collect(\"file\", \"caption_choices\", \"label\")\n",
    "sample_results"
   ]
  },
  {
   "cell_type": "markdown",
   "id": "ee6d0ba9-a5ec-4f28-97a0-c7756fc8deac",
   "metadata": {},
   "source": [
    "The example has an output for each signal:\n",
    "- `file` returns a special `ImageFile` object (see below).\n",
    "- `caption_choices` returns a list with the text for each of the 5 caption choices.\n",
    "- `label` return the correct caption choice as a letter (A-E).\n",
    "\n",
    "DataChain knows to return `file` as an `ImageFile` because we created the chain for the image files with `DataChain.from_storage(..., type=\"image\")`. `ImageFile` is a subclass of `File`. All `File` types include methods to do file operations like `file.open()` and `file.read()`. Use `file.read()` to return the image itself as type `PIL.Image.Image`."
   ]
  },
  {
   "cell_type": "code",
   "execution_count": 12,
   "id": "072c1e5d-4396-4390-bf1e-5c9b1fdfe0c1",
   "metadata": {},
   "outputs": [
    {
     "data": {
      "image/jpeg": "[encoded data removed]",
      "image/png": "[encoded data removed]",
      "text/plain": [
       "<PIL.JpegImagePlugin.JpegImageFile image mode=L size=617x464>"
      ]
     },
     "execution_count": 12,
     "metadata": {},
     "output_type": "execute_result"
    }
   ],
   "source": [
    "example = sample_results[0]\n",
    "example[0].read()"
   ]
  },
  {
   "cell_type": "markdown",
   "id": "70a4c8f0-2d83-4722-bdec-5a1076a97ce2",
   "metadata": {},
   "source": [
    "<a id='similarities'></a>\n",
    "\n",
    "## Predict caption similarities with CLIP\n",
    "\n",
    "Let's use the CLIP model (https://github.com/openai/CLIP) to predict similarity scores between the cartoon and the caption choices.\n",
    "\n",
    "To start, we need to load the model:"
   ]
  },
  {
   "cell_type": "code",
   "execution_count": 13,
   "id": "9dfbc57e-3024-4e5a-a8a6-864143293991",
   "metadata": {},
   "outputs": [],
   "source": [
    "device = \"cuda\" if torch.cuda.is_available() else \"cpu\"\n",
    "model, preprocess = clip.load(\"ViT-B/32\", device=device)"
   ]
  },
  {
   "cell_type": "markdown",
   "id": "ae795c14-956f-4ceb-852a-5db6012d80c5",
   "metadata": {},
   "source": [
    "To get similarity scores for each image/text pair, we need to:\n",
    "1. Preprocess the image to transform it into a torch tensor with the expected dimensions\n",
    "2. Tokenize the text to get the tokens for each word to pass to the model\n",
    "3. Pass both of these values to the model to get the cosine similarities for each image-text combination.\n",
    "\n",
    "Here's how to do this for our current example:"
   ]
  },
  {
   "cell_type": "code",
   "execution_count": 14,
   "id": "3176721d-41fb-447c-8c27-f58108ca0a5d",
   "metadata": {},
   "outputs": [
    {
     "data": {
      "text/plain": [
       "tensor([[20.2135, 23.0318, 21.6857, 23.2001, 22.4901]], grad_fn=<MmBackward0>)"
      ]
     },
     "execution_count": 14,
     "metadata": {},
     "output_type": "execute_result"
    }
   ],
   "source": [
    "image = example[0].read()\n",
    "image = preprocess(image).unsqueeze(0)\n",
    "text = clip.tokenize(example[1])\n",
    "logits_per_image, logits_per_text = model(image, text)\n",
    "logits_per_image"
   ]
  },
  {
   "cell_type": "markdown",
   "id": "275b4206-7a2e-42e6-9769-e6074926f943",
   "metadata": {},
   "source": [
    "To predict the probability of each caption choice, we can perform a softmax operation across these scores:"
   ]
  },
  {
   "cell_type": "code",
   "execution_count": 15,
   "id": "298d3cfa-8995-450b-bef3-f5ceb3500fdf",
   "metadata": {},
   "outputs": [
    {
     "data": {
      "text/plain": [
       "tensor([0.0194, 0.3241, 0.0844, 0.3836, 0.1886], grad_fn=<SelectBackward0>)"
      ]
     },
     "execution_count": 15,
     "metadata": {},
     "output_type": "execute_result"
    }
   ],
   "source": [
    "logits_per_image.softmax(dim=1)[0]"
   ]
  },
  {
   "cell_type": "markdown",
   "id": "43f33413-5e5f-4f0e-be5c-9b5799f5aadf",
   "metadata": {},
   "source": [
    "We can use `DataChain.torch.clip_similarity_scores()` to reduce this to a one-liner. It takes the following parameters:\n",
    "- `images`: any number of images as inputs\n",
    "- `text`: any number of text values as inputs\n",
    "- `model`: CLIP model\n",
    "- `preprocess`: image preprocessor\n",
    "- `tokenizer`: text tokenizer\n",
    "- `prob`: whether to return probabilities or raw cosine similarities"
   ]
  },
  {
   "cell_type": "code",
   "execution_count": 16,
   "id": "143bc601-c3d6-4905-a685-6ec2897f1ad3",
   "metadata": {},
   "outputs": [
    {
     "name": "stderr",
     "output_type": "stream",
     "text": [
      "/Users/dave/Code/datachain/src/datachain/lib/text.py:38: UserWarning: To copy construct from a tensor, it is recommended to use sourceTensor.clone().detach() or sourceTensor.clone().detach().requires_grad_(True), rather than torch.tensor(sourceTensor).\n",
      "  return encoder(torch.tensor(tokens))\n"
     ]
    },
    {
     "data": {
      "text/plain": [
       "[0.019353175535798073,\n",
       " 0.324138879776001,\n",
       " 0.08436062932014465,\n",
       " 0.3835700452327728,\n",
       " 0.18857727944850922]"
      ]
     },
     "execution_count": 16,
     "metadata": {},
     "output_type": "execute_result"
    }
   ],
   "source": [
    "clip_similarity_scores(example[0].read(), example[1], model, preprocess, clip.tokenize, prob=True)[0]"
   ]
  },
  {
   "cell_type": "markdown",
   "id": "0d91857a-566c-42a0-bcc1-7aa962f0d37c",
   "metadata": {},
   "source": [
    "<a id='saving'></a>\n",
    "\n",
    "## Saving the chain\n",
    "\n",
    "We'll need to apply these similarities across our dataset for fine-tuning. To start, let's create a small random training sample using `DataChain.shuffle()`, which returns the records in a deterministic random order.\n",
    "\n",
    "The result is saved using `DataChain.save()`. This will save a persistent, versioned dataset that we can recover anytime in the future. It also will prevent DataChain from recomputing the same steps when running the chain again."
   ]
  },
  {
   "cell_type": "code",
   "execution_count": 17,
   "id": "a14316af-b409-4ec7-ac15-292a6726af4b",
   "metadata": {},
   "outputs": [
    {
     "name": "stderr",
     "output_type": "stream",
     "text": [
      "Processed: 422 rows [00:00, 18592.79 rows/s]\n",
      "Processed: 1 rows [00:00, 1009.95 rows/s]\n",
      "Processed: 0 rows [00:00, ? rows/s]\n",
      "Processed: 1 rows [00:00,  2.80 rows/s]\n",
      "Generated: 9792 rows [00:00, 27463.04 rows/s]\n"
     ]
    }
   ],
   "source": [
    "train_dc = dc.shuffle().limit(10).save(\"newyorker_caption_contest_train\")"
   ]
  },
  {
   "cell_type": "markdown",
   "id": "9f0a40c6-af3f-44c1-a048-f16edb8a5a6d",
   "metadata": {},
   "source": [
    "<a id='mapping'></a>\n",
    "\n",
    "## Mapping the similarity function to the dataset and chaining operations\n",
    "\n",
    "How do we calculate similarity scores across the entire sample? You can use `DataChain.map()` to map this function onto each record in the sample. It takes the following parameters:\n",
    "\n",
    "- `func`: The function to map to each record.\n",
    "- `params`: The signals names from the chain to use as input parameters to the function.\n",
    "- `output`: The dict of output signal names and types in format `{column_name: column_type}`."
   ]
  },
  {
   "cell_type": "code",
   "execution_count": 18,
   "id": "f6e39bbd-fad0-4198-abe1-1876eadf3f4a",
   "metadata": {},
   "outputs": [],
   "source": [
    "train_dc = train_dc.map(\n",
    "    func=lambda img_file, txt: clip_similarity_scores(img_file.read(), txt, model, preprocess, clip.tokenize, prob=True)[0],\n",
    "    params=[\"file\", \"caption_choices\"],\n",
    "    output={\"scores\": list[float]}\n",
    ")"
   ]
  },
  {
   "cell_type": "markdown",
   "id": "d8187d7a-5889-46b5-be24-7287084027a9",
   "metadata": {},
   "source": [
    "We use `clip_similarity_scores()` from above to make a one-line lambda function, but if you need to customize your mapper function, you can pass any function as long as it:\n",
    "- takes the `params` signal types as input\n",
    "- returns the types specified in `output`\n",
    "\n",
    "Next, we want to calculate the probability that each record predicted the correct caption.\n",
    "Using `DataChain.map()`, we can write our own functions to add new signals to the data and chain them together.\n",
    "\n",
    "We need two functions:\n",
    "- `label_ind()`: Takes the label column which contains a letter A-E and maps it to an integer 0-4.\n",
    "- `label_prob()`: Returns the predicted probability of that label."
   ]
  },
  {
   "cell_type": "code",
   "execution_count": 19,
   "id": "f6386db4-8f60-4be7-9a81-f903b5b3ce54",
   "metadata": {},
   "outputs": [],
   "source": [
    "def label_ind(label):\n",
    "    return string.ascii_uppercase.index(label)\n",
    "\n",
    "def label_prob(scores, label_ind):\n",
    "    return scores[label_ind]"
   ]
  },
  {
   "cell_type": "markdown",
   "id": "2b0b4046-aba4-4a72-b37a-93f64b66021d",
   "metadata": {},
   "source": [
    "To apply these to the sample, we can chain together multiple `map()` operations:"
   ]
  },
  {
   "cell_type": "code",
   "execution_count": 20,
   "id": "912d230d-b5cc-40e0-a5fe-5993bba789c8",
   "metadata": {},
   "outputs": [],
   "source": [
    "train_dc = (\n",
    "    train_dc.map(label_ind, params=[\"label\"], output={\"label_ind\": int})\n",
    "    .map(label_prob, params=[\"scores\", \"label_ind\"], output={\"label_prob\": float})\n",
    ")"
   ]
  },
  {
   "cell_type": "markdown",
   "id": "f17bba8b-a7fc-458d-b5c7-2881399d6ab3",
   "metadata": {},
   "source": [
    "Like other DataChain operations, the entire chain of operations here is lazy until we invoke some greedy computation, so we have not actually performed any of these transformations yet. We can save again to force computation:"
   ]
  },
  {
   "cell_type": "code",
   "execution_count": 21,
   "id": "44fcd0a9-134c-4434-a8e0-3de6ec8bc632",
   "metadata": {},
   "outputs": [
    {
     "name": "stderr",
     "output_type": "stream",
     "text": [
      "Download: 0.00B [00:00, ?B/s]\n",
      "Download: 26.6kB [00:00, 71.4kB/s]]\u001b[A\n",
      "Download: 45.3kB [00:00, 72.8kB/s]ws/s]\u001b[A\n",
      "Download: 63.9kB [00:00, 70.2kB/s]ws/s]\u001b[A\n",
      "Download: 82.5kB [00:01, 73.6kB/s]ws/s]\u001b[A\n",
      "Download: 101kB [00:01, 76.2kB/s] ws/s]\u001b[A\n",
      "Download: 120kB [00:01, 68.8kB/s]ows/s]\u001b[A\n",
      "Download: 138kB [00:01, 71.6kB/s]ows/s]\u001b[A\n",
      "Download: 157kB [00:02, 72.4kB/s]ows/s]\u001b[A\n",
      "Download: 176kB [00:02, 73.9kB/s]ows/s]\u001b[A\n",
      "Download: 186kB [00:02, 72.5kB/s]rows/s]\u001b[A\n",
      "Processed: 10 rows [00:02,  4.27 rows/s]\n",
      "Processed: 10 rows [00:00, 4312.02 rows/s]\n",
      "Processed: 10 rows [00:00, 2847.26 rows/s]\n"
     ]
    }
   ],
   "source": [
    "train_dc = train_dc.save()"
   ]
  },
  {
   "cell_type": "markdown",
   "id": "4710f807-9a0d-4308-98be-ef77321848f7",
   "metadata": {},
   "source": [
    "Let's take a look at the results:"
   ]
  },
  {
   "cell_type": "code",
   "execution_count": 22,
   "id": "4c120469-f024-4a01-902a-b3bf4c09b3ca",
   "metadata": {},
   "outputs": [
    {
     "data": {
      "text/html": [
       "<div>\n",
       "<style scoped>\n",
       "    .dataframe tbody tr th:only-of-type {\n",
       "        vertical-align: middle;\n",
       "    }\n",
       "\n",
       "    .dataframe tbody tr th {\n",
       "        vertical-align: top;\n",
       "    }\n",
       "\n",
       "    .dataframe thead tr th {\n",
       "        text-align: left;\n",
       "    }\n",
       "</style>\n",
       "<table border=\"1\" class=\"dataframe\">\n",
       "  <thead>\n",
       "    <tr>\n",
       "      <th></th>\n",
       "      <th>file</th>\n",
       "      <th>file</th>\n",
       "      <th>file</th>\n",
       "      <th>file</th>\n",
       "      <th>file</th>\n",
       "      <th>file</th>\n",
       "      <th>file</th>\n",
       "      <th>file</th>\n",
       "      <th>file</th>\n",
       "      <th>file</th>\n",
       "      <th>source</th>\n",
       "      <th>source</th>\n",
       "      <th>source</th>\n",
       "      <th>source</th>\n",
       "      <th>source</th>\n",
       "      <th>source</th>\n",
       "      <th>source</th>\n",
       "      <th>source</th>\n",
       "      <th>source</th>\n",
       "      <th>source</th>\n",
       "      <th>source</th>\n",
       "      <th>contest_number</th>\n",
       "      <th>image_location</th>\n",
       "      <th>image_description</th>\n",
       "      <th>image_uncanny_description</th>\n",
       "      <th>entities</th>\n",
       "      <th>questions</th>\n",
       "      <th>caption_choices</th>\n",
       "      <th>from_description</th>\n",
       "      <th>label</th>\n",
       "      <th>n_tokens_label</th>\n",
       "      <th>instance_id</th>\n",
       "      <th>filename</th>\n",
       "      <th>scores</th>\n",
       "      <th>label_ind</th>\n",
       "      <th>label_prob</th>\n",
       "    </tr>\n",
       "    <tr>\n",
       "      <th></th>\n",
       "      <th>source</th>\n",
       "      <th>parent</th>\n",
       "      <th>name</th>\n",
       "      <th>size</th>\n",
       "      <th>version</th>\n",
       "      <th>etag</th>\n",
       "      <th>is_latest</th>\n",
       "      <th>last_modified</th>\n",
       "      <th>location</th>\n",
       "      <th>vtype</th>\n",
       "      <th>file</th>\n",
       "      <th>file</th>\n",
       "      <th>file</th>\n",
       "      <th>file</th>\n",
       "      <th>file</th>\n",
       "      <th>file</th>\n",
       "      <th>file</th>\n",
       "      <th>file</th>\n",
       "      <th>file</th>\n",
       "      <th>file</th>\n",
       "      <th>index</th>\n",
       "      <th></th>\n",
       "      <th></th>\n",
       "      <th></th>\n",
       "      <th></th>\n",
       "      <th></th>\n",
       "      <th></th>\n",
       "      <th></th>\n",
       "      <th></th>\n",
       "      <th></th>\n",
       "      <th></th>\n",
       "      <th></th>\n",
       "      <th></th>\n",
       "      <th></th>\n",
       "      <th></th>\n",
       "      <th></th>\n",
       "    </tr>\n",
       "    <tr>\n",
       "      <th></th>\n",
       "      <th></th>\n",
       "      <th></th>\n",
       "      <th></th>\n",
       "      <th></th>\n",
       "      <th></th>\n",
       "      <th></th>\n",
       "      <th></th>\n",
       "      <th></th>\n",
       "      <th></th>\n",
       "      <th></th>\n",
       "      <th>source</th>\n",
       "      <th>parent</th>\n",
       "      <th>name</th>\n",
       "      <th>size</th>\n",
       "      <th>version</th>\n",
       "      <th>etag</th>\n",
       "      <th>is_latest</th>\n",
       "      <th>last_modified</th>\n",
       "      <th>location</th>\n",
       "      <th>vtype</th>\n",
       "      <th></th>\n",
       "      <th></th>\n",
       "      <th></th>\n",
       "      <th></th>\n",
       "      <th></th>\n",
       "      <th></th>\n",
       "      <th></th>\n",
       "      <th></th>\n",
       "      <th></th>\n",
       "      <th></th>\n",
       "      <th></th>\n",
       "      <th></th>\n",
       "      <th></th>\n",
       "      <th></th>\n",
       "      <th></th>\n",
       "      <th></th>\n",
       "    </tr>\n",
       "  </thead>\n",
       "  <tbody>\n",
       "    <tr>\n",
       "      <th>0</th>\n",
       "      <td>gs://datachain-demo</td>\n",
       "      <td>newyorker_caption_contest/images</td>\n",
       "      <td>208.jpeg</td>\n",
       "      <td>19079</td>\n",
       "      <td>1719848711045222</td>\n",
       "      <td>COaA9duXhocDEAE=</td>\n",
       "      <td>1</td>\n",
       "      <td>1970-01-01 00:00:00+00:00</td>\n",
       "      <td>None</td>\n",
       "      <td></td>\n",
       "      <td>gs://datachain-demo</td>\n",
       "      <td>newyorker_caption_contest</td>\n",
       "      <td>new_yorker_meta.parquet</td>\n",
       "      <td>3765680</td>\n",
       "      <td>1719847348473242</td>\n",
       "      <td>CJqbmNKShocDEAE=</td>\n",
       "      <td>1</td>\n",
       "      <td>1970-01-01 00:00:00+00:00</td>\n",
       "      <td>None</td>\n",
       "      <td></td>\n",
       "      <td>8515</td>\n",
       "      <td>208</td>\n",
       "      <td>a car</td>\n",
       "      <td>Two people are sitting inside the car. They ar...</td>\n",
       "      <td>They look to be trying to row the car.</td>\n",
       "      <td>[https://en.wikipedia.org/wiki/Rowing, https:/...</td>\n",
       "      <td>[Are they insane?]</td>\n",
       "      <td>[Stop complaining. I can be used as a flotatio...</td>\n",
       "      <td>scene: a car description: Two people are sitti...</td>\n",
       "      <td>C</td>\n",
       "      <td>1</td>\n",
       "      <td>9f8cd6d31ded7aff06c07dba2323dc9f</td>\n",
       "      <td>208.jpeg</td>\n",
       "      <td>[0.06516700983047485, 0.0046694595366716385, 0...</td>\n",
       "      <td>2</td>\n",
       "      <td>0.001401</td>\n",
       "    </tr>\n",
       "    <tr>\n",
       "      <th>1</th>\n",
       "      <td>gs://datachain-demo</td>\n",
       "      <td>newyorker_caption_contest/images</td>\n",
       "      <td>208.jpeg</td>\n",
       "      <td>19079</td>\n",
       "      <td>1719848711045222</td>\n",
       "      <td>COaA9duXhocDEAE=</td>\n",
       "      <td>1</td>\n",
       "      <td>1970-01-01 00:00:00+00:00</td>\n",
       "      <td>None</td>\n",
       "      <td></td>\n",
       "      <td>gs://datachain-demo</td>\n",
       "      <td>newyorker_caption_contest</td>\n",
       "      <td>new_yorker_meta.parquet</td>\n",
       "      <td>3765680</td>\n",
       "      <td>1719847348473242</td>\n",
       "      <td>CJqbmNKShocDEAE=</td>\n",
       "      <td>1</td>\n",
       "      <td>1970-01-01 00:00:00+00:00</td>\n",
       "      <td>None</td>\n",
       "      <td></td>\n",
       "      <td>3943</td>\n",
       "      <td>208</td>\n",
       "      <td>car</td>\n",
       "      <td>Two people are in the car using paddles. They ...</td>\n",
       "      <td>rowing is for boats. To drive a car you need t...</td>\n",
       "      <td>[https://en.wikipedia.org/wiki/Paddle, https:/...</td>\n",
       "      <td>[Why are they trying to row a car?]</td>\n",
       "      <td>[Stop complaining. I can be used as a flotatio...</td>\n",
       "      <td>scene: car description: Two people are in the ...</td>\n",
       "      <td>C</td>\n",
       "      <td>1</td>\n",
       "      <td>bc6a95b58891fe592ffa60759eb1d7d1</td>\n",
       "      <td>208.jpeg</td>\n",
       "      <td>[0.06516700983047485, 0.0046694595366716385, 0...</td>\n",
       "      <td>2</td>\n",
       "      <td>0.001401</td>\n",
       "    </tr>\n",
       "    <tr>\n",
       "      <th>2</th>\n",
       "      <td>gs://datachain-demo</td>\n",
       "      <td>newyorker_caption_contest/images</td>\n",
       "      <td>208.jpeg</td>\n",
       "      <td>19079</td>\n",
       "      <td>1719848711045222</td>\n",
       "      <td>COaA9duXhocDEAE=</td>\n",
       "      <td>1</td>\n",
       "      <td>1970-01-01 00:00:00+00:00</td>\n",
       "      <td>None</td>\n",
       "      <td></td>\n",
       "      <td>gs://datachain-demo</td>\n",
       "      <td>newyorker_caption_contest</td>\n",
       "      <td>new_yorker_meta.parquet</td>\n",
       "      <td>3765680</td>\n",
       "      <td>1719847348473242</td>\n",
       "      <td>CJqbmNKShocDEAE=</td>\n",
       "      <td>1</td>\n",
       "      <td>1970-01-01 00:00:00+00:00</td>\n",
       "      <td>None</td>\n",
       "      <td></td>\n",
       "      <td>3718</td>\n",
       "      <td>208</td>\n",
       "      <td>a car</td>\n",
       "      <td>There are two people in a car. They are using ...</td>\n",
       "      <td>There are two people driving a car with paddles.</td>\n",
       "      <td>[https://en.wikipedia.org/wiki/Rowing, https:/...</td>\n",
       "      <td>[Why are the people using paddles to drive a c...</td>\n",
       "      <td>[Yeah, but this race is up the side of a windo...</td>\n",
       "      <td>scene: a car description: There are two people...</td>\n",
       "      <td>E</td>\n",
       "      <td>1</td>\n",
       "      <td>88cfc76b4a9f1bb855ff9107c15f8805</td>\n",
       "      <td>208.jpeg</td>\n",
       "      <td>[0.08257035911083221, 0.07464107871055603, 0.0...</td>\n",
       "      <td>4</td>\n",
       "      <td>0.800688</td>\n",
       "    </tr>\n",
       "  </tbody>\n",
       "</table>\n",
       "</div>"
      ],
      "text/plain": [
       "                  file                              file      file   file  \\\n",
       "                source                            parent      name   size   \n",
       "                                                                            \n",
       "0  gs://datachain-demo  newyorker_caption_contest/images  208.jpeg  19079   \n",
       "1  gs://datachain-demo  newyorker_caption_contest/images  208.jpeg  19079   \n",
       "2  gs://datachain-demo  newyorker_caption_contest/images  208.jpeg  19079   \n",
       "\n",
       "               file              file      file                      file  \\\n",
       "            version              etag is_latest             last_modified   \n",
       "                                                                            \n",
       "0  1719848711045222  COaA9duXhocDEAE=         1 1970-01-01 00:00:00+00:00   \n",
       "1  1719848711045222  COaA9duXhocDEAE=         1 1970-01-01 00:00:00+00:00   \n",
       "2  1719848711045222  COaA9duXhocDEAE=         1 1970-01-01 00:00:00+00:00   \n",
       "\n",
       "      file  file               source                     source  \\\n",
       "  location vtype                 file                       file   \n",
       "                               source                     parent   \n",
       "0     None        gs://datachain-demo  newyorker_caption_contest   \n",
       "1     None        gs://datachain-demo  newyorker_caption_contest   \n",
       "2     None        gs://datachain-demo  newyorker_caption_contest   \n",
       "\n",
       "                    source   source            source            source  \\\n",
       "                      file     file              file              file   \n",
       "                      name     size           version              etag   \n",
       "0  new_yorker_meta.parquet  3765680  1719847348473242  CJqbmNKShocDEAE=   \n",
       "1  new_yorker_meta.parquet  3765680  1719847348473242  CJqbmNKShocDEAE=   \n",
       "2  new_yorker_meta.parquet  3765680  1719847348473242  CJqbmNKShocDEAE=   \n",
       "\n",
       "     source                    source   source source source contest_number  \\\n",
       "       file                      file     file   file  index                  \n",
       "  is_latest             last_modified location  vtype                         \n",
       "0         1 1970-01-01 00:00:00+00:00     None          8515            208   \n",
       "1         1 1970-01-01 00:00:00+00:00     None          3943            208   \n",
       "2         1 1970-01-01 00:00:00+00:00     None          3718            208   \n",
       "\n",
       "  image_location                                  image_description  \\\n",
       "                                                                      \n",
       "                                                                      \n",
       "0          a car  Two people are sitting inside the car. They ar...   \n",
       "1            car  Two people are in the car using paddles. They ...   \n",
       "2          a car  There are two people in a car. They are using ...   \n",
       "\n",
       "                           image_uncanny_description  \\\n",
       "                                                       \n",
       "                                                       \n",
       "0             They look to be trying to row the car.   \n",
       "1  rowing is for boats. To drive a car you need t...   \n",
       "2   There are two people driving a car with paddles.   \n",
       "\n",
       "                                            entities  \\\n",
       "                                                       \n",
       "                                                       \n",
       "0  [https://en.wikipedia.org/wiki/Rowing, https:/...   \n",
       "1  [https://en.wikipedia.org/wiki/Paddle, https:/...   \n",
       "2  [https://en.wikipedia.org/wiki/Rowing, https:/...   \n",
       "\n",
       "                                           questions  \\\n",
       "                                                       \n",
       "                                                       \n",
       "0                                 [Are they insane?]   \n",
       "1                [Why are they trying to row a car?]   \n",
       "2  [Why are the people using paddles to drive a c...   \n",
       "\n",
       "                                     caption_choices  \\\n",
       "                                                       \n",
       "                                                       \n",
       "0  [Stop complaining. I can be used as a flotatio...   \n",
       "1  [Stop complaining. I can be used as a flotatio...   \n",
       "2  [Yeah, but this race is up the side of a windo...   \n",
       "\n",
       "                                    from_description label n_tokens_label  \\\n",
       "                                                                            \n",
       "                                                                            \n",
       "0  scene: a car description: Two people are sitti...     C              1   \n",
       "1  scene: car description: Two people are in the ...     C              1   \n",
       "2  scene: a car description: There are two people...     E              1   \n",
       "\n",
       "                        instance_id  filename  \\\n",
       "                                                \n",
       "                                                \n",
       "0  9f8cd6d31ded7aff06c07dba2323dc9f  208.jpeg   \n",
       "1  bc6a95b58891fe592ffa60759eb1d7d1  208.jpeg   \n",
       "2  88cfc76b4a9f1bb855ff9107c15f8805  208.jpeg   \n",
       "\n",
       "                                              scores label_ind label_prob  \n",
       "                                                                           \n",
       "                                                                           \n",
       "0  [0.06516700983047485, 0.0046694595366716385, 0...         2   0.001401  \n",
       "1  [0.06516700983047485, 0.0046694595366716385, 0...         2   0.001401  \n",
       "2  [0.08257035911083221, 0.07464107871055603, 0.0...         4   0.800688  "
      ]
     },
     "metadata": {},
     "output_type": "display_data"
    },
    {
     "name": "stdout",
     "output_type": "stream",
     "text": [
      "\n",
      "[Limited by 3 rows]\n"
     ]
    }
   ],
   "source": [
    "train_dc.show(3)"
   ]
  },
  {
   "cell_type": "markdown",
   "id": "d16fe570-f34b-4aa3-b6f8-184e5f584f0b",
   "metadata": {},
   "source": [
    "Now that we have computed the predicted probability of each label, we can find the average predicted probability of the correct caption. DataChain's aggregation functions can calculate summary metrics. `DataChain.avg()` can be used to calculate the average predicted probability:"
   ]
  },
  {
   "cell_type": "code",
   "execution_count": 23,
   "id": "e5c6b505-3619-4600-be86-b5210569902a",
   "metadata": {},
   "outputs": [
    {
     "data": {
      "text/plain": [
       "0.3779400472994894"
      ]
     },
     "execution_count": 23,
     "metadata": {},
     "output_type": "execute_result"
    }
   ],
   "source": [
    "train_dc.avg(\"label_prob\")"
   ]
  },
  {
   "cell_type": "markdown",
   "id": "56f30f71-1459-4d1e-8921-81618acaa3d4",
   "metadata": {},
   "source": [
    "Let's see if we can improve the average predicted probability using fine tuning."
   ]
  },
  {
   "cell_type": "markdown",
   "id": "7f61a438-a48a-4e9b-a0ea-4dfd65076c2d",
   "metadata": {},
   "source": [
    "<a id='training'></a>\n",
    "\n",
    "## Fine tuning the CLIP model\n",
    "\n",
    "We can fine tune the CLIP model on our dataset so it can correctly predict the captions. Since our sample for this toy example is a single cartoon, it should be pretty simple for the model to learn which captions are correct.\n",
    "\n",
    "To fine tune the model, we need to convert the data into a [PyTorch Dataset](https://pytorch.org/tutorials/beginner/basics/data_tutorial.html). Luckily, `DataChain.to_pytorch()` does just that. We need to select 3 signals from the data to pass to the model:\n",
    "1. Image files\n",
    "2. Text caption choices\n",
    "3. Label indices\n",
    "\n",
    "`DataChain.to_pytorch()` has a couple helpful arguments to transform our image and text data:\n",
    "- `transform`: a [torchvision transform](https://pytorch.org/vision/stable/transforms.html) to process the image into the expected torch tensor dimensions.\n",
    "- `tokenizer`: a tokenizer function (such as a [Hugging Face tokenizer](https://huggingface.co/docs/tokenizers/index)) to convert the raw text into tokens.\n",
    "\n",
    "The pre-trained CLIP model we loaded earlier includes both of these:\n",
    "- `preprocess` is a torchvision transform.\n",
    "- `clip.tokenize` is a tokenizer."
   ]
  },
  {
   "cell_type": "code",
   "execution_count": 24,
   "id": "096b639a-c624-4809-a47f-12ba0f39fd63",
   "metadata": {},
   "outputs": [],
   "source": [
    "ds = train_dc.select(\"file\", \"caption_choices\", \"label_ind\").to_pytorch(\n",
    "    transform=preprocess,\n",
    "    tokenizer=clip.tokenize,\n",
    ")"
   ]
  },
  {
   "cell_type": "markdown",
   "id": "5fe92c7d-945a-4c5b-a268-389b3d7560d1",
   "metadata": {},
   "source": [
    "Now we can write our PyTorch training loop as we normally would. The data is a normal PyTorch `Dataset` at this point, so there's nothing special about this code. For each image, it calculates the similarities to each text caption choice and applies the loss function based on the label of the correct choice.\n",
    "\n",
    "<details>\n",
    "<summary>Notes about how we fine-tuned the model</summary>\n",
    "We won't go into details of CLIP fine-tuning, but take a look at https://github.com/openai/CLIP and especially https://github.com/openai/CLIP/issues/83 if you are interested. Note that the code below is slightly different from typical CLIP training, which normally takes a batch of pairs each containing a single image and text caption and then trains on all combinations of images and texts in that batch. Instead, here we take a single image and multiple caption choices and train on those combinations.\n",
    "</details>"
   ]
  },
  {
   "cell_type": "code",
   "execution_count": 25,
   "id": "bcca91aa-71cb-4ccd-8dc2-299a43d837a6",
   "metadata": {},
   "outputs": [],
   "source": [
    "def train(loader, model, optimizer, epochs=5):\n",
    "    loss_func = torch.nn.CrossEntropyLoss()\n",
    "\n",
    "    for epoch in range(epochs):    \n",
    "        total_loss = 0\n",
    "        for images, texts, labels in loader:\n",
    "            optimizer.zero_grad()\n",
    "            batch_loss = 0\n",
    "            for image, text, label in zip(images, texts, labels):\n",
    "                image = image.to(device).unsqueeze(0)\n",
    "                text = text.to(device)\n",
    "                label = label.to(device).unsqueeze(0)\n",
    "                \n",
    "    \n",
    "                logits_per_image, logits_per_text = model(image, text)\n",
    "        \n",
    "                batch_loss += loss_func(logits_per_image, label)\n",
    "            batch_loss.backward()\n",
    "            optimizer.step()\n",
    "            batch_loss = batch_loss.item()\n",
    "            total_loss += batch_loss\n",
    "        print(f\"loss for epoch {epoch}: {total_loss}\")"
   ]
  },
  {
   "cell_type": "markdown",
   "id": "07ee6f9e-19e6-4bd5-973b-e358bbde17bf",
   "metadata": {},
   "source": [
    "Now we are ready to train the model! All we need is to load the data into a PyTorch `DataLoader`, set up a PyTorch optimizer, and start training as usual. Again, there's nothing special about this code. It's all standard PyTorch."
   ]
  },
  {
   "cell_type": "code",
   "execution_count": 26,
   "id": "267f7eef-373b-4a5e-9e52-d62f878d948b",
   "metadata": {},
   "outputs": [
    {
     "name": "stdout",
     "output_type": "stream",
     "text": [
      "loss for epoch 0: 16.792677923105657\n",
      "loss for epoch 1: 0.00010680870030910228\n",
      "loss for epoch 2: 0.0\n",
      "loss for epoch 3: 0.0\n",
      "loss for epoch 4: 0.0\n"
     ]
    }
   ],
   "source": [
    "loader = DataLoader(ds, batch_size=2)\n",
    "optimizer = torch.optim.Adam(model.parameters(), lr=1e-4)\n",
    "train(loader, model, optimizer)"
   ]
  },
  {
   "cell_type": "markdown",
   "id": "fcae719a-ce7f-4f86-9f04-7a564dc43fdb",
   "metadata": {},
   "source": [
    "<a id='eval'></a>\n",
    "\n",
    "## Inference and Evaluation\n",
    "\n",
    "Now that we have fine-tuned, how do we know if the model improved?\n",
    "\n",
    "Let's start by performing inference. We will reuse our training sample to confirm that the fine-tuning fit to the data in that sample (in this exercise, we are intentionally overfitting to this small sample; make sure to evaluate on a holdout sample in any real application).\n",
    "\n",
    "We can use `clip_similarity_scores()` again to predict the probability of each caption using the fine-tuned model. This is the same map operation we performed above to get the initial predicted probabilities, except this time we use the fine-tuned model."
   ]
  },
  {
   "cell_type": "code",
   "execution_count": 27,
   "id": "7e7f3b22-9daa-4b75-808e-133036e64c31",
   "metadata": {},
   "outputs": [],
   "source": [
    "train_dc = train_dc.map(\n",
    "    func=lambda img_file, txt: clip_similarity_scores(img_file.read(), txt, model, preprocess, clip.tokenize, prob=True)[0],\n",
    "    params=[\"file\", \"caption_choices\"],\n",
    "    output={\"scores_fine_tune\": list[float]}\n",
    ")"
   ]
  },
  {
   "cell_type": "markdown",
   "id": "1fd2319e-f7b8-4e6a-85b4-03adb153f9d7",
   "metadata": {},
   "source": [
    "Now that we have the probability of each caption, let's reuse our `label_prob()` function from above to get the predicted probability of the correct caption:"
   ]
  },
  {
   "cell_type": "code",
   "execution_count": 28,
   "id": "bbf0f747-a767-4ea2-b654-9a5367665349",
   "metadata": {},
   "outputs": [],
   "source": [
    "train_dc = train_dc.map(label_prob, params=[\"scores_fine_tune\", \"label_ind\"], output={\"label_prob_fine_tune\": float})"
   ]
  },
  {
   "cell_type": "markdown",
   "id": "4e7fa17d-a9ed-4f7d-a452-614b93db84a7",
   "metadata": {},
   "source": [
    "Finally, we can evaluate the average predicted probability of the correct caption using the fine-tuned model. As we showed above, `DataChain.avg()` will compute the average signal value across the dataset:"
   ]
  },
  {
   "cell_type": "code",
   "execution_count": 29,
   "id": "f92b7ca9-d54e-41ec-b815-5e6ba09844d2",
   "metadata": {},
   "outputs": [
    {
     "name": "stderr",
     "output_type": "stream",
     "text": [
      "Download: 0.00B [00:00, ?B/s]/Users/dave/Code/datachain/src/datachain/lib/text.py:38: UserWarning: To copy construct from a tensor, it is recommended to use sourceTensor.clone().detach() or sourceTensor.clone().detach().requires_grad_(True), rather than torch.tensor(sourceTensor).\n",
      "  return encoder(torch.tensor(tokens))\n",
      "\n",
      "Download: 26.6kB [00:00, 107kB/s]s]\u001b[A\n",
      "Download: 45.3kB [00:00, 95.2kB/s]ws/s]\u001b[A\n",
      "Download: 63.9kB [00:00, 91.9kB/s]ws/s]\u001b[A\n",
      "Download: 82.5kB [00:00, 89.2kB/s]ws/s]\u001b[A\n",
      "Download: 101kB [00:01, 85.8kB/s] ws/s]\u001b[A\n",
      "Download: 120kB [00:01, 79.6kB/s]ows/s]\u001b[A\n",
      "Download: 138kB [00:01, 81.3kB/s]ows/s]\u001b[A\n",
      "Download: 157kB [00:01, 82.6kB/s]ows/s]\u001b[A\n",
      "Download: 176kB [00:02, 82.6kB/s]ows/s]\u001b[A\n",
      "Download: 186kB [00:02, 84.8kB/s]rows/s]\u001b[A\n",
      "Processed: 10 rows [00:02,  4.79 rows/s]\n",
      "Processed: 10 rows [00:00, 6290.20 rows/s]\n"
     ]
    },
    {
     "data": {
      "text/plain": [
       "1.0"
      ]
     },
     "execution_count": 29,
     "metadata": {},
     "output_type": "execute_result"
    }
   ],
   "source": [
    "train_dc.avg(\"label_prob_fine_tune\")"
   ]
  },
  {
   "cell_type": "markdown",
   "id": "937c3d0e-d4d0-4490-8f72-7b934628c2ce",
   "metadata": {},
   "source": [
    "Looks like the model was quickly able to fit to the sample provided and predict the correct caption!"
   ]
  },
  {
   "cell_type": "code",
   "execution_count": null,
   "id": "fd42fa6c-d3e6-48c4-83ac-21910aa878fe",
   "metadata": {},
   "outputs": [],
   "source": []
  }
 ],
 "metadata": {
  "kernelspec": {
   "display_name": "Python 3 (ipykernel)",
   "language": "python",
   "name": "python3"
  },
  "language_info": {
   "codemirror_mode": {
    "name": "ipython",
    "version": 3
   },
   "file_extension": ".py",
   "mimetype": "text/x-python",
   "name": "python",
   "nbconvert_exporter": "python",
   "pygments_lexer": "ipython3",
   "version": "3.11.0"
  }
 },
 "nbformat": 4,
 "nbformat_minor": 5
}
