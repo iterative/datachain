{
 "cells": [
  {
   "cell_type": "markdown",
   "id": "08502c0e-1036-4973-a3ba-b4382e3e2393",
   "metadata": {},
   "source": [
    "# Reading JSON metadata\n",
    "\n",
    "#### This notebook will show how to use DataChain to parse JSON-based metadata. \n",
    "\n",
    "We will use public datasets as examples, including [Microsoft COCO](https://cocodataset.org/#home) and [Google OpenImages](https://storage.googleapis.com/openimages/web/index.html).\n",
    "Here are the topics covered:\n",
    "\n",
    "- [Simple JSON schemas](#simple)\n",
    "- [JSON lines format](#jsonl)\n",
    "- [Nested JSON schemas](#nested)\n",
    "- [Parsing JSON files](#parsing)\n",
    "    - [Dealing with validation errors](#errors)\n",
    "- [Static schema definitions](#static)\n",
    "- [Merging multi-layer annotations](#merging)\n",
    "    - [COCO mini-tutorial](#coco)\n",
    "  "
   ]
  },
  {
   "cell_type": "markdown",
   "id": "6170a2e1-159d-47a4-966f-ab53238c3049",
   "metadata": {},
   "source": [
    "## Preface\n",
    "\n",
    "JSON is a popular format for capturing metadata. Many public and private datasets are annotated in JSON files.\n",
    "For computer vision and multimodal applications, the metadata is typically stored alongside samples (e.g. images or audio files).\n",
    "In the natural language datasets, text samples (snippets) are often a part of the JSON file itself.\n",
    "\n",
    "The common theme here is that every sample corresponds to an entry in JSON annotations.\n",
    "These annotations, in turn, can be organized in different ways:\n",
    "\n",
    "- Every sample is stored alongside a matching JSON file (\"json-pairs\" format).\n",
    "- Every sample corresponds to a line in a shared \"JSON lines\" file (.jsonl format).\n",
    "- Every sample corresponds to an array member inside a common JSON file.\n",
    "\n",
    "JSON files can be large and hard to read on computer screen. To better understand metadata models, DataChain provides functions `print_json_schema()` and `print_jsonl_schema()` which can read and print the JSON layout in Pydantic format. Once the data model is apporoved, data loading and validation is handled by functions `from_json()` and `from_jsonl()`.\n",
    "\n",
    "💡 DataChain supports lazy execution. No data is parsed until the results are requested by downstream chains. This means, for example, that validation errors (if any) will not occur immediately but may be triggered by the downstream `exec()`, `count()`, `collect()` or similar actions. When many operations are chained together, it is common to intersperse with `save` operations to cache the intermediate results.\n",
    "\n",
    "All operations in this tutorial depende on the below imports.\n",
    "We will occasionally repeat them throughout examples so they can be launched independently.\n"
   ]
  },
  {
   "cell_type": "code",
   "execution_count": 1,
   "id": "430f08e0-e720-4083-b1b4-990882221ef6",
   "metadata": {},
   "outputs": [],
   "source": [
    "from datachain.lib.dc import Column, DataChain"
   ]
  },
  {
   "cell_type": "markdown",
   "id": "a44d51ae-e22a-41a6-8871-dee669fd945a",
   "metadata": {},
   "source": [
    "<a id='simple'></a>\n",
    "## Simple JSON schemas\n",
    "\n",
    "Plain JSON schemas assign all the information in a root-level JSON object to a single sample.\n",
    "For instance, the \"json-pairs\" convention couples samples with identically named JSON files:\n"
   ]
  },
  {
   "cell_type": "code",
   "execution_count": 2,
   "id": "e99f53cc-ecef-4549-8233-4d16e83fc207",
   "metadata": {},
   "outputs": [
    {
     "name": "stdout",
     "output_type": "stream",
     "text": [
      "cat.1009.jpg\n",
      "cat.1009.json\n",
      "dog.1009.jpg\n",
      "dog.1009.json\n"
     ]
    }
   ],
   "source": [
    "!datachain ls gs://datachain-demo/dogs-and-cats/*1009*"
   ]
  },
  {
   "cell_type": "markdown",
   "id": "634b8ebb-79f5-489f-8159-3d18ae73085d",
   "metadata": {},
   "source": [
    "Metadata in `cat.1009.json` corresponds to image `cat.1009.jpg`. For this simple annotation, we just eyeball this pair. Notice how the file type is specified as \"image\" for convenience; this avoids using the PIL library every time to open a binary file."
   ]
  },
  {
   "cell_type": "code",
   "execution_count": 33,
   "id": "a901365a-c0a5-48cf-9a5e-acb6967480a9",
   "metadata": {},
   "outputs": [
    {
     "name": "stderr",
     "output_type": "stream",
     "text": [
      "Processed: 1 rows [00:00, 703.15 rows/s]\n"
     ]
    },
    {
     "data": {
      "image/jpeg": "[encoded data removed]",
      "text/plain": [
       "<PIL.JpegImagePlugin.JpegImageFile image mode=RGB size=353x400>"
      ]
     },
     "execution_count": 33,
     "metadata": {},
     "output_type": "execute_result"
    }
   ],
   "source": [
    "next(DataChain.from_storage('gs://datachain-demo/dogs-and-cats/cat.1009.jpg', type='image').collect(\"file\")).read()"
   ]
  },
  {
   "cell_type": "code",
   "execution_count": 4,
   "id": "3bed8e31-5e21-45ef-b2f8-896251994ac5",
   "metadata": {},
   "outputs": [
    {
     "name": "stderr",
     "output_type": "stream",
     "text": [
      "Processed: 1 rows [00:00, 923.25 rows/s]\n"
     ]
    },
    {
     "data": {
      "text/plain": [
       "'{\"class\": \"cat\", \"id\": \"1009\", \"num_annotators\": 8, \"inference\": {\"class\": \"dog\", \"confidence\": 0.68}}'"
      ]
     },
     "execution_count": 4,
     "metadata": {},
     "output_type": "execute_result"
    }
   ],
   "source": [
    "next(DataChain.from_storage('gs://datachain-demo/dogs-and-cats/cat.1009.json', type='text').collect(\"file\")).read()"
   ]
  },
  {
   "cell_type": "markdown",
   "id": "0ff23f6d-fb2e-4c2f-89c2-5aefd1dd959a",
   "metadata": {},
   "source": [
    "Pydantic schema for this metadata layout goes as follows:"
   ]
  },
  {
   "cell_type": "code",
   "execution_count": 5,
   "id": "57cb1fb8-c888-48fb-a193-18fefe2475d7",
   "metadata": {},
   "outputs": [
    {
     "name": "stderr",
     "output_type": "stream",
     "text": [
      "Processed: 1 rows [00:00, 1036.40 rows/s]\n",
      "Download: 0.00B [00:00, ?B/s]"
     ]
    },
    {
     "name": "stdout",
     "output_type": "stream",
     "text": [
      "# generated by datamodel-codegen:\n",
      "#   filename:  <stdin>\n",
      "#   timestamp: 2024-07-30T20:33:38+00:00\n",
      "\n",
      "from __future__ import annotations\n",
      "\n",
      "from pydantic import BaseModel, Field\n",
      "\n",
      "\n",
      "class Inference(BaseModel):\n",
      "    class_: str = Field(..., alias='class')\n",
      "    confidence: float\n",
      "\n",
      "\n",
      "class Modeljson970d6f6a76f94747a1252f1f68d7f251(BaseModel):\n",
      "    class_: str = Field(..., alias='class')\n",
      "    id: str\n",
      "    num_annotators: int\n",
      "    inference: Inference\n",
      "\n",
      "\n",
      "from datachain.lib.data_model import DataModel\n",
      "\n",
      "\n",
      "DataModel.register(Modeljson970d6f6a76f94747a1252f1f68d7f251)\n",
      "\n",
      "\n",
      "spec=Modeljson970d6f6a76f94747a1252f1f68d7f251\n",
      "\n"
     ]
    },
    {
     "name": "stderr",
     "output_type": "stream",
     "text": [
      "\n",
      "Download: 102B [00:00, 172B/s]ws/s]\u001b[A\n",
      "Processed: 1 rows [00:00, 335.01 rows/s]\n"
     ]
    },
    {
     "data": {
      "text/plain": [
       "<datachain.lib.dc.DataChain at 0x13b2a28b0>"
      ]
     },
     "execution_count": 5,
     "metadata": {},
     "output_type": "execute_result"
    }
   ],
   "source": [
    "from datachain.lib.dc import Column, DataChain\n",
    "DataChain.from_storage('gs://datachain-demo/dogs-and-cats/cat.1009.json', type='text').print_json_schema().exec()"
   ]
  },
  {
   "cell_type": "markdown",
   "id": "663313da-cda8-4334-a8fe-7014ba13ccc3",
   "metadata": {},
   "source": [
    "At root level, we can see fields `class`, `id`, and `num_annotators`, and a nested field `inference` holding an object with fields `class` and `confidence`. As we can see, this schema fully describes our dataset sample.\n",
    "\n",
    "💡 By default, schema generator uses randomly assigned root class names, like _Modeljson9bb238bdb73940458dc4ee87445b112d_ – which can be changed with a `model_name` argument. "
   ]
  },
  {
   "cell_type": "markdown",
   "id": "2c613e7c-eb8a-4ad3-b710-b89bed50a901",
   "metadata": {},
   "source": [
    "<a id='jsonl'></a>\n",
    "## JSON lines format\n",
    "\n",
    "JSON lines format is also relatively straighforward. It assumes that each sample corresponds to a JSON object stored in a separate line of a common `.jsonl` file.\n",
    "\n",
    "For example, here is a Pydantic schema for [localized narratives](https://google.github.io/localized-narratives/) metadata from the [Google OpenImages](https://storage.googleapis.com/openimages/web/index.html) dataset. Note how we can assign an informative root model name while parsing these narratives:"
   ]
  },
  {
   "cell_type": "code",
   "execution_count": 7,
   "id": "9f9c77e2-9e24-43ec-954c-239a797f814e",
   "metadata": {
    "scrolled": true
   },
   "outputs": [
    {
     "name": "stderr",
     "output_type": "stream",
     "text": [
      "Processed: 1 rows [00:00, 796.79 rows/s]\n",
      "Download: 18.1kB [00:00, 185kB/s]"
     ]
    },
    {
     "name": "stdout",
     "output_type": "stream",
     "text": [
      "# generated by datamodel-codegen:\n",
      "#   filename:  <stdin>\n",
      "#   timestamp: 2024-07-30T20:33:54+00:00\n",
      "\n",
      "from __future__ import annotations\n",
      "\n",
      "from typing import List\n",
      "\n",
      "from pydantic import BaseModel\n",
      "\n",
      "\n",
      "class TimedCaptionItem(BaseModel):\n",
      "    utterance: str\n",
      "    start_time: float\n",
      "    end_time: float\n",
      "\n",
      "\n",
      "class Trace(BaseModel):\n",
      "    x: float\n",
      "    y: float\n",
      "    t: float\n",
      "\n",
      "\n",
      "class Narrative(BaseModel):\n",
      "    dataset_id: str\n",
      "    image_id: str\n",
      "    annotator_id: int\n",
      "    caption: str\n",
      "    timed_caption: List[TimedCaptionItem]\n",
      "    traces: List[List[Trace]]\n",
      "    voice_recording: str\n",
      "\n",
      "\n",
      "from datachain.lib.data_model import DataModel\n",
      "\n",
      "\n",
      "DataModel.register(Narrative)\n",
      "\n",
      "\n",
      "spec=Narrative\n",
      "\n"
     ]
    },
    {
     "name": "stderr",
     "output_type": "stream",
     "text": [
      "\n",
      "Download: 30.6kB [00:00, 46.4kB/s]]\u001b[A\n",
      "Processed: 1 rows [00:00, 425.86 rows/s]\n"
     ]
    },
    {
     "data": {
      "text/plain": [
       "<datachain.lib.dc.DataChain at 0x13b4026a0>"
      ]
     },
     "execution_count": 7,
     "metadata": {},
     "output_type": "execute_result"
    }
   ],
   "source": [
    "from datachain.lib.dc import Column, DataChain\n",
    "uri = \"gs://datachain-demo/openimages-jsonl/open_images_validation_localized_narratives.jsonl\"\n",
    "DataChain.from_storage(uri).print_jsonl_schema(model_name=\"Narrative\").exec()"
   ]
  },
  {
   "cell_type": "markdown",
   "id": "78c59fe4-b800-47af-88f1-58f95fdb88bc",
   "metadata": {},
   "source": [
    "<a id='nested'></a>\n",
    "## Nested JSON schemas\n",
    "\n",
    "Simple JSON schemas are easy to understand but are not flexible because they cannot offer the common (\"shared\") metadata block describing the entire dataset, and cannot be easily extended with new annotation types. \n",
    "\n",
    "For this reason, richly annotated datasets (like [Microsoft COCO](https://cocodataset.org/#home)) are often bundled with nested JSON files.\n",
    "\n",
    "Nested annotations typically have a schema that collectively describes the dataset at root level, while individual samples are described in separate JSON arrays organized by application. For instance, the following JSON file for image captions features a root-level object `Info` describing the entire dataset, and a list of licenses. Samples are described in arrays under keys `images` and `annotations`:"
   ]
  },
  {
   "cell_type": "code",
   "execution_count": 8,
   "id": "41c68b60-9da9-453a-8d50-c1c49961073a",
   "metadata": {
    "scrolled": true
   },
   "outputs": [
    {
     "name": "stderr",
     "output_type": "stream",
     "text": [
      "Processed: 1 rows [00:00, 1071.89 rows/s]\n",
      "Download: 0.00B [00:00, ?B/s]"
     ]
    },
    {
     "name": "stdout",
     "output_type": "stream",
     "text": [
      "# generated by datamodel-codegen:\n",
      "#   filename:  <stdin>\n",
      "#   timestamp: 2024-07-30T20:34:08+00:00\n",
      "\n",
      "from __future__ import annotations\n",
      "\n",
      "from typing import List\n",
      "\n",
      "from pydantic import BaseModel\n",
      "\n",
      "\n",
      "class Info(BaseModel):\n",
      "    description: str\n",
      "    url: str\n",
      "    version: str\n",
      "    year: int\n",
      "    contributor: str\n",
      "    date_created: str\n",
      "\n",
      "\n",
      "class License(BaseModel):\n",
      "    url: str\n",
      "    id: int\n",
      "    name: str\n",
      "\n",
      "\n",
      "class Image(BaseModel):\n",
      "    license: int\n",
      "    file_name: str\n",
      "    coco_url: str\n",
      "    height: int\n",
      "    width: int\n",
      "    date_captured: str\n",
      "    flickr_url: str\n",
      "    id: int\n",
      "\n",
      "\n",
      "class Annotation(BaseModel):\n",
      "    image_id: int\n",
      "    id: int\n",
      "    caption: str\n",
      "\n",
      "\n",
      "class COCO(BaseModel):\n",
      "    info: Info\n",
      "    licenses: List[License]\n",
      "    images: List[Image]\n",
      "    annotations: List[Annotation]\n",
      "\n",
      "\n",
      "from datachain.lib.data_model import DataModel\n",
      "\n",
      "\n",
      "DataModel.register(COCO)\n",
      "\n",
      "\n",
      "spec=COCO\n",
      "\n"
     ]
    },
    {
     "name": "stderr",
     "output_type": "stream",
     "text": [
      "\n",
      "Download: 3.69MB [00:02, 1.66MB/s]]\u001b[A\n",
      "Processed: 1 rows [00:00, 306.09 rows/s]\n"
     ]
    },
    {
     "data": {
      "text/plain": [
       "<datachain.lib.dc.DataChain at 0x13b531340>"
      ]
     },
     "execution_count": 8,
     "metadata": {},
     "output_type": "execute_result"
    }
   ],
   "source": [
    "from datachain.lib.dc import Column, DataChain\n",
    "DataChain.from_storage(\"gs://datachain-demo/coco2017/annotations/captions_val2017.json\").print_json_schema(model_name=\"COCO\").exec()\n"
   ]
  },
  {
   "cell_type": "markdown",
   "id": "26917cfd-8d8e-4b3d-a6ec-e17e96a30cfc",
   "metadata": {},
   "source": [
    "To specify which part of the top-level JSON object contains the annotation we care about, DataChain schema parser supports [JMESPATH](https://jmespath.org) expression argument which is expected to resolve to an object of interest, or to a JSON array of such objects.\n",
    "\n",
    "For example, here is how to reduce the MS COCO captions schema above to the `annotations` array:"
   ]
  },
  {
   "cell_type": "code",
   "execution_count": 10,
   "id": "4703f3a5-fd50-4270-9d25-2270a55aa67b",
   "metadata": {},
   "outputs": [
    {
     "name": "stderr",
     "output_type": "stream",
     "text": [
      "Processed: 1 rows [00:00, 1043.88 rows/s]\n",
      "Download: 0.00B [00:00, ?B/s]"
     ]
    },
    {
     "name": "stdout",
     "output_type": "stream",
     "text": [
      "# generated by datamodel-codegen:\n",
      "#   filename:  <stdin>\n",
      "#   timestamp: 2024-07-30T20:34:29+00:00\n",
      "\n",
      "from __future__ import annotations\n",
      "\n",
      "from pydantic import BaseModel\n",
      "\n",
      "\n",
      "class Annotations(BaseModel):\n",
      "    image_id: int\n",
      "    id: int\n",
      "    caption: str\n",
      "\n",
      "\n",
      "from datachain.lib.data_model import DataModel\n",
      "\n",
      "\n",
      "DataModel.register(Annotations)\n",
      "\n",
      "\n",
      "spec=Annotations\n",
      "\n"
     ]
    },
    {
     "name": "stderr",
     "output_type": "stream",
     "text": [
      "\n",
      "Download: 3.69MB [00:00, 6.97MB/s]]\u001b[A\n",
      "Processed: 1 rows [00:00, 398.70 rows/s]\n"
     ]
    },
    {
     "data": {
      "text/plain": [
       "<datachain.lib.dc.DataChain at 0x13a65c160>"
      ]
     },
     "execution_count": 10,
     "metadata": {},
     "output_type": "execute_result"
    }
   ],
   "source": [
    "DataChain.from_storage(\"gs://datachain-demo/coco2017/annotations/captions_val2017.json\").print_json_schema(jmespath=\"annotations\", model_name=\"Annotations\").exec()"
   ]
  },
  {
   "cell_type": "markdown",
   "id": "0f2fe606-066b-4e42-98a4-0637e8aebe6e",
   "metadata": {},
   "source": [
    "<a id='parsing'></a>\n",
    "## Parsing JSON files\n",
    "\n",
    "Once the schema is correctly identified, parsing the JSON files into the metadata becomes a one-liner call to `from_json()` or `from_jsonl()`. During parsing, the metadata is validated against the Pydantic class definitions and added onto the chain:"
   ]
  },
  {
   "cell_type": "code",
   "execution_count": 11,
   "id": "453618d2-5a7d-4501-96f5-4e7eb25e379b",
   "metadata": {
    "scrolled": true
   },
   "outputs": [
    {
     "name": "stderr",
     "output_type": "stream",
     "text": [
      "Processed: 1 rows [00:00, 973.61 rows/s]\n",
      "Download: 0.00B [00:00, ?B/s]\n",
      "Download: 102B [00:00, 188B/s]ws/s]\u001b[A\n",
      "Processed: 1 rows [00:00, 406.70 rows/s]\n",
      "Processed: 1 rows [00:00, 1138.83 rows/s]\n",
      "Processed: 0 rows [00:00, ? rows/s]\n",
      "Download: 0.00B [00:00, ?B/s]\u001b[A\n",
      "\n",
      "Download: 102B [00:00, 23.5kB/s]/s]\u001b[A\u001b[A\n",
      "Processed: 1 rows [00:00,  1.62 rows/s]\n",
      "Generated: 1 rows [00:00, 367.79 rows/s]\n"
     ]
    },
    {
     "data": {
      "text/html": [
       "<div>\n",
       "<style scoped>\n",
       "    .dataframe tbody tr th:only-of-type {\n",
       "        vertical-align: middle;\n",
       "    }\n",
       "\n",
       "    .dataframe tbody tr th {\n",
       "        vertical-align: top;\n",
       "    }\n",
       "\n",
       "    .dataframe thead tr th {\n",
       "        text-align: left;\n",
       "    }\n",
       "</style>\n",
       "<table border=\"1\" class=\"dataframe\">\n",
       "  <thead>\n",
       "    <tr>\n",
       "      <th></th>\n",
       "      <th>json</th>\n",
       "      <th>json</th>\n",
       "      <th>json</th>\n",
       "      <th>json</th>\n",
       "      <th>json</th>\n",
       "    </tr>\n",
       "    <tr>\n",
       "      <th></th>\n",
       "      <th>class_</th>\n",
       "      <th>id</th>\n",
       "      <th>num_annotators</th>\n",
       "      <th>inference</th>\n",
       "      <th>inference</th>\n",
       "    </tr>\n",
       "    <tr>\n",
       "      <th></th>\n",
       "      <th></th>\n",
       "      <th></th>\n",
       "      <th></th>\n",
       "      <th>class_</th>\n",
       "      <th>confidence</th>\n",
       "    </tr>\n",
       "  </thead>\n",
       "  <tbody>\n",
       "    <tr>\n",
       "      <th>0</th>\n",
       "      <td>cat</td>\n",
       "      <td>1009</td>\n",
       "      <td>8</td>\n",
       "      <td>dog</td>\n",
       "      <td>0.68</td>\n",
       "    </tr>\n",
       "  </tbody>\n",
       "</table>\n",
       "</div>"
      ],
      "text/plain": [
       "    json  json           json      json       json\n",
       "  class_    id num_annotators inference  inference\n",
       "                                 class_ confidence\n",
       "0    cat  1009              8       dog       0.68"
      ]
     },
     "metadata": {},
     "output_type": "display_data"
    }
   ],
   "source": [
    "from datachain.lib.dc import Column, DataChain\n",
    "DataChain.from_json('gs://datachain-demo/dogs-and-cats/cat.1009.json').show()"
   ]
  },
  {
   "cell_type": "markdown",
   "id": "9f393c4f-fc74-4556-8d39-55e99ec75ca9",
   "metadata": {},
   "source": [
    "<a id='errors'></a>\n",
    "### Dealing with validation errors\n",
    "\n",
    "Sometimes data records fail to validate against the Pydantic class definition at parse time.\n",
    "This may indicate one of the two problems:\n",
    "\n",
    "1. The raw data has errors\n",
    "2. The automatically defined schema is incomplete and needs to be corrected (e.g. some fields must be made \"optional\")\n",
    "\n",
    "In all cases, the first step is to find the data piece that causes the trouble.\n",
    "\n",
    "To debug these parsing errors, it helps to limit the number of JSON files to process, the number of objects parsed, or the scope of JSON metadata. In the following example, some json-pairs fail to validate, and Pydantic error message highlights the offending filename(s):"
   ]
  },
  {
   "cell_type": "code",
   "execution_count": 12,
   "id": "483af1bf-4881-470f-952c-1a2da3c21636",
   "metadata": {
    "scrolled": true
   },
   "outputs": [
    {
     "name": "stderr",
     "output_type": "stream",
     "text": [
      "Processed: 10 rows [00:00, 4655.17 rows/s]\n",
      "Download: 0.00B [00:00, ?B/s]\n",
      "Download: 1.45kB [00:00, 2.69kB/s]]\u001b[A\n",
      "Processed: 1 rows [00:00, 362.58 rows/s]\n",
      "Processed: 10 rows [00:00, 4265.97 rows/s]\n",
      "Processed: 0 rows [00:00, ? rows/s]\n",
      "Processed: 2 rows [00:00,  3.42 rows/s]"
     ]
    },
    {
     "name": "stdout",
     "output_type": "stream",
     "text": [
      "Validation error occurred in row 0 file 3122f16026310c3e.json: 2 validation errors for OpenImage\n",
      "image_id.Thumbnail300KURL\n",
      "  Input should be a valid string [type=string_type, input_value=nan, input_type=float]\n",
      "    For further information visit https://errors.pydantic.dev/2.8/v/string_type\n",
      "image_id.Rotation\n",
      "  Input should be a valid string [type=string_type, input_value=nan, input_type=float]\n",
      "    For further information visit https://errors.pydantic.dev/2.8/v/string_type\n"
     ]
    },
    {
     "name": "stderr",
     "output_type": "stream",
     "text": [
      "\n",
      "Processed: 3 rows [00:00,  3.18 rows/s]"
     ]
    },
    {
     "name": "stdout",
     "output_type": "stream",
     "text": [
      "Validation error occurred in row 0 file 348824dd8c0c74e6.json: 1 validation error for OpenImage\n",
      "image_id.Rotation\n",
      "  Input should be a valid string [type=string_type, input_value=nan, input_type=float]\n",
      "    For further information visit https://errors.pydantic.dev/2.8/v/string_type\n"
     ]
    },
    {
     "name": "stderr",
     "output_type": "stream",
     "text": [
      "Processed: 4 rows [00:01,  2.88 rows/s]"
     ]
    },
    {
     "name": "stdout",
     "output_type": "stream",
     "text": [
      "Validation error occurred in row 0 file 358315a151efa740.json: 1 validation error for OpenImage\n",
      "image_id.Rotation\n",
      "  Input should be a valid string [type=string_type, input_value=0.0, input_type=float]\n",
      "    For further information visit https://errors.pydantic.dev/2.8/v/string_type\n"
     ]
    },
    {
     "name": "stderr",
     "output_type": "stream",
     "text": [
      "\n",
      "Processed: 5 rows [00:01,  2.58 rows/s]"
     ]
    },
    {
     "name": "stdout",
     "output_type": "stream",
     "text": [
      "Validation error occurred in row 0 file 364d0be55f24616a.json: 1 validation error for OpenImage\n",
      "image_id.Rotation\n",
      "  Input should be a valid string [type=string_type, input_value=0.0, input_type=float]\n",
      "    For further information visit https://errors.pydantic.dev/2.8/v/string_type\n"
     ]
    },
    {
     "name": "stderr",
     "output_type": "stream",
     "text": [
      "Processed: 6 rows [00:02,  2.42 rows/s]"
     ]
    },
    {
     "name": "stdout",
     "output_type": "stream",
     "text": [
      "Validation error occurred in row 0 file 37b72b4e808bcd30.json: 1 validation error for OpenImage\n",
      "image_id.Rotation\n",
      "  Input should be a valid string [type=string_type, input_value=0.0, input_type=float]\n",
      "    For further information visit https://errors.pydantic.dev/2.8/v/string_type\n"
     ]
    },
    {
     "name": "stderr",
     "output_type": "stream",
     "text": [
      "\n",
      "Processed: 7 rows [00:02,  2.38 rows/s]"
     ]
    },
    {
     "name": "stdout",
     "output_type": "stream",
     "text": [
      "Validation error occurred in row 0 file 384e33c0ffdfe052.json: 1 validation error for OpenImage\n",
      "image_id.Rotation\n",
      "  Input should be a valid string [type=string_type, input_value=0.0, input_type=float]\n",
      "    For further information visit https://errors.pydantic.dev/2.8/v/string_type\n"
     ]
    },
    {
     "name": "stderr",
     "output_type": "stream",
     "text": [
      "\n",
      "Processed: 8 rows [00:03,  2.45 rows/s]"
     ]
    },
    {
     "name": "stdout",
     "output_type": "stream",
     "text": [
      "Validation error occurred in row 0 file 39224d0d713cb866.json: 1 validation error for OpenImage\n",
      "image_id.Rotation\n",
      "  Input should be a valid string [type=string_type, input_value=0.0, input_type=float]\n",
      "    For further information visit https://errors.pydantic.dev/2.8/v/string_type\n"
     ]
    },
    {
     "name": "stderr",
     "output_type": "stream",
     "text": [
      "\n",
      "Processed: 9 rows [00:03,  2.28 rows/s]"
     ]
    },
    {
     "name": "stdout",
     "output_type": "stream",
     "text": [
      "Validation error occurred in row 0 file 3b727441da9834b4.json: 1 validation error for OpenImage\n",
      "image_id.Rotation\n",
      "  Input should be a valid string [type=string_type, input_value=0.0, input_type=float]\n",
      "    For further information visit https://errors.pydantic.dev/2.8/v/string_type\n"
     ]
    },
    {
     "name": "stderr",
     "output_type": "stream",
     "text": [
      "\n",
      "Processed: 10 rows [00:04,  2.30 rows/s]"
     ]
    },
    {
     "name": "stdout",
     "output_type": "stream",
     "text": [
      "Validation error occurred in row 0 file 3cbec6265c443ea4.json: 1 validation error for OpenImage\n",
      "image_id.Rotation\n",
      "  Input should be a valid string [type=string_type, input_value=0.0, input_type=float]\n",
      "    For further information visit https://errors.pydantic.dev/2.8/v/string_type\n"
     ]
    },
    {
     "name": "stderr",
     "output_type": "stream",
     "text": [
      "\n",
      "Download: 25.6kB [00:03, 6.58kB/s]\u001b[A\n",
      "Processed: 10 rows [00:04,  2.19 rows/s]"
     ]
    },
    {
     "name": "stdout",
     "output_type": "stream",
     "text": [
      "Validation error occurred in row 0 file 3fa6819854b27685.json: 1 validation error for OpenImage\n",
      "image_id.Rotation\n",
      "  Input should be a valid string [type=string_type, input_value=0.0, input_type=float]\n",
      "    For further information visit https://errors.pydantic.dev/2.8/v/string_type\n"
     ]
    },
    {
     "name": "stderr",
     "output_type": "stream",
     "text": [
      "\n"
     ]
    },
    {
     "data": {
      "text/plain": [
       "<datachain.lib.dc.DataChain at 0x13d916610>"
      ]
     },
     "execution_count": 12,
     "metadata": {},
     "output_type": "execute_result"
    }
   ],
   "source": [
    "DataChain.from_json(\"gs://datachain-demo/openimages-v6-test-jsonpairs/3*json\", model_name=\"OpenImage\").exec()"
   ]
  },
  {
   "cell_type": "markdown",
   "id": "3cc15e11-1aeb-47f6-8b47-8f79db40e72f",
   "metadata": {},
   "source": [
    "As we can see from examining one of the offending files, the problem lies in the key `Thumbnal300KURL` which features value `NaN` instead of an empty string: \n"
   ]
  },
  {
   "cell_type": "code",
   "execution_count": 13,
   "id": "cd2aa182-c57b-4dc8-9931-fe61988f9fd8",
   "metadata": {},
   "outputs": [
    {
     "name": "stderr",
     "output_type": "stream",
     "text": [
      "Processed: 1 rows [00:00, 780.63 rows/s]\n"
     ]
    },
    {
     "data": {
      "text/plain": [
       "'{\\n  \"id\": \"3122f16026310c3e\",\\n  \"split\": \"test\",\\n  \"image_id\": {\\n    \"Subset\": \"test\",\\n    \"OriginalURL\": \"https://c7.staticflickr.com/3/2275/2407197299_d4ea3fdab2_o.jpg\",\\n    \"OriginalLandingURL\": \"https://www.flickr.com/photos/starshaped/2407197299\",\\n    \"License\": \"https://creativecommons.org/licenses/by/2.0/\",\\n    \"AuthorProfileURL\": \"https://www.flickr.com/people/starshaped/\",\\n    \"Author\": \"Aubrey\",\\n    \"Title\": \"My worst nightmare\",\\n    \"OriginalSize\": 85370,\\n    \"OriginalMD5\": \"O+50caXE4Ll4s3pmWcFa2w==\",\\n    \"Thumbnail300KURL\": NaN,\\n    \"Rotation\": NaN\\n  },\\n  \"classifications\": [\\n    {\\n      \"Source\": \"verification\",\\n      \"LabelName\": \"/m/0k0pj\",\\n      \"Confidence\": 0\\n    },\\n    {\\n      \"Source\": \"verification\",\\n      \"LabelName\": \"/m/03q69\",\\n      \"Confidence\": 0\\n    },\\n    {\\n      \"Source\": \"verification\",\\n      \"LabelName\": \"/m/02dl1y\",\\n      \"Confidence\": 0\\n    },\\n    {\\n      \"Source\": \"verification\",\\n      \"LabelName\": \"/m/014sv8\",\\n      \"Confidence\": 0\\n    },\\n    {\\n      \"Source\": \"verification\",\\n      \"LabelName\": \"/m/0dzct\",\\n      \"Confidence\": 0\\n    },\\n    {\\n      \"Source\": \"verification\",\\n      \"LabelName\": \"/m/04hgtk\",\\n      \"Confidence\": 0\\n    },\\n    {\\n      \"Source\": \"verification\",\\n      \"LabelName\": \"/m/09j2d\",\\n      \"Confidence\": 0\\n    },\\n    {\\n      \"Source\": \"verification\",\\n      \"LabelName\": \"/m/0283dt1\",\\n      \"Confidence\": 0\\n    },\\n    {\\n      \"Source\": \"verification\",\\n      \"LabelName\": \"/m/0463sg\",\\n      \"Confidence\": 0\\n    }\\n  ]\\n}'"
      ]
     },
     "execution_count": 13,
     "metadata": {},
     "output_type": "execute_result"
    }
   ],
   "source": [
    "next(DataChain.from_storage(\"gs://datachain-demo/openimages-v6-test-jsonpairs/3122f16026310c3e.json\", type='text').collect(\"file\")).read()\n"
   ]
  },
  {
   "cell_type": "markdown",
   "id": "6c18bbdb-5bca-4605-a921-0372230fcf04",
   "metadata": {},
   "source": [
    "The parser has no better options but to ignore the non-compliant JSON file; but a better solution, of course, is to fix the errors in data.\n",
    "\n",
    "⚠️ Finding data error in large nested JSONs can be a little bit trickier because error messages can be overwhelming. There are two technique that help with that: \n",
    "\n",
    "- `nrows` argument can limit the number of JSON lines or array members processed\n",
    "- [JMESPATH](https://jmespath.org) is a great tool to slice JSON arrays or reduce the expressions that potentially cause trouble:"
   ]
  },
  {
   "cell_type": "code",
   "execution_count": 14,
   "id": "da0b968f-ec9b-4920-a617-ba28abfa6e8b",
   "metadata": {},
   "outputs": [
    {
     "name": "stderr",
     "output_type": "stream",
     "text": [
      "Processed: 1 rows [00:00, 1089.71 rows/s]\n",
      "Download: 0.00B [00:00, ?B/s]\n",
      "Download: 3.69MB [00:00, 6.86MB/s]]\u001b[A\n",
      "Processed: 1 rows [00:00, 377.49 rows/s]\n",
      "Processed: 1 rows [00:00, 1073.26 rows/s]\n",
      "Processed: 0 rows [00:00, ? rows/s]\n",
      "Download: 0.00B [00:00, ?B/s]\u001b[A\n",
      "\n",
      "Download: 3.69MB [00:00, 60.2MB/s]]\u001b[A\u001b[A\n",
      "Processed: 1 rows [00:01,  1.01s/ rows]\n",
      "Generated: 2 rows [00:00, 666.40 rows/s]\n"
     ]
    },
    {
     "data": {
      "text/html": [
       "<div>\n",
       "<style scoped>\n",
       "    .dataframe tbody tr th:only-of-type {\n",
       "        vertical-align: middle;\n",
       "    }\n",
       "\n",
       "    .dataframe tbody tr th {\n",
       "        vertical-align: top;\n",
       "    }\n",
       "\n",
       "    .dataframe thead tr th {\n",
       "        text-align: left;\n",
       "    }\n",
       "</style>\n",
       "<table border=\"1\" class=\"dataframe\">\n",
       "  <thead>\n",
       "    <tr>\n",
       "      <th></th>\n",
       "      <th>annotations</th>\n",
       "      <th>annotations</th>\n",
       "      <th>annotations</th>\n",
       "    </tr>\n",
       "    <tr>\n",
       "      <th></th>\n",
       "      <th>image_id</th>\n",
       "      <th>id</th>\n",
       "      <th>caption</th>\n",
       "    </tr>\n",
       "  </thead>\n",
       "  <tbody>\n",
       "    <tr>\n",
       "      <th>0</th>\n",
       "      <td>179765</td>\n",
       "      <td>182</td>\n",
       "      <td>A Honda motorcycle parked in a grass driveway</td>\n",
       "    </tr>\n",
       "    <tr>\n",
       "      <th>1</th>\n",
       "      <td>190236</td>\n",
       "      <td>401</td>\n",
       "      <td>An office cubicle with four different types of...</td>\n",
       "    </tr>\n",
       "  </tbody>\n",
       "</table>\n",
       "</div>"
      ],
      "text/plain": [
       "  annotations annotations                                        annotations\n",
       "     image_id          id                                            caption\n",
       "0      179765         182      A Honda motorcycle parked in a grass driveway\n",
       "1      190236         401  An office cubicle with four different types of..."
      ]
     },
     "metadata": {},
     "output_type": "display_data"
    }
   ],
   "source": [
    "DataChain.from_json(\"gs://datachain-demo/coco2017/annotations/captions_val2017.json\", jmespath=\"annotations[1:3]\").show()"
   ]
  },
  {
   "cell_type": "markdown",
   "id": "a01ba3e6-ee63-4f24-9a49-a4edc086683e",
   "metadata": {},
   "source": [
    "<a id='static'></a>\n",
    "## Static schema definitions\n",
    "\n",
    "Sometimes we are not satisfied with the automatically generated and implicitly instatiated schema. Here are some cases where it may happen:\n",
    "\n",
    "* we plan to reuse our dataset in another Python session, so we want to code an explicit data model.\n",
    "\n",
    "* input data object may have too many properties and we want to trim it\n",
    "\n",
    "* automatic schema generator may produce wrong field types, or remain unaware of fields that must be made optional or mandatory.\n",
    "\n",
    "In all those cases, the simplest way forward is to start with an auto-generated schema and modify it to fit the bill. Here is an example of an auto-generated schema we intend to modify:\n",
    "\n",
    "```\n",
    "            # generated by datamodel-codegen:\n",
    "            #   filename:  <stdin>\n",
    "            #   timestamp: 2024-07-25T22:53:27+00:00\n",
    "            \n",
    "            from __future__ import annotations\n",
    "            \n",
    "            from pydantic import BaseModel, Field\n",
    "            \n",
    "            \n",
    "            class Inference(BaseModel):\n",
    "                class_: str = Field(..., alias='class')\n",
    "                confidence: float\n",
    "            \n",
    "            \n",
    "            class Modeljsone31f95f9eaa1404ab3277e455970e295(BaseModel):\n",
    "                class_: str = Field(..., alias='class')\n",
    "                id: str\n",
    "                num_annotators: int\n",
    "                inference: Inference\n",
    "            \n",
    "            \n",
    "            from datachain.lib.data_model import DataModel\n",
    "            \n",
    "            \n",
    "            DataModel.register(Modeljsone31f95f9eaa1404ab3277e455970e295)\n",
    "            \n",
    "            \n",
    "            spec=Modeljsone31f95f9eaa1404ab3277e455970e295\n",
    "```\n",
    "\n",
    " \n",
    " Let us trim it for an abbreviated data model and feed it back to the JSON parser:"
   ]
  },
  {
   "cell_type": "code",
   "execution_count": 15,
   "id": "c090e278-c82b-43c8-a0ff-26ff0f764da9",
   "metadata": {},
   "outputs": [
    {
     "name": "stderr",
     "output_type": "stream",
     "text": [
      "Processed: 1 rows [00:00, 901.81 rows/s]\n",
      "Download: 0.00B [00:00, ?B/s]\n",
      "Download: 102B [00:00, 185B/s]ws/s]\u001b[A\n",
      "Processed: 1 rows [00:00, 364.69 rows/s]\n",
      "Processed: 1 rows [00:00, 643.40 rows/s]\n",
      "Processed: 0 rows [00:00, ? rows/s]\n",
      "Download: 0.00B [00:00, ?B/s]\u001b[A\n",
      "\n",
      "Download: 102B [00:00, 5.52kB/s]/s]\u001b[A\u001b[A\n",
      "Processed: 1 rows [00:00,  2.69 rows/s]\n",
      "Generated: 1 rows [00:00, 99.26 rows/s]\n"
     ]
    },
    {
     "data": {
      "text/html": [
       "<div>\n",
       "<style scoped>\n",
       "    .dataframe tbody tr th:only-of-type {\n",
       "        vertical-align: middle;\n",
       "    }\n",
       "\n",
       "    .dataframe tbody tr th {\n",
       "        vertical-align: top;\n",
       "    }\n",
       "\n",
       "    .dataframe thead tr th {\n",
       "        text-align: left;\n",
       "    }\n",
       "</style>\n",
       "<table border=\"1\" class=\"dataframe\">\n",
       "  <thead>\n",
       "    <tr>\n",
       "      <th></th>\n",
       "      <th>animal</th>\n",
       "      <th>animal</th>\n",
       "      <th>animal</th>\n",
       "      <th>animal</th>\n",
       "    </tr>\n",
       "    <tr>\n",
       "      <th></th>\n",
       "      <th>class_</th>\n",
       "      <th>id</th>\n",
       "      <th>num_annotators</th>\n",
       "      <th>inference</th>\n",
       "    </tr>\n",
       "    <tr>\n",
       "      <th></th>\n",
       "      <th></th>\n",
       "      <th></th>\n",
       "      <th></th>\n",
       "      <th>class_</th>\n",
       "    </tr>\n",
       "  </thead>\n",
       "  <tbody>\n",
       "    <tr>\n",
       "      <th>0</th>\n",
       "      <td>cat</td>\n",
       "      <td>1009</td>\n",
       "      <td>8</td>\n",
       "      <td>dog</td>\n",
       "    </tr>\n",
       "  </tbody>\n",
       "</table>\n",
       "</div>"
      ],
      "text/plain": [
       "  animal animal         animal    animal\n",
       "  class_     id num_annotators inference\n",
       "                                  class_\n",
       "0    cat   1009              8       dog"
      ]
     },
     "metadata": {},
     "output_type": "display_data"
    }
   ],
   "source": [
    "from datachain.lib.dc import Column, DataChain\n",
    "from pydantic import BaseModel, Field\n",
    "from typing import Optional\n",
    "\n",
    "class Inference(BaseModel):\n",
    "    class_: str = Field(..., alias='class')\n",
    "    # removed \"confidence\" key\n",
    "\n",
    "\n",
    "class AnimalModel(BaseModel):\n",
    "    class_: str = Field(..., alias='class')\n",
    "    id: str\n",
    "    # made the \"num_annotators\" optional\n",
    "    num_annotators: Optional[int]\n",
    "    inference: Inference\n",
    "\n",
    "\n",
    "from datachain.lib.data_model import DataModel\n",
    "DataModel.register(AnimalModel)\n",
    "\n",
    "DataChain.from_json('gs://datachain-demo/dogs-and-cats/cat.1009.json', spec=AnimalModel, object_name=\"animal\").show()\n"
   ]
  },
  {
   "cell_type": "markdown",
   "id": "ca79cf85-28a9-4f5a-8f25-e9054a063c83",
   "metadata": {},
   "source": [
    "<a id='merging'></a>\n",
    "## Merging annotations\n",
    "\n",
    "DataChain represents files in datasets as pointers. This means that merging JSON annotations with files they describe is a routine workflow in annotated datasets.\n",
    "\n",
    "Repeated merging may be required when working with richly annotation samples. For example, MS COCO images have meta properties, captions, and object detections assigned to them – each in its own file and JSON object. If you want to work across these annotation layers, stitching them together becomes mandatory.\n",
    "\n",
    "The following mini-tutorial shows how to build the entire COCO dataset by merging. We will be using the validation subset of 2017 data to demonstrate some typical data problems and ways to deal with them. Our goal is to build a dataset where every entry is a detected object instance (multiple objects can be detected per single image).\n",
    "\n",
    "<a id='coco'></a>\n",
    "### COCO 2017 tutorial\n"
   ]
  },
  {
   "cell_type": "code",
   "execution_count": 15,
   "id": "03a5299c-b2b3-4a96-a90c-467114a9d9e6",
   "metadata": {},
   "outputs": [],
   "source": [
    "from datachain.lib.dc import Column, DataChain \n",
    "\n",
    "images_uri=\"gs://datachain-demo/coco2017/images/val/\"\n",
    "captions_uri=\"gs://datachain-demo/coco2017/annotations/captions_val2017.json\" \n",
    "detections_uri=\"gs://datachain-demo/coco2017/annotations/instances_val2017.json\""
   ]
  },
  {
   "cell_type": "markdown",
   "id": "634a77ad-dfab-48c1-8cad-52c2ceb479e1",
   "metadata": {},
   "source": [
    "#### COCO images and files metadata\n",
    "\n",
    "The first step is to create a dataset from the storage, where 5,000 validation images live. This puts on the chain object \"file\" with fields describing the cloud location:"
   ]
  },
  {
   "cell_type": "code",
   "execution_count": 16,
   "id": "63c3b599-8583-42ef-8f71-86fbfb88efda",
   "metadata": {
    "scrolled": true
   },
   "outputs": [
    {
     "name": "stdout",
     "output_type": "stream",
     "text": [
      " file: ImageFile\n",
      "     source: str\n",
      "     parent: str\n",
      "     name: str\n",
      "     size: int\n",
      "     version: str\n",
      "     etag: str\n",
      "     is_latest: bool\n",
      "     last_modified: datetime\n",
      "     location: Union[dict, list[dict], NoneType]\n",
      "     vtype: str\n"
     ]
    }
   ],
   "source": [
    "images = DataChain.from_storage(images_uri, object_name=\"file\", type=\"image\")\n",
    "images.print_schema()"
   ]
  },
  {
   "cell_type": "markdown",
   "id": "02a9d03a-9c87-470a-8b52-ad1aed73723f",
   "metadata": {},
   "source": [
    "We already saw in discussing the [Nested JSON images](#nested) section that COCO annotation schema has two arrays at the root level – \"images\" carrying image metadata including image ids, and \"annotations\" that match annotations to image ids. So let us unpack the images metadata. By default, the object name (\"images\" above) will match the JMESAPTH expression, but it can also be renamed with `object_name` argument:"
   ]
  },
  {
   "cell_type": "code",
   "execution_count": 17,
   "id": "d9c7d246-cb9e-4811-bb7a-8211fca499a8",
   "metadata": {
    "scrolled": true
   },
   "outputs": [
    {
     "name": "stderr",
     "output_type": "stream",
     "text": [
      "Listing gs://datachain-demo: 6 objects [00:00, 108.89 objects/s]\n",
      "Processed: 1 rows [00:00, 909.04 rows/s]\n",
      "Download: 0.00B [00:00, ?B/s]\n",
      "Download: 3.69MB [00:00, 4.98MB/s]]\u001b[A\n",
      "Processed: 1 rows [00:00, 397.30 rows/s]"
     ]
    },
    {
     "name": "stdout",
     "output_type": "stream",
     "text": [
      " image: Image\n",
      "     license: int\n",
      "     file_name: str\n",
      "     coco_url: str\n",
      "     height: int\n",
      "     width: int\n",
      "     date_captured: str\n",
      "     flickr_url: str\n",
      "     id: int\n"
     ]
    },
    {
     "name": "stderr",
     "output_type": "stream",
     "text": [
      "\n"
     ]
    }
   ],
   "source": [
    "meta = DataChain.from_json(captions_uri, jmespath = \"images\", object_name=\"image\", model_name=\"Image\")\n",
    "meta.print_schema()"
   ]
  },
  {
   "cell_type": "markdown",
   "id": "e3193322-16d1-4654-b349-aa830537e0a6",
   "metadata": {},
   "source": [
    "\n",
    "Now we have two datasets which contain files and their metadata. We can join them by matching fields referencing filenames:"
   ]
  },
  {
   "cell_type": "code",
   "execution_count": 18,
   "id": "8f548f45-477d-4052-9a42-1db1205ef65e",
   "metadata": {},
   "outputs": [
    {
     "name": "stdout",
     "output_type": "stream",
     "text": [
      " file: ImageFile\n",
      "     source: str\n",
      "     parent: str\n",
      "     name: str\n",
      "     size: int\n",
      "     version: str\n",
      "     etag: str\n",
      "     is_latest: bool\n",
      "     last_modified: datetime\n",
      "     location: Union[dict, list[dict], NoneType]\n",
      "     vtype: str\n",
      " image: Image\n",
      "     license: int\n",
      "     file_name: str\n",
      "     coco_url: str\n",
      "     height: int\n",
      "     width: int\n",
      "     date_captured: str\n",
      "     flickr_url: str\n",
      "     id: int\n"
     ]
    }
   ],
   "source": [
    "images_meta = images.merge(meta, on=\"file.name\", right_on=\"image.file_name\")\n",
    "images_meta.print_schema()"
   ]
  },
  {
   "cell_type": "markdown",
   "id": "d7c699e5-6257-4e67-b65e-71bd4b3be29c",
   "metadata": {},
   "source": [
    "This datachain has been composed but not executed. Let's run it to see if we still have 5,000 samples:"
   ]
  },
  {
   "cell_type": "code",
   "execution_count": 19,
   "id": "c190b270-5f0c-431e-835b-e685e40cb700",
   "metadata": {},
   "outputs": [
    {
     "name": "stderr",
     "output_type": "stream",
     "text": [
      "Listing gs://datachain-demo: 5000 objects [00:00, 6640.81 objects/s]\n",
      "Processed: 5000 rows [00:00, 13535.35 rows/s]\n",
      "Processed: 1 rows [00:00, 984.12 rows/s]\n",
      "Processed: 0 rows [00:00, ? rows/s]\n",
      "Download: 0.00B [00:00, ?B/s]\u001b[A\n",
      "\n",
      "Generated: 0 rows [00:00, ? rows/s]\u001b[A\u001b[A\n",
      "\n",
      "Download: 3.69MB [00:00, 15.3MB/s].94 rows/s]\u001b[A\u001b[A\n",
      "Processed: 1 rows [00:00,  1.55 rows/s]\n",
      "Generated: 5000 rows [00:00, 25711.42 rows/s]\n"
     ]
    },
    {
     "data": {
      "text/plain": [
       "5000"
      ]
     },
     "execution_count": 19,
     "metadata": {},
     "output_type": "execute_result"
    }
   ],
   "source": [
    "images_meta.count()"
   ]
  },
  {
   "cell_type": "markdown",
   "id": "0b60b0bd-8005-4c8b-9e37-b8b3016202c6",
   "metadata": {},
   "source": [
    "#### Image captions\n",
    "\n",
    "Our next step is to bring captions to these images. However, COCO carries multiple caption versions for each image. If we are not interested in these versions, we can just drop the redundant entries and merge the first-choice captions with images on _image_id_ field:"
   ]
  },
  {
   "cell_type": "code",
   "execution_count": 20,
   "id": "d4bbdb3b-39b9-42f5-99e2-311b168d5782",
   "metadata": {},
   "outputs": [
    {
     "name": "stderr",
     "output_type": "stream",
     "text": [
      "Processed: 1 rows [00:00, 545.57 rows/s]\n",
      "Download: 0.00B [00:00, ?B/s]\n",
      "Download: 3.69MB [00:00, 7.09MB/s]]\u001b[A\n",
      "Processed: 1 rows [00:00, 391.70 rows/s]"
     ]
    },
    {
     "name": "stdout",
     "output_type": "stream",
     "text": [
      " file: ImageFile\n",
      "     source: str\n",
      "     parent: str\n",
      "     name: str\n",
      "     size: int\n",
      "     version: str\n",
      "     etag: str\n",
      "     is_latest: bool\n",
      "     last_modified: datetime\n",
      "     location: Union[dict, list[dict], NoneType]\n",
      "     vtype: str\n",
      " image: Image\n",
      "     license: int\n",
      "     file_name: str\n",
      "     coco_url: str\n",
      "     height: int\n",
      "     width: int\n",
      "     date_captured: str\n",
      "     flickr_url: str\n",
      "     id: int\n",
      " annotation: Annotation\n",
      "     image_id: int\n",
      "     id: int\n",
      "     caption: str\n"
     ]
    },
    {
     "name": "stderr",
     "output_type": "stream",
     "text": [
      "\n"
     ]
    }
   ],
   "source": [
    "captions = DataChain.from_json(captions_uri, jmespath = \"annotations\", object_name=\"annotation\", model_name=\"Annotation\")\n",
    "captions = captions.distinct(\"annotation.image_id\")\n",
    "captioned_images = images_meta.merge(captions, on=\"image.id\", right_on=\"annotation.image_id\")\n",
    "captioned_images.print_schema()"
   ]
  },
  {
   "cell_type": "markdown",
   "id": "d22562e3-4d9a-4c19-8f99-8df4e70daf21",
   "metadata": {},
   "source": [
    "#### Image detections\n",
    "##### The next (and the final) step is to bring in the instance detections. This is where it gets more interesting:\n",
    "\n",
    "⚠️ The annotated instances data in 2017 validation COCO subset contain a schema error. If we naively read this data, we will get this Pydantic error:\n",
    "\n",
    "```\n",
    "Validation error occurred in row 36336 file instances_val2017.json: 1 validation error for Instance\n",
    "segmentation.0MB [00:00, 24.2MB/s]\n",
    "  Input should be a valid array [type=list_type, input_value={'counts': [272, 2, 4, 4,...50], 'size': [240, 320]}, input_type=dict]\n",
    "    For further information visit https://errors.pydantic.dev/2.8/v/list_type\n",
    "```\n",
    "\n",
    "##### Indeed, we can verify that schema in 2017 COCO detections changes around entry #36335 through the _instances_val2017.json_ file:\n",
    "\n",
    "```\n",
    "DataChain.from_storage(detections_uri).show_json_schema(model_name=\"Narrative\", jmespath=\"annotations[0]\").exec()\n",
    "\n",
    "                >>>\n",
    "                class Instance(BaseModel):\n",
    "                    segmentation: List[List[float]]\n",
    "                    area: float\n",
    "                    iscrowd: int\n",
    "                    image_id: int\n",
    "                    bbox: List[float]\n",
    "                    category_id: int\n",
    "                    id: int\n",
    "```\n",
    "\n",
    "```\n",
    "DataChain.from_storage(detections_uri).show_json_schema(model_name=\"Narrative\", jmespath=\"annotations[36336]\").exec()\n",
    "\n",
    "                >>>\n",
    "                class Segmentation(BaseModel):\n",
    "                    counts: List[int]\n",
    "                    size: List[int]\n",
    "                \n",
    "                \n",
    "                class Instance(BaseModel):\n",
    "                    segmentation: Segmentation\n",
    "                    area: int\n",
    "                    iscrowd: int\n",
    "                    image_id: int\n",
    "                    bbox: List[int]\n",
    "                    category_id: int\n",
    "                    id: int\n",
    "\n",
    "```\n",
    "\n",
    "To avoid this problem, we will just ignore the last 446 detected instances with argument `nrows`\n",
    "\n",
    "##### Object name collisions\n",
    "\n",
    "If we examing the schema for JSON detections, we will see it carries metadata in array 'annotations' – which is named identical to an array with captions. To avoid namespace collisions, let us rename the detected object instances using an `object_name` argument:"
   ]
  },
  {
   "cell_type": "code",
   "execution_count": null,
   "id": "46c51457-8137-440e-93b9-0e858e9f257e",
   "metadata": {},
   "outputs": [],
   "source": [
    "detections = DataChain.from_json(detections_uri, jmespath = \"annotations\", object_name=\"instance\", model_name=\"Instance\", nrows=36335)\n",
    "instances = captioned_images.merge(detections, on=\"image.id\", right_on=\"instance.image_id\", inner=True).save(\"coco-detections\")"
   ]
  },
  {
   "cell_type": "code",
   "execution_count": 22,
   "id": "34b9eba3-f671-4c2f-aa0f-628f3f38897f",
   "metadata": {},
   "outputs": [
    {
     "data": {
      "text/plain": [
       "36335"
      ]
     },
     "execution_count": 22,
     "metadata": {},
     "output_type": "execute_result"
    }
   ],
   "source": [
    "instances.count()"
   ]
  },
  {
   "cell_type": "code",
   "execution_count": 23,
   "id": "753b62c8-f9a7-4d9c-8842-2365aa2dd69c",
   "metadata": {},
   "outputs": [
    {
     "name": "stdout",
     "output_type": "stream",
     "text": [
      " file: ImageFile\n",
      "     source: str\n",
      "     parent: str\n",
      "     name: str\n",
      "     size: int\n",
      "     version: str\n",
      "     etag: str\n",
      "     is_latest: bool\n",
      "     last_modified: datetime\n",
      "     location: Union[dict, list[dict], NoneType]\n",
      "     vtype: str\n",
      " image: Image\n",
      "     license: int\n",
      "     file_name: str\n",
      "     coco_url: str\n",
      "     height: int\n",
      "     width: int\n",
      "     date_captured: str\n",
      "     flickr_url: str\n",
      "     id: int\n",
      " annotation: Annotation\n",
      "     image_id: int\n",
      "     id: int\n",
      "     caption: str\n",
      " instance: Instance\n",
      "     segmentation: list[list[float]]\n",
      "     area: float\n",
      "     iscrowd: int\n",
      "     image_id: int\n",
      "     bbox: list[float]\n",
      "     category_id: int\n",
      "     id: int\n"
     ]
    }
   ],
   "source": [
    "instances.print_schema()"
   ]
  },
  {
   "cell_type": "markdown",
   "id": "77b6e244-b912-4410-8973-bfca6026354e",
   "metadata": {},
   "source": [
    "##### Great! \n",
    "As a last step, let us collect COCO data categories so we can use names instead of numbers:"
   ]
  },
  {
   "cell_type": "code",
   "execution_count": 24,
   "id": "4d2dd628-e37c-459c-a4b2-0243b7647005",
   "metadata": {},
   "outputs": [
    {
     "name": "stderr",
     "output_type": "stream",
     "text": [
      "Processed: 1 rows [00:00, 686.80 rows/s]\n",
      "Download: 15.0MB [00:01, 13.8MB/s]\n",
      "Download: 19.1MB [00:02, 9.44MB/s]]\u001b[A\n",
      "Processed: 1 rows [00:00, 400.30 rows/s]\n",
      "Processed: 1 rows [00:00, 769.17 rows/s]\n",
      "Processed: 0 rows [00:00, ? rows/s]\n",
      "Download: 0.00B [00:00, ?B/s]\u001b[A\n",
      "Download: 5.02MB [00:00, 13.2MB/s]\u001b[A\n",
      "Download: 10.0MB [00:00, 12.6MB/s]\u001b[A\n",
      "Download: 15.0MB [00:01, 13.1MB/s]\u001b[A\n",
      "\n",
      "Download: 19.1MB [00:01, 11.9MB/s]]\u001b[A\u001b[A\n",
      "Processed: 1 rows [00:02,  2.14s/ rows]\n",
      "Generated: 80 rows [00:00, 16521.95 rows/s]\n"
     ]
    }
   ],
   "source": [
    "categories = DataChain.from_json(detections_uri, jmespath = \"categories\", model_name=\"Category\")\n",
    "categories_iterator = categories.collect(\"categories\")\n",
    "coco_dict = {obj.name: obj.id for obj in categories_iterator}"
   ]
  },
  {
   "cell_type": "markdown",
   "id": "bdda8457-bb89-40b1-b395-188a71c3c042",
   "metadata": {},
   "source": [
    "#### Now we built a dataset with all validation object instances for COCO 2017\n",
    "\n",
    "It is time to do fun stuff!\n",
    "\n",
    "\n",
    "##### For example, let us see images where cats and dogs are shown together:"
   ]
  },
  {
   "cell_type": "code",
   "execution_count": 25,
   "id": "16d992b7-2c08-43cc-ac8b-156a9d31ab64",
   "metadata": {},
   "outputs": [],
   "source": [
    "dogs = instances.filter(Column(\"instance.category_id\") == coco_dict[\"dog\"])\n",
    "cats = instances.filter(Column(\"instance.category_id\") == coco_dict[\"cat\"])\n",
    "\n",
    "# drop all columns in \"cats\" except id and the filename we will be merging on, rename columns to avoid collision at merge\n",
    "cat_ids = cats.mutate(cat_id=Column(\"instance.id\")).mutate(cat_fname=Column(\"file.name\")).select(\"cat_id\", \"cat_fname\")\n",
    "\n",
    "# inner = True, drop all records without a merging match:\n",
    "cats_and_dogs = dogs.merge(cat_ids, on=\"file.name\", right_on=\"cat_fname\", inner=True)"
   ]
  },
  {
   "cell_type": "code",
   "execution_count": 36,
   "id": "1c56e573-d4d4-44af-8f6f-475320687e4d",
   "metadata": {
    "scrolled": true
   },
   "outputs": [
    {
     "data": {
      "image/jpeg": "[encoded data removed]",
      "text/plain": [
       "<PIL.JpegImagePlugin.JpegImageFile image mode=RGB size=500x334>"
      ]
     },
     "execution_count": 36,
     "metadata": {},
     "output_type": "execute_result"
    }
   ],
   "source": [
    "animals = cats_and_dogs.collect(\"file\")\n",
    "next(animals).read()"
   ]
  },
  {
   "cell_type": "markdown",
   "id": "21d275f6-39eb-47ca-955d-dbab21a3ba05",
   "metadata": {},
   "source": [
    "##### We can also the images where a dog is detected but not mentioned in a caption:"
   ]
  },
  {
   "cell_type": "code",
   "execution_count": 35,
   "id": "314c5b07-567b-4a99-98b9-80a735bb4876",
   "metadata": {},
   "outputs": [
    {
     "data": {
      "image/jpeg": "[encoded data removed]",
      "text/plain": [
       "<PIL.JpegImagePlugin.JpegImageFile image mode=RGB size=640x485>"
      ]
     },
     "execution_count": 35,
     "metadata": {},
     "output_type": "execute_result"
    }
   ],
   "source": [
    "unmentioned_dogs = dogs.filter(~Column(\"annotation.caption\").glob('*dog*')).distinct(\"file.name\")\n",
    "lost_dogs = list(unmentioned_dogs.collect(\"file\", \"annotation.caption\", \"instance.bbox\"))\n",
    "lost_dog = lost_dogs[3]\n",
    "lost_dog_pic, lost_dog_caption, bbox = lost_dog\n",
    "lost_dog_pic.read()"
   ]
  },
  {
   "cell_type": "code",
   "execution_count": 31,
   "id": "60e8b6f9-2d10-4365-bb90-1f7735211c2c",
   "metadata": {},
   "outputs": [
    {
     "data": {
      "text/plain": [
       "'A lot of people that are looking at a pool.'"
      ]
     },
     "execution_count": 31,
     "metadata": {},
     "output_type": "execute_result"
    }
   ],
   "source": [
    "lost_dog_caption\n"
   ]
  },
  {
   "cell_type": "markdown",
   "id": "7afaf514-809e-4a01-9c63-c2ebda4bc1e9",
   "metadata": {},
   "source": [
    "##### Let's get this dog out of the bounding box"
   ]
  },
  {
   "cell_type": "code",
   "execution_count": 32,
   "id": "15f316eb-2203-4bbb-8ab3-61feab9b1f2f",
   "metadata": {},
   "outputs": [
    {
     "data": {
      "image/jpeg": "[encoded data removed]",
      "text/plain": [
       "<PIL.Image.Image image mode=RGB size=198x202>"
      ]
     },
     "execution_count": 32,
     "metadata": {},
     "output_type": "execute_result"
    }
   ],
   "source": [
    "x_min = bbox[0]\n",
    "y_min = bbox[1]\n",
    "x_max = bbox[0] + bbox[2] \n",
    "y_max = bbox[1] + bbox[3]\n",
    "bbox_converted = (x_min, y_min, x_max, y_max)\n",
    "image = lost_dogs[3][0].read()\n",
    "recovered_dog = image.crop(bbox_converted)\n",
    "recovered_dog"
   ]
  },
  {
   "cell_type": "markdown",
   "id": "da6687f9-cb6f-427a-9cb4-4222c5f67d79",
   "metadata": {},
   "source": [
    "##### Curiously, COCO also has images captioned as \"dogs\" but lacking the dog detections.\n",
    "\n",
    "In the code below, we are filtering all instances which mention \"dog\" in captions. Since one image may have multiple detected instances, we are interested only in the images that lack the detected \"dog\" category. To find these, we aggregate by the filename, and return only file records without 'dog' category assigned to them. Note that our files in storage were originally configured as 'PIL images' for convenience; we want to maintain this distinction by specifying the ImageFile output type. "
   ]
  },
  {
   "cell_type": "code",
   "execution_count": 30,
   "id": "f083d64a-d1f4-467a-9afb-e5036f583528",
   "metadata": {},
   "outputs": [
    {
     "name": "stderr",
     "output_type": "stream",
     "text": [
      "Processed: 0 rows [00:00, ? rows/s]\n",
      "Processed: 646 rows [00:00, 10666.61 rows/s]\n",
      "Generated: 17 rows [00:00, 325.61 rows/s]\n"
     ]
    },
    {
     "data": {
      "text/plain": [
       "17"
      ]
     },
     "execution_count": 30,
     "metadata": {},
     "output_type": "execute_result"
    }
   ],
   "source": [
    "from datachain.lib.file import ImageFile\n",
    "\n",
    "instances = DataChain.from_dataset(\"coco-detections\")\n",
    "mentioned_dogs = instances.filter(Column(\"annotation.caption\").glob(\"* dog *\"))\n",
    "\n",
    "def no_dog_category(file, instance):\n",
    "    return_file = file[0]\n",
    "    category_set = set([inst.category_id for inst in instance])\n",
    "    if coco_dict[\"dog\"] not in category_set:\n",
    "        yield return_file\n",
    "\n",
    "no_dogs_detected = mentioned_dogs.agg(no_dog_category, output={\"file\": ImageFile}, partition_by = Column(\"file.name\"))\n",
    "no_dogs_detected.count()"
   ]
  },
  {
   "cell_type": "markdown",
   "id": "4872c8d9-c5b2-4835-8946-ef63d7d885f9",
   "metadata": {},
   "source": [
    "##### What are these images?\n",
    "##### They turn out to be various hotdogs, and one picture of a dog on a bus:"
   ]
  },
  {
   "cell_type": "code",
   "execution_count": 34,
   "id": "6d4b5156-303e-4a38-8acb-197f54a7391d",
   "metadata": {},
   "outputs": [
    {
     "name": "stderr",
     "output_type": "stream",
     "text": [
      "Processed: 0 rows [00:00, ? rows/s]\n",
      "Processed: 646 rows [00:00, 10342.90 rows/s]\n",
      "Generated: 17 rows [00:00, 313.85 rows/s]\n"
     ]
    },
    {
     "data": {
      "image/jpeg": "[encoded data removed]",
      "text/plain": [
       "<PIL.JpegImagePlugin.JpegImageFile image mode=RGB size=640x427>"
      ]
     },
     "execution_count": 34,
     "metadata": {},
     "output_type": "execute_result"
    }
   ],
   "source": [
    "mysterious_dogs = list(no_dogs_detected.collect(\"file\"))\n",
    "mysterious_dogs[11].read()"
   ]
  },
  {
   "cell_type": "markdown",
   "id": "b2ff98fe-531a-4de7-9855-2f0744b6b806",
   "metadata": {},
   "source": [
    "### That's it, folks! Enjoy your JSONs."
   ]
  },
  {
   "cell_type": "code",
   "execution_count": null,
   "id": "566846dd-a6fe-4c6c-88d5-5a2caf5bce9f",
   "metadata": {},
   "outputs": [],
   "source": []
  }
 ],
 "metadata": {
  "kernelspec": {
   "display_name": "Python 3 (ipykernel)",
   "language": "python",
   "name": "python3"
  },
  "language_info": {
   "codemirror_mode": {
    "name": "ipython",
    "version": 3
   },
   "file_extension": ".py",
   "mimetype": "text/x-python",
   "name": "python",
   "nbconvert_exporter": "python",
   "pygments_lexer": "ipython3",
   "version": "3.9.4"
  }
 },
 "nbformat": 4,
 "nbformat_minor": 5
}
